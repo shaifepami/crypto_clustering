{
 "cells": [
  {
   "cell_type": "markdown",
   "metadata": {},
   "source": [
    "# Clustering Crypto"
   ]
  },
  {
   "cell_type": "code",
   "execution_count": 52,
   "metadata": {},
   "outputs": [],
   "source": [
    "import requests\n",
    "import pandas as pd\n",
    "import matplotlib.pyplot as plt\n",
    "import hvplot.pandas\n",
    "import plotly.express as px\n",
    "from sklearn.preprocessing import StandardScaler, MinMaxScaler, LabelEncoder\n",
    "from sklearn.decomposition import PCA\n",
    "from sklearn.cluster import KMeans\n",
    "from urllib.request import Request, urlopen\n",
    "import json"
   ]
  },
  {
   "cell_type": "markdown",
   "metadata": {},
   "source": [
    "### Fetching Cryptocurrency Data"
   ]
  },
  {
   "cell_type": "code",
   "execution_count": 53,
   "metadata": {},
   "outputs": [],
   "source": [
    "url = \"https://min-api.cryptocompare.com/data/all/coinlist\"\n",
    "json_request = Request(url)\n",
    "json_response = urlopen(json_request)\n",
    "data = json_response.read()\n",
    "json_data = json.loads(data)"
   ]
  },
  {
   "cell_type": "code",
   "execution_count": 54,
   "metadata": {},
   "outputs": [
    {
     "data": {
      "text/html": "<div>\n<style scoped>\n    .dataframe tbody tr th:only-of-type {\n        vertical-align: middle;\n    }\n\n    .dataframe tbody tr th {\n        vertical-align: top;\n    }\n\n    .dataframe thead th {\n        text-align: right;\n    }\n</style>\n<table border=\"1\" class=\"dataframe\">\n  <thead>\n    <tr style=\"text-align: right;\">\n      <th></th>\n      <th>Algorithm</th>\n      <th>BlockNumber</th>\n      <th>BlockReward</th>\n      <th>BlockTime</th>\n      <th>BuiltOn</th>\n      <th>CoinName</th>\n      <th>ContentCreatedOn</th>\n      <th>FullName</th>\n      <th>FullyPremined</th>\n      <th>Id</th>\n      <th>...</th>\n      <th>Rating</th>\n      <th>SmartContractAddress</th>\n      <th>SortOrder</th>\n      <th>Sponsored</th>\n      <th>Symbol</th>\n      <th>Taxonomy</th>\n      <th>TotalCoinSupply</th>\n      <th>TotalCoinsFreeFloat</th>\n      <th>TotalCoinsMined</th>\n      <th>Url</th>\n    </tr>\n  </thead>\n  <tbody>\n    <tr>\n      <th>42</th>\n      <td>Scrypt</td>\n      <td>154593</td>\n      <td>0</td>\n      <td>0</td>\n      <td>N/A</td>\n      <td>42 Coin</td>\n      <td>1427211129</td>\n      <td>42 Coin (42)</td>\n      <td>0</td>\n      <td>4321</td>\n      <td>...</td>\n      <td>{'Weiss': {'Rating': '', 'TechnologyAdoptionRa...</td>\n      <td>N/A</td>\n      <td>34</td>\n      <td>False</td>\n      <td>42</td>\n      <td>{'Access': '', 'FCA': '', 'FINMA': '', 'Indust...</td>\n      <td>42</td>\n      <td>N/A</td>\n      <td>42</td>\n      <td>/coins/42/overview</td>\n    </tr>\n    <tr>\n      <th>300</th>\n      <td>N/A</td>\n      <td>0</td>\n      <td>0</td>\n      <td>0</td>\n      <td>7605</td>\n      <td>300 token</td>\n      <td>1517935016</td>\n      <td>300 token (300)</td>\n      <td>0</td>\n      <td>749869</td>\n      <td>...</td>\n      <td>{'Weiss': {'Rating': '', 'TechnologyAdoptionRa...</td>\n      <td>0xaec98a708810414878c3bcdf46aad31ded4a4557</td>\n      <td>2212</td>\n      <td>False</td>\n      <td>300</td>\n      <td>{'Access': '', 'FCA': '', 'FINMA': '', 'Indust...</td>\n      <td>300</td>\n      <td>N/A</td>\n      <td>300</td>\n      <td>/coins/300/overview</td>\n    </tr>\n    <tr>\n      <th>365</th>\n      <td>X11</td>\n      <td>NaN</td>\n      <td>NaN</td>\n      <td>NaN</td>\n      <td>N/A</td>\n      <td>365Coin</td>\n      <td>1480032918</td>\n      <td>365Coin (365)</td>\n      <td>0</td>\n      <td>33639</td>\n      <td>...</td>\n      <td>{'Weiss': {'Rating': '', 'TechnologyAdoptionRa...</td>\n      <td>N/A</td>\n      <td>916</td>\n      <td>False</td>\n      <td>365</td>\n      <td>{'Access': '', 'FCA': '', 'FINMA': '', 'Indust...</td>\n      <td>2300000000</td>\n      <td>N/A</td>\n      <td>NaN</td>\n      <td>/coins/365/overview</td>\n    </tr>\n    <tr>\n      <th>404</th>\n      <td>Scrypt</td>\n      <td>287687</td>\n      <td>0</td>\n      <td>60</td>\n      <td>N/A</td>\n      <td>404Coin</td>\n      <td>1466100361</td>\n      <td>404Coin (404)</td>\n      <td>0</td>\n      <td>21227</td>\n      <td>...</td>\n      <td>{'Weiss': {'Rating': '', 'TechnologyAdoptionRa...</td>\n      <td>N/A</td>\n      <td>602</td>\n      <td>False</td>\n      <td>404</td>\n      <td>{'Access': '', 'FCA': '', 'FINMA': '', 'Indust...</td>\n      <td>532000000</td>\n      <td>N/A</td>\n      <td>0</td>\n      <td>/coins/404/overview</td>\n    </tr>\n    <tr>\n      <th>433</th>\n      <td>N/A</td>\n      <td>9191708</td>\n      <td>2</td>\n      <td>0</td>\n      <td>7605</td>\n      <td>433 Token</td>\n      <td>1541597321</td>\n      <td>433 Token (433)</td>\n      <td>0</td>\n      <td>926547</td>\n      <td>...</td>\n      <td>{'Weiss': {'Rating': '', 'TechnologyAdoptionRa...</td>\n      <td>0x738505a5f31bf72e0b70298bca81150eb1b7c751</td>\n      <td>3505</td>\n      <td>False</td>\n      <td>433</td>\n      <td>{'Access': '', 'FCA': '', 'FINMA': '', 'Indust...</td>\n      <td>1000000000</td>\n      <td>N/A</td>\n      <td>1.09091e+08</td>\n      <td>/coins/433/overview</td>\n    </tr>\n  </tbody>\n</table>\n<p>5 rows × 26 columns</p>\n</div>",
      "text/plain": "    Algorithm BlockNumber BlockReward BlockTime BuiltOn   CoinName  \\\n42     Scrypt      154593           0         0     N/A    42 Coin   \n300       N/A           0           0         0    7605  300 token   \n365       X11         NaN         NaN       NaN     N/A    365Coin   \n404    Scrypt      287687           0        60     N/A    404Coin   \n433       N/A     9191708           2         0    7605  433 Token   \n\n    ContentCreatedOn         FullName FullyPremined      Id  \\\n42        1427211129     42 Coin (42)             0    4321   \n300       1517935016  300 token (300)             0  749869   \n365       1480032918    365Coin (365)             0   33639   \n404       1466100361    404Coin (404)             0   21227   \n433       1541597321  433 Token (433)             0  926547   \n\n            ...                                                      Rating  \\\n42          ...           {'Weiss': {'Rating': '', 'TechnologyAdoptionRa...   \n300         ...           {'Weiss': {'Rating': '', 'TechnologyAdoptionRa...   \n365         ...           {'Weiss': {'Rating': '', 'TechnologyAdoptionRa...   \n404         ...           {'Weiss': {'Rating': '', 'TechnologyAdoptionRa...   \n433         ...           {'Weiss': {'Rating': '', 'TechnologyAdoptionRa...   \n\n                           SmartContractAddress SortOrder Sponsored Symbol  \\\n42                                          N/A        34     False     42   \n300  0xaec98a708810414878c3bcdf46aad31ded4a4557      2212     False    300   \n365                                         N/A       916     False    365   \n404                                         N/A       602     False    404   \n433  0x738505a5f31bf72e0b70298bca81150eb1b7c751      3505     False    433   \n\n                                              Taxonomy TotalCoinSupply  \\\n42   {'Access': '', 'FCA': '', 'FINMA': '', 'Indust...              42   \n300  {'Access': '', 'FCA': '', 'FINMA': '', 'Indust...             300   \n365  {'Access': '', 'FCA': '', 'FINMA': '', 'Indust...      2300000000   \n404  {'Access': '', 'FCA': '', 'FINMA': '', 'Indust...       532000000   \n433  {'Access': '', 'FCA': '', 'FINMA': '', 'Indust...      1000000000   \n\n    TotalCoinsFreeFloat TotalCoinsMined                  Url  \n42                  N/A              42   /coins/42/overview  \n300                 N/A             300  /coins/300/overview  \n365                 N/A             NaN  /coins/365/overview  \n404                 N/A               0  /coins/404/overview  \n433                 N/A     1.09091e+08  /coins/433/overview  \n\n[5 rows x 26 columns]"
     },
     "execution_count": 54,
     "metadata": {},
     "output_type": "execute_result"
    }
   ],
   "source": [
    "# Creating a DataFrame (which needed to be transposed)\n",
    "crypto_df = pd.DataFrame(json_data['Data']).T\n",
    "crypto_df.head()\n"
   ]
  },
  {
   "cell_type": "markdown",
   "metadata": {},
   "source": [
    "### Data Preprocessing"
   ]
  },
  {
   "cell_type": "code",
   "execution_count": 55,
   "metadata": {},
   "outputs": [],
   "source": [
    "# Remove unnecessary columns\n",
    "slim_crypto_df = crypto_df.drop(columns=['Rating','TotalCoinsFreeFloat', 'Url', 'Taxonomy', 'SortOrder', 'Sponsored', 'SmartContractAddress', 'Id', 'BuiltOn', 'FullName', 'ImageUrl', 'ContentCreatedOn', 'PreMinedValue'])\n"
   ]
  },
  {
   "cell_type": "code",
   "execution_count": 56,
   "metadata": {},
   "outputs": [],
   "source": [
    "# Keep only cryptocurrencies that are on trading\n",
    "slim_crypto_df = slim_crypto_df.loc[slim_crypto_df['IsTrading'] == True]"
   ]
  },
  {
   "cell_type": "code",
   "execution_count": 57,
   "metadata": {},
   "outputs": [],
   "source": [
    "# Keep only cryptocurrencies with a working algorithm\n",
    "slim_crypto_df = slim_crypto_df.loc[slim_crypto_df['Algorithm'] != 'N/A']"
   ]
  },
  {
   "cell_type": "code",
   "execution_count": 58,
   "metadata": {},
   "outputs": [],
   "source": [
    "# Remove the \"IsTrading\" column\n",
    "slim_crypto_df = slim_crypto_df.drop(columns='IsTrading')\n"
   ]
  },
  {
   "cell_type": "code",
   "execution_count": 59,
   "metadata": {},
   "outputs": [],
   "source": [
    "# Removing rows with at least 1 null value\n",
    "slim_crypto_df = slim_crypto_df.dropna()\n"
   ]
  },
  {
   "cell_type": "code",
   "execution_count": 60,
   "metadata": {},
   "outputs": [],
   "source": [
    "# Removing rows with cryptocurrencies without coins mined\n",
    "slim_crypto_df = slim_crypto_df.loc[slim_crypto_df['TotalCoinsMined'] != 0]\n"
   ]
  },
  {
   "cell_type": "code",
   "execution_count": 61,
   "metadata": {},
   "outputs": [],
   "source": [
    "# Dropping rows where there are 'N/A' text values\n",
    "slim_crypto_df = slim_crypto_df.loc[slim_crypto_df['TotalCoinSupply'] != 'N/A']\n",
    "slim_crypto_df = slim_crypto_df.loc[slim_crypto_df['ProofType'] != 'N/A']\n"
   ]
  },
  {
   "cell_type": "code",
   "execution_count": 62,
   "metadata": {},
   "outputs": [],
   "source": [
    "# Fetching the cryptocurrencies names prior to drop them from crypto_df\n",
    "names = slim_crypto_df\n"
   ]
  },
  {
   "cell_type": "code",
   "execution_count": 63,
   "metadata": {},
   "outputs": [],
   "source": [
    "# Removig the cryptocurrency name since it's not going to be used on the clustering algorithm\n",
    "slim_crypto_df = slim_crypto_df.drop(columns='CoinName')"
   ]
  },
  {
   "cell_type": "code",
   "execution_count": 64,
   "metadata": {},
   "outputs": [],
   "source": [
    "#Change numerical data from objects to floats\n",
    "slim_crypto_df['BlockNumber'] = slim_crypto_df.BlockNumber.astype(float)\n",
    "slim_crypto_df['BlockReward'] = slim_crypto_df.BlockReward.astype(float)\n",
    "slim_crypto_df['BlockTime'] = slim_crypto_df.BlockTime.astype(float)\n",
    "slim_crypto_df['FullyPremined'] = slim_crypto_df.FullyPremined.astype(float)\n",
    "slim_crypto_df['NetHashesPerSecond'] = slim_crypto_df.NetHashesPerSecond.astype(float)\n",
    "slim_crypto_df['TotalCoinSupply'] = slim_crypto_df.TotalCoinSupply.astype(float)\n",
    "slim_crypto_df['TotalCoinsMined'] = slim_crypto_df.TotalCoinsMined.astype(float)"
   ]
  },
  {
   "cell_type": "code",
   "execution_count": 65,
   "metadata": {},
   "outputs": [
    {
     "data": {
      "text/plain": "Algorithm              object\nBlockNumber           float64\nBlockReward           float64\nBlockTime             float64\nFullyPremined         float64\nName                   object\nNetHashesPerSecond    float64\nProofType              object\nSymbol                 object\nTotalCoinSupply       float64\nTotalCoinsMined       float64\ndtype: object"
     },
     "execution_count": 65,
     "metadata": {},
     "output_type": "execute_result"
    }
   ],
   "source": [
    "slim_crypto_df.dtypes"
   ]
  },
  {
   "cell_type": "code",
   "execution_count": 66,
   "metadata": {},
   "outputs": [],
   "source": [
    "# Creating dummies variables for text features\n",
    "slim_crypto_encoded = pd.get_dummies(data=slim_crypto_df, columns=['Name', 'Algorithm', 'ProofType', 'Symbol'])"
   ]
  },
  {
   "cell_type": "code",
   "execution_count": 67,
   "metadata": {},
   "outputs": [
    {
     "data": {
      "text/plain": "array([[-0.22456037, -0.10127615, -0.0756658 , ..., -0.04360207,\n        -0.04360207, -0.04360207],\n       [ 0.35771366, -0.10127615, -0.07566524, ..., -0.04360207,\n        -0.04360207, -0.04360207],\n       [-0.26580413, -0.10127615, -0.0756658 , ..., -0.04360207,\n        -0.04360207, -0.04360207],\n       ...,\n       [-0.26580413, -0.09997187, -0.07566563, ..., -0.04360207,\n        -0.04360207, -0.04360207],\n       [ 0.05347729, -0.10026318, -0.0756645 , ..., -0.04360207,\n        -0.04360207, -0.04360207],\n       [-0.08538307, -0.09801545, -0.0756644 , ..., -0.04360207,\n        -0.04360207, -0.04360207]])"
     },
     "execution_count": 67,
     "metadata": {},
     "output_type": "execute_result"
    }
   ],
   "source": [
    "# Standardizing data\n",
    "slim_crypto_df_scaled = StandardScaler().fit_transform(slim_crypto_encoded)\n",
    "slim_crypto_df_scaled\n"
   ]
  },
  {
   "cell_type": "markdown",
   "metadata": {},
   "source": [
    "### Reducing Dimensions Using PCA"
   ]
  },
  {
   "cell_type": "code",
   "execution_count": 68,
   "metadata": {},
   "outputs": [],
   "source": [
    "# Using PCA to reduce dimension to 3 principal components\n",
    "pca = PCA(n_components=3)\n",
    "crypto_pca = pca.fit_transform(slim_crypto_df_scaled)\n"
   ]
  },
  {
   "cell_type": "code",
   "execution_count": 69,
   "metadata": {},
   "outputs": [
    {
     "data": {
      "text/html": "<div>\n<style scoped>\n    .dataframe tbody tr th:only-of-type {\n        vertical-align: middle;\n    }\n\n    .dataframe tbody tr th {\n        vertical-align: top;\n    }\n\n    .dataframe thead th {\n        text-align: right;\n    }\n</style>\n<table border=\"1\" class=\"dataframe\">\n  <thead>\n    <tr style=\"text-align: right;\">\n      <th></th>\n      <th>PC 1</th>\n      <th>PC 2</th>\n      <th>PC 3</th>\n    </tr>\n  </thead>\n  <tbody>\n    <tr>\n      <th>42</th>\n      <td>-0.458619</td>\n      <td>0.559045</td>\n      <td>-1.130120</td>\n    </tr>\n    <tr>\n      <th>1337</th>\n      <td>3.113561</td>\n      <td>1.018120</td>\n      <td>-1.788784</td>\n    </tr>\n    <tr>\n      <th>BTCD</th>\n      <td>-0.342951</td>\n      <td>0.698210</td>\n      <td>-0.657980</td>\n    </tr>\n    <tr>\n      <th>XPY</th>\n      <td>-0.337899</td>\n      <td>0.928244</td>\n      <td>-0.073262</td>\n    </tr>\n    <tr>\n      <th>PRC</th>\n      <td>-0.167448</td>\n      <td>-1.052567</td>\n      <td>0.775603</td>\n    </tr>\n  </tbody>\n</table>\n</div>",
      "text/plain": "          PC 1      PC 2      PC 3\n42   -0.458619  0.559045 -1.130120\n1337  3.113561  1.018120 -1.788784\nBTCD -0.342951  0.698210 -0.657980\nXPY  -0.337899  0.928244 -0.073262\nPRC  -0.167448 -1.052567  0.775603"
     },
     "execution_count": 69,
     "metadata": {},
     "output_type": "execute_result"
    }
   ],
   "source": [
    "# Creating a DataFrame with the principal components data\n",
    "pca_df = pd.DataFrame(\n",
    "    data=crypto_pca, columns=[\"PC 1\", \"PC 2\", \"PC 3\"], index=slim_crypto_df.index\n",
    ")\n",
    "pca_df.head()\n"
   ]
  },
  {
   "cell_type": "markdown",
   "metadata": {},
   "source": [
    "### Clustering Crytocurrencies Using K-Means\n",
    "\n",
    "#### Finding the Best Value for `k` Using the Elbow Curve"
   ]
  },
  {
   "cell_type": "code",
   "execution_count": 70,
   "metadata": {},
   "outputs": [
    {
     "data": {
      "application/vnd.holoviews_exec.v0+json": "",
      "text/html": "<div id='1214' style='display: table; margin: 0 auto;'>\n\n\n\n\n\n  <div class=\"bk-root\" id=\"1bf35bca-645b-4652-8e03-60260c5e15b5\" data-root-id=\"1214\"></div>\n</div>\n<script type=\"application/javascript\">(function(root) {\n  function embed_document(root) {\n    \n  var docs_json = {\"3f489432-3fbd-4713-8b66-11c1722ea226\":{\"roots\":{\"references\":[{\"attributes\":{\"align\":null,\"below\":[{\"id\":\"1223\",\"type\":\"LinearAxis\"}],\"center\":[{\"id\":\"1227\",\"type\":\"Grid\"},{\"id\":\"1232\",\"type\":\"Grid\"}],\"left\":[{\"id\":\"1228\",\"type\":\"LinearAxis\"}],\"margin\":null,\"min_border_bottom\":10,\"min_border_left\":10,\"min_border_right\":10,\"min_border_top\":10,\"plot_height\":300,\"plot_width\":700,\"renderers\":[{\"id\":\"1251\",\"type\":\"GlyphRenderer\"}],\"sizing_mode\":\"fixed\",\"title\":{\"id\":\"1215\",\"type\":\"Title\"},\"toolbar\":{\"id\":\"1238\",\"type\":\"Toolbar\"},\"x_range\":{\"id\":\"1211\",\"type\":\"Range1d\"},\"x_scale\":{\"id\":\"1219\",\"type\":\"LinearScale\"},\"y_range\":{\"id\":\"1212\",\"type\":\"Range1d\"},\"y_scale\":{\"id\":\"1221\",\"type\":\"LinearScale\"}},\"id\":\"1214\",\"subtype\":\"Figure\",\"type\":\"Plot\"},{\"attributes\":{\"data_source\":{\"id\":\"1245\",\"type\":\"ColumnDataSource\"},\"glyph\":{\"id\":\"1248\",\"type\":\"Line\"},\"hover_glyph\":null,\"muted_glyph\":{\"id\":\"1250\",\"type\":\"Line\"},\"nonselection_glyph\":{\"id\":\"1249\",\"type\":\"Line\"},\"selection_glyph\":null,\"view\":{\"id\":\"1252\",\"type\":\"CDSView\"}},\"id\":\"1251\",\"type\":\"GlyphRenderer\"},{\"attributes\":{},\"id\":\"1233\",\"type\":\"SaveTool\"},{\"attributes\":{\"source\":{\"id\":\"1245\",\"type\":\"ColumnDataSource\"}},\"id\":\"1252\",\"type\":\"CDSView\"},{\"attributes\":{},\"id\":\"1266\",\"type\":\"UnionRenderers\"},{\"attributes\":{},\"id\":\"1234\",\"type\":\"PanTool\"},{\"attributes\":{\"line_alpha\":0.2,\"line_color\":\"#1f77b4\",\"line_width\":2,\"x\":{\"field\":\"k\"},\"y\":{\"field\":\"inertia\"}},\"id\":\"1250\",\"type\":\"Line\"},{\"attributes\":{},\"id\":\"1235\",\"type\":\"WheelZoomTool\"},{\"attributes\":{\"overlay\":{\"id\":\"1264\",\"type\":\"BoxAnnotation\"}},\"id\":\"1236\",\"type\":\"BoxZoomTool\"},{\"attributes\":{\"line_color\":\"#1f77b4\",\"line_width\":2,\"x\":{\"field\":\"k\"},\"y\":{\"field\":\"inertia\"}},\"id\":\"1248\",\"type\":\"Line\"},{\"attributes\":{},\"id\":\"1259\",\"type\":\"BasicTickFormatter\"},{\"attributes\":{},\"id\":\"1237\",\"type\":\"ResetTool\"},{\"attributes\":{\"line_alpha\":0.1,\"line_color\":\"#1f77b4\",\"line_width\":2,\"x\":{\"field\":\"k\"},\"y\":{\"field\":\"inertia\"}},\"id\":\"1249\",\"type\":\"Line\"},{\"attributes\":{\"callback\":null,\"data\":{\"inertia\":{\"__ndarray__\":\"2dyvW7OUukAANNDBnuyyQDmc8ebHaqpA7cxj1MI0mkAAOt57a2OUQDw6U+IDCZBAyBuB5hDeikCSJc6kGtCFQMf7f0aOLoJAU6kZIv53fkA=\",\"dtype\":\"float64\",\"shape\":[10]},\"k\":[1,2,3,4,5,6,7,8,9,10]},\"selected\":{\"id\":\"1246\",\"type\":\"Selection\"},\"selection_policy\":{\"id\":\"1266\",\"type\":\"UnionRenderers\"}},\"id\":\"1245\",\"type\":\"ColumnDataSource\"},{\"attributes\":{\"active_drag\":\"auto\",\"active_inspect\":\"auto\",\"active_multi\":null,\"active_scroll\":\"auto\",\"active_tap\":\"auto\",\"tools\":[{\"id\":\"1213\",\"type\":\"HoverTool\"},{\"id\":\"1233\",\"type\":\"SaveTool\"},{\"id\":\"1234\",\"type\":\"PanTool\"},{\"id\":\"1235\",\"type\":\"WheelZoomTool\"},{\"id\":\"1236\",\"type\":\"BoxZoomTool\"},{\"id\":\"1237\",\"type\":\"ResetTool\"}]},\"id\":\"1238\",\"type\":\"Toolbar\"},{\"attributes\":{\"ticks\":[1,2,3,4,5,6,7,8,9,10]},\"id\":\"1253\",\"type\":\"FixedTicker\"},{\"attributes\":{\"text\":\"Elbow Visualization\",\"text_color\":{\"value\":\"black\"},\"text_font_size\":{\"value\":\"12pt\"}},\"id\":\"1215\",\"type\":\"Title\"},{\"attributes\":{\"bottom_units\":\"screen\",\"fill_alpha\":{\"value\":0.5},\"fill_color\":{\"value\":\"lightgrey\"},\"left_units\":\"screen\",\"level\":\"overlay\",\"line_alpha\":{\"value\":1.0},\"line_color\":{\"value\":\"black\"},\"line_dash\":[4,4],\"line_width\":{\"value\":2},\"render_mode\":\"css\",\"right_units\":\"screen\",\"top_units\":\"screen\"},\"id\":\"1264\",\"type\":\"BoxAnnotation\"},{\"attributes\":{},\"id\":\"1219\",\"type\":\"LinearScale\"},{\"attributes\":{\"callback\":null,\"end\":10.0,\"reset_end\":10.0,\"reset_start\":1.0,\"start\":1.0,\"tags\":[[[\"k\",\"k\",null]]]},\"id\":\"1211\",\"type\":\"Range1d\"},{\"attributes\":{},\"id\":\"1221\",\"type\":\"LinearScale\"},{\"attributes\":{},\"id\":\"1255\",\"type\":\"BasicTickFormatter\"},{\"attributes\":{\"axis_label\":\"Number of Clusters\",\"bounds\":\"auto\",\"formatter\":{\"id\":\"1255\",\"type\":\"BasicTickFormatter\"},\"major_label_orientation\":\"horizontal\",\"ticker\":{\"id\":\"1253\",\"type\":\"FixedTicker\"}},\"id\":\"1223\",\"type\":\"LinearAxis\"},{\"attributes\":{},\"id\":\"1224\",\"type\":\"BasicTicker\"},{\"attributes\":{\"grid_line_color\":null,\"ticker\":{\"id\":\"1224\",\"type\":\"BasicTicker\"}},\"id\":\"1227\",\"type\":\"Grid\"},{\"attributes\":{\"axis_label\":\"Inertia\",\"bounds\":\"auto\",\"formatter\":{\"id\":\"1259\",\"type\":\"BasicTickFormatter\"},\"major_label_orientation\":\"horizontal\",\"ticker\":{\"id\":\"1229\",\"type\":\"BasicTicker\"}},\"id\":\"1228\",\"type\":\"LinearAxis\"},{\"attributes\":{},\"id\":\"1229\",\"type\":\"BasicTicker\"},{\"attributes\":{\"dimension\":1,\"grid_line_color\":null,\"ticker\":{\"id\":\"1229\",\"type\":\"BasicTicker\"}},\"id\":\"1232\",\"type\":\"Grid\"},{\"attributes\":{\"callback\":null,\"end\":6804.700617782038,\"reset_end\":6804.700617782038,\"reset_start\":487.499544239273,\"start\":487.499544239273,\"tags\":[[[\"inertia\",\"inertia\",null]]]},\"id\":\"1212\",\"type\":\"Range1d\"},{\"attributes\":{},\"id\":\"1246\",\"type\":\"Selection\"},{\"attributes\":{\"callback\":null,\"renderers\":[{\"id\":\"1251\",\"type\":\"GlyphRenderer\"}],\"tags\":[\"hv_created\"],\"tooltips\":[[\"k\",\"@{k}\"],[\"inertia\",\"@{inertia}\"]]},\"id\":\"1213\",\"type\":\"HoverTool\"}],\"root_ids\":[\"1214\"]},\"title\":\"Bokeh Application\",\"version\":\"1.2.0\"}};\n  var render_items = [{\"docid\":\"3f489432-3fbd-4713-8b66-11c1722ea226\",\"roots\":{\"1214\":\"1bf35bca-645b-4652-8e03-60260c5e15b5\"}}];\n  root.Bokeh.embed.embed_items_notebook(docs_json, render_items);\n\n  }\n  if (root.Bokeh !== undefined) {\n    embed_document(root);\n  } else {\n    var attempts = 0;\n    var timer = setInterval(function(root) {\n      if (root.Bokeh !== undefined) {\n        embed_document(root);\n        clearInterval(timer);\n      }\n      attempts++;\n      if (attempts > 100) {\n        console.log(\"Bokeh: ERROR: Unable to run BokehJS code because BokehJS library is missing\");\n        clearInterval(timer);\n      }\n    }, 10, root)\n  }\n})(window);</script>",
      "text/plain": ":Curve   [k]   (inertia)"
     },
     "execution_count": 70,
     "metadata": {
      "application/vnd.holoviews_exec.v0+json": {
       "id": "1214"
      }
     },
     "output_type": "execute_result"
    }
   ],
   "source": [
    "inertia = []\n",
    "k = list(range(1, 11))\n",
    "\n",
    "# Calculate the inertia for the range ok k values\n",
    "for i in k:\n",
    "    km = KMeans(n_clusters=i, random_state=0)\n",
    "    km.fit(pca_df)\n",
    "    inertia.append(km.inertia_)\n",
    "\n",
    "# Create the Elbow Curve using hvPlot\n",
    "elbow_data = {\"k\": k, \"inertia\": inertia}\n",
    "df_elbow = pd.DataFrame(elbow_data)\n",
    "df_elbow.hvplot.line(x=\"k\", y=\"inertia\", xticks=k, title=\"Elbow Visualization\", xlabel=\"Number of Clusters\", ylabel=\"Inertia\")"
   ]
  },
  {
   "cell_type": "markdown",
   "metadata": {},
   "source": [
    "Running K-Means with `k=<you best value for k here>`"
   ]
  },
  {
   "cell_type": "code",
   "execution_count": 71,
   "metadata": {},
   "outputs": [
    {
     "data": {
      "text/html": "<div>\n<style scoped>\n    .dataframe tbody tr th:only-of-type {\n        vertical-align: middle;\n    }\n\n    .dataframe tbody tr th {\n        vertical-align: top;\n    }\n\n    .dataframe thead th {\n        text-align: right;\n    }\n</style>\n<table border=\"1\" class=\"dataframe\">\n  <thead>\n    <tr style=\"text-align: right;\">\n      <th></th>\n      <th>CoinName</th>\n      <th>Algorithm</th>\n      <th>ProofType</th>\n      <th>TotalCoinsMined</th>\n      <th>TotalCoinSupply</th>\n      <th>PC 1</th>\n      <th>PC 2</th>\n      <th>PC 3</th>\n      <th>Class</th>\n      <th>Predictions</th>\n    </tr>\n  </thead>\n  <tbody>\n    <tr>\n      <th>42</th>\n      <td>42 Coin</td>\n      <td>Scrypt</td>\n      <td>PoW/PoS</td>\n      <td>4.199995e+01</td>\n      <td>4.200000e+01</td>\n      <td>-0.458619</td>\n      <td>0.559045</td>\n      <td>-1.130120</td>\n      <td>0</td>\n      <td>0</td>\n    </tr>\n    <tr>\n      <th>1337</th>\n      <td>EliteCoin</td>\n      <td>X13</td>\n      <td>PoW/PoS</td>\n      <td>2.934636e+10</td>\n      <td>3.141593e+11</td>\n      <td>3.113561</td>\n      <td>1.018120</td>\n      <td>-1.788784</td>\n      <td>4</td>\n      <td>4</td>\n    </tr>\n    <tr>\n      <th>BTCD</th>\n      <td>BitcoinDark</td>\n      <td>SHA-256</td>\n      <td>PoW/PoS</td>\n      <td>1.288862e+06</td>\n      <td>2.200000e+07</td>\n      <td>-0.342951</td>\n      <td>0.698210</td>\n      <td>-0.657980</td>\n      <td>0</td>\n      <td>0</td>\n    </tr>\n    <tr>\n      <th>XPY</th>\n      <td>PayCoin</td>\n      <td>SHA-256</td>\n      <td>PoS</td>\n      <td>1.199533e+07</td>\n      <td>1.250000e+07</td>\n      <td>-0.337899</td>\n      <td>0.928244</td>\n      <td>-0.073262</td>\n      <td>0</td>\n      <td>0</td>\n    </tr>\n    <tr>\n      <th>PRC</th>\n      <td>ProsperCoin</td>\n      <td>Scrypt</td>\n      <td>PoW</td>\n      <td>6.166865e+06</td>\n      <td>2.100000e+07</td>\n      <td>-0.167448</td>\n      <td>-1.052567</td>\n      <td>0.775603</td>\n      <td>1</td>\n      <td>1</td>\n    </tr>\n  </tbody>\n</table>\n</div>",
      "text/plain": "         CoinName Algorithm ProofType  TotalCoinsMined  TotalCoinSupply  \\\n42        42 Coin    Scrypt   PoW/PoS     4.199995e+01     4.200000e+01   \n1337    EliteCoin       X13   PoW/PoS     2.934636e+10     3.141593e+11   \nBTCD  BitcoinDark   SHA-256   PoW/PoS     1.288862e+06     2.200000e+07   \nXPY       PayCoin   SHA-256       PoS     1.199533e+07     1.250000e+07   \nPRC   ProsperCoin    Scrypt       PoW     6.166865e+06     2.100000e+07   \n\n          PC 1      PC 2      PC 3  Class  Predictions  \n42   -0.458619  0.559045 -1.130120      0            0  \n1337  3.113561  1.018120 -1.788784      4            4  \nBTCD -0.342951  0.698210 -0.657980      0            0  \nXPY  -0.337899  0.928244 -0.073262      0            0  \nPRC  -0.167448 -1.052567  0.775603      1            1  "
     },
     "execution_count": 71,
     "metadata": {},
     "output_type": "execute_result"
    }
   ],
   "source": [
    "kmodel = KMeans(n_clusters=6, random_state=0)\n",
    "\n",
    "# Fit the model\n",
    "kmodel.fit(pca_df)\n",
    "\n",
    "# Predict clusters\n",
    "predictions = kmodel.predict(pca_df)\n",
    "\n",
    "# Creating a new DataFrame including predicted clusters and cryptocurrencies features\n",
    "clustered_df = pd.DataFrame({\n",
    "    \"CoinName\": names.CoinName,\n",
    "    \"Algorithm\": slim_crypto_df.Algorithm,\n",
    "    \"ProofType\": slim_crypto_df.ProofType,\n",
    "    \"TotalCoinsMined\": slim_crypto_df.TotalCoinsMined,\n",
    "    \"TotalCoinSupply\": slim_crypto_df.TotalCoinSupply,\n",
    "    \"PC 1\": pca_df['PC 1'],\n",
    "    \"PC 2\": pca_df['PC 2'],\n",
    "    \"PC 3\": pca_df['PC 3'],\n",
    "    \"Class\": kmodel.labels_,\n",
    "    \"Predictions\": predictions, \n",
    "    },\n",
    ")\n",
    "clustered_df.head()\n"
   ]
  },
  {
   "cell_type": "markdown",
   "metadata": {},
   "source": [
    "### Visualizing Results\n",
    "\n",
    "#### 3D-Scatter with Clusters"
   ]
  },
  {
   "cell_type": "code",
   "execution_count": 72,
   "metadata": {},
   "outputs": [
    {
     "data": {
      "application/vnd.plotly.v1+json": {
       "config": {
        "plotlyServerURL": "https://plot.ly"
       },
       "data": [
        {
         "customdata": [
          [
           "Scrypt"
          ],
          [
           "SHA-256"
          ],
          [
           "SHA-256"
          ],
          [
           "X15"
          ],
          [
           "Scrypt"
          ],
          [
           "Scrypt"
          ],
          [
           "Scrypt"
          ],
          [
           "Scrypt"
          ],
          [
           "Scrypt"
          ],
          [
           "Groestl"
          ],
          [
           "PoS"
          ],
          [
           "Scrypt"
          ],
          [
           "X11"
          ],
          [
           "SHA3"
          ],
          [
           "Scrypt"
          ],
          [
           "SHA-256"
          ],
          [
           "Scrypt"
          ],
          [
           "NeoScrypt"
          ],
          [
           "Scrypt"
          ],
          [
           "X11"
          ],
          [
           "X11"
          ],
          [
           "Multiple"
          ],
          [
           "X11"
          ],
          [
           "Scrypt"
          ],
          [
           "Scrypt"
          ],
          [
           "Scrypt"
          ],
          [
           "X11"
          ],
          [
           "Multiple"
          ],
          [
           "X13"
          ],
          [
           "Scrypt"
          ],
          [
           "Counterparty"
          ],
          [
           "SHA-256"
          ],
          [
           "Groestl"
          ],
          [
           "Scrypt"
          ],
          [
           "X13"
          ],
          [
           "Scrypt"
          ],
          [
           "Scrypt"
          ],
          [
           "X13"
          ],
          [
           "Scrypt"
          ],
          [
           "X13"
          ],
          [
           "X11"
          ],
          [
           "X11"
          ],
          [
           "Scrypt"
          ],
          [
           "NeoScrypt"
          ],
          [
           "Scrypt"
          ],
          [
           "SHA-256"
          ],
          [
           "Scrypt"
          ],
          [
           "Scrypt"
          ],
          [
           "X11"
          ],
          [
           "Scrypt"
          ],
          [
           "X11"
          ],
          [
           "Scrypt"
          ],
          [
           "QUAIT"
          ],
          [
           "SHA-256"
          ],
          [
           "X11"
          ],
          [
           "X11"
          ],
          [
           "Scrypt"
          ],
          [
           "Scrypt"
          ],
          [
           "Scrypt"
          ],
          [
           "X13"
          ],
          [
           "X11"
          ],
          [
           "Scrypt"
          ],
          [
           "PoS"
          ],
          [
           "X15"
          ],
          [
           "X11"
          ],
          [
           "SHA-256"
          ],
          [
           "SHA-256"
          ],
          [
           "X11"
          ],
          [
           "SHA-256"
          ],
          [
           "Scrypt"
          ],
          [
           "NIST5"
          ],
          [
           "Scrypt"
          ],
          [
           "X11"
          ],
          [
           "Scrypt"
          ],
          [
           "Scrypt"
          ],
          [
           "X11"
          ],
          [
           "Scrypt"
          ],
          [
           "SHA-256"
          ],
          [
           "Scrypt"
          ],
          [
           "PoS"
          ],
          [
           "X11"
          ],
          [
           "SHA-256"
          ],
          [
           "SHA-256"
          ],
          [
           "NIST5"
          ],
          [
           "X11"
          ],
          [
           "POS 3.0"
          ],
          [
           "Scrypt"
          ],
          [
           "Scrypt"
          ],
          [
           "Scrypt"
          ],
          [
           "X13"
          ],
          [
           "X11"
          ],
          [
           "X11"
          ],
          [
           "Scrypt"
          ],
          [
           "SHA-256"
          ],
          [
           "X11"
          ],
          [
           "Scrypt"
          ],
          [
           "Scrypt"
          ],
          [
           "Scrypt"
          ],
          [
           "Scrypt"
          ],
          [
           "SHA-256D"
          ],
          [
           "PoS"
          ],
          [
           "Scrypt"
          ],
          [
           "X11"
          ],
          [
           "PoS"
          ],
          [
           "X13"
          ],
          [
           "X14"
          ],
          [
           "PoS"
          ],
          [
           "SHA-256D"
          ],
          [
           "X11"
          ],
          [
           "X13"
          ],
          [
           "X11"
          ],
          [
           "PoS"
          ],
          [
           "Scrypt"
          ],
          [
           "Scrypt"
          ],
          [
           "PoS"
          ],
          [
           "X11"
          ],
          [
           "SHA-256"
          ],
          [
           "Scrypt"
          ],
          [
           "X11"
          ],
          [
           "Scrypt"
          ],
          [
           "Scrypt"
          ],
          [
           "X11"
          ],
          [
           "Scrypt"
          ],
          [
           "Scrypt"
          ],
          [
           "Scrypt"
          ],
          [
           "Scrypt"
          ],
          [
           "QuBit"
          ],
          [
           "Scrypt"
          ],
          [
           "SHA-256"
          ],
          [
           "X11"
          ],
          [
           "Scrypt"
          ],
          [
           "Scrypt"
          ],
          [
           "Scrypt"
          ],
          [
           "X13"
          ],
          [
           "Scrypt"
          ],
          [
           "Scrypt"
          ],
          [
           "X11"
          ],
          [
           "Blake2S"
          ],
          [
           "X11"
          ],
          [
           "PoS"
          ],
          [
           "X11"
          ],
          [
           "PoS"
          ],
          [
           "X11"
          ],
          [
           "Scrypt"
          ],
          [
           "Scrypt"
          ],
          [
           "Scrypt"
          ],
          [
           "SHA-256"
          ],
          [
           "X11"
          ],
          [
           "Scrypt"
          ],
          [
           "PoS"
          ],
          [
           "Scrypt"
          ],
          [
           "X15"
          ],
          [
           "SHA-256"
          ],
          [
           "X11"
          ],
          [
           "536"
          ],
          [
           "NIST5"
          ],
          [
           "NIST5"
          ],
          [
           "Skein"
          ],
          [
           "X13"
          ],
          [
           "PoS"
          ],
          [
           "Scrypt"
          ],
          [
           "X13"
          ],
          [
           "SkunkHash v2 Raptor"
          ],
          [
           "Skein"
          ],
          [
           "X11"
          ],
          [
           "Scrypt"
          ],
          [
           "PoS"
          ],
          [
           "Scrypt"
          ],
          [
           "Scrypt"
          ],
          [
           "SHA-512"
          ],
          [
           "X11"
          ],
          [
           "NeoScrypt"
          ],
          [
           "Scrypt"
          ],
          [
           "Lyra2REv2"
          ],
          [
           "Scrypt"
          ],
          [
           "SHA-256"
          ],
          [
           "NIST5"
          ],
          [
           "PHI1612"
          ],
          [
           "Scrypt"
          ],
          [
           "Quark"
          ],
          [
           "POS 2.0"
          ],
          [
           "Scrypt"
          ],
          [
           "X11"
          ],
          [
           "NIST5"
          ],
          [
           "Scrypt"
          ],
          [
           "NIST5"
          ],
          [
           "Quark"
          ],
          [
           "Scrypt"
          ],
          [
           "Scrypt"
          ],
          [
           "Quark"
          ],
          [
           "Scrypt"
          ],
          [
           "Scrypt"
          ],
          [
           "X11"
          ],
          [
           "POS 3.0"
          ],
          [
           "Scrypt"
          ],
          [
           "X13"
          ],
          [
           "C11"
          ],
          [
           "X11"
          ],
          [
           "XEVAN"
          ],
          [
           "Scrypt"
          ],
          [
           "NIST5"
          ],
          [
           "Scrypt"
          ],
          [
           "Scrypt"
          ],
          [
           "Scrypt"
          ],
          [
           "Green Protocol"
          ],
          [
           "PoS"
          ],
          [
           "Scrypt"
          ],
          [
           "Quark"
          ],
          [
           "PoS"
          ],
          [
           "X16R"
          ],
          [
           "XEVAN"
          ],
          [
           "Scrypt"
          ],
          [
           "Scrypt"
          ],
          [
           "Scrypt"
          ],
          [
           "SHA-256D"
          ],
          [
           "Scrypt"
          ],
          [
           "X15"
          ],
          [
           "Scrypt"
          ],
          [
           "Quark"
          ],
          [
           "SHA-256"
          ],
          [
           "DPoS"
          ],
          [
           "X16R"
          ],
          [
           "Quark"
          ],
          [
           "Quark"
          ],
          [
           "Lyra2REv2"
          ],
          [
           "Quark"
          ],
          [
           "Scrypt"
          ],
          [
           "X11"
          ],
          [
           "X11"
          ],
          [
           "Scrypt"
          ],
          [
           "PoS"
          ],
          [
           "X11"
          ],
          [
           "Scrypt"
          ],
          [
           "XEVAN"
          ],
          [
           "SHA-256"
          ],
          [
           "XEVAN"
          ],
          [
           "X11"
          ],
          [
           "Quark"
          ],
          [
           "Quark"
          ],
          [
           "Scrypt"
          ],
          [
           "Quark"
          ],
          [
           "Quark"
          ],
          [
           "Scrypt"
          ],
          [
           "Scrypt"
          ],
          [
           "XEVAN"
          ],
          [
           "SHA-256D"
          ],
          [
           "X11"
          ],
          [
           "Quark"
          ],
          [
           "SHA-512"
          ],
          [
           "Multiple"
          ],
          [
           "HEX"
          ],
          [
           "Quark"
          ],
          [
           "Ouroboros"
          ],
          [
           "SHA-512"
          ],
          [
           "PoS"
          ],
          [
           "POS 3.0"
          ],
          [
           "SHA3"
          ],
          [
           "SHA-256"
          ],
          [
           "Scrypt"
          ],
          [
           "Scrypt"
          ],
          [
           "VBFT"
          ],
          [
           "Scrypt"
          ],
          [
           "SHA-256"
          ],
          [
           "Equihash210,9"
          ],
          [
           "X11"
          ],
          [
           "X13"
          ],
          [
           "Scrypt"
          ],
          [
           "Shabal256"
          ],
          [
           "PoS"
          ],
          [
           "X13"
          ],
          [
           "BLAKE256"
          ],
          [
           "X11"
          ]
         ],
         "hoverlabel": {
          "namelength": 0
         },
         "hovertemplate": "<b>%{hovertext}</b><br><br>Class=%{marker.color}<br>PC 1=%{x}<br>PC 2=%{y}<br>PC 3=%{z}<br>Algorithm=%{customdata[0]}",
         "hovertext": [
          "42 Coin",
          "BitcoinDark",
          "PayCoin",
          "KoboCoin",
          "BlueCoin",
          "EnergyCoin",
          "BitBar",
          "CryptoBullion",
          "CasinoCoin",
          "Diamond",
          "Exclusive Coin",
          "HoboNickels",
          "HyperStake",
          "MaxCoin",
          "MintCoin",
          "MazaCoin",
          "Nautilus Coin",
          "Orbitcoin",
          "PhoenixCoin",
          "SuperCoin",
          "SyncCoin",
          "TeslaCoin",
          "TorCoin",
          "UnitaryStatus Dollar",
          "UltraCoin",
          "VeriCoin",
          "X11 Coin",
          "Crypti",
          "StealthCoin",
          "ZCC Coin",
          "StorjCoin",
          "Neutron",
          "FairCoin",
          "RubyCoin",
          "Kore",
          "Dnotes",
          "8BIT Coin",
          "Sativa Coin",
          "LiteDoge",
          "Triangles Coin",
          "TruckCoin",
          "Ucoin",
          "OrangeCoin",
          "FriendshipCoin",
          "BitstarCoin",
          "NeosCoin",
          "HyperCoin",
          "Vtorrent",
          "PinkCoin",
          "BitcoinPlus",
          "IslaCoin",
          "AudioCoin",
          "Droidz",
          "IncaKoin",
          "Squall Coin",
          "Piggy Coin",
          "Genstake",
          "Diggits",
          "XiaoMiCoin",
          "Paycon",
          "CapriCoin",
          " ClubCoin",
          "Radium",
          "EverGreenCoin",
          "Creditbit ",
          "OKCash",
          "EDRCoin",
          "Hitcoin",
          "DubaiCoin",
          "HiCoin",
          "PWR Coin",
          "BillaryCoin",
          "Influxcoin",
          "GPU Coin",
          "Gapcoin",
          "EuropeCoin",
          "ZeitCoin",
          "SwingCoin",
          "SafeExchangeCoin",
          "Nebuchadnezzar",
          "Ratecoin",
          "Revenu",
          "Clockcoin",
          "VIP Tokens",
          "BitSend",
          "Let it Ride",
          "PutinCoin",
          "iBankCoin",
          "Frankywillcoin",
          "MudraCoin",
          "Lutetium Coin",
          "GoldBlocks",
          "CarterCoin",
          "BitTokens",
          "MustangCoin",
          "ZoneCoin",
          "RootCoin",
          "BitCurrency",
          "Swiscoin",
          "BuzzCoin",
          "Opair",
          "PesoBit",
          "Halloween Coin",
          "CoffeeCoin",
          "RoyalCoin",
          "GanjaCoin V2",
          "TeamUP",
          "LanaCoin",
          "InsaneCoin",
          "EmberCoin",
          "XenixCoin",
          "FreeCoin",
          "PLNCoin",
          "AquariusCoin",
          "Creatio",
          "Eternity",
          "Eurocoin",
          "BitcoinFast",
          "Stakenet",
          "BitConnect Coin",
          "MoneyCoin",
          "Enigma",
          "Russiacoin",
          "PandaCoin",
          "GameUnits",
          "GAKHcoin",
          "LiteCreed",
          "Klingon Empire Darsek",
          "Internet of People",
          "KushCoin",
          "Printerium",
          "Impeach",
          "Zilbercoin",
          "FindCoin",
          "OpenChat",
          "RenosCoin",
          "VirtacoinPlus",
          "TajCoin",
          "Impact",
          "Atmos",
          "HappyCoin",
          "MacronCoin",
          "Condensate",
          "Independent Money System",
          "ArgusCoin",
          "LomoCoin",
          "ProCurrency",
          "GoldReserve",
          "GrowthCoin",
          "Phreak",
          "Degas Coin",
          "HTML5 Coin",
          "Ultimate Secure Cash",
          "Insane Coin",
          "Espers",
          "Denarius",
          "Virta Unique Coin",
          "Bitcoin Planet",
          "BritCoin",
          "Particl",
          "Linda",
          "DeepOnion",
          "Signatum",
          "Cream",
          "Monoeci",
          "Draftcoin",
          "Stakecoin",
          "CoinonatX",
          "Ethereum Dark",
          "Obsidian",
          "Regalcoin",
          "TrezarCoin",
          "TerraNovaCoin",
          "Rupee",
          "WomenCoin",
          "Theresa May Coin",
          "NamoCoin",
          "LUXCoin",
          "Xios",
          "Bitcloud 2.0",
          "KekCoin",
          "BlackholeCoin",
          "Magnet",
          "Electra",
          "Cash & Back Coin",
          "Bulwark",
          "Kalkulus",
          "GermanCoin",
          "LiteCoin Ultra",
          "Digiwage",
          "Trollcoin",
          "Litecoin Plus",
          "Monkey Project",
          "TokenPay",
          "Unified Society USDEX",
          "Tokyo Coin",
          "Stipend",
          "Pushi",
          "Ellerium",
          "Velox",
          "Bitspace",
          "Briacoin",
          "Ignition",
          "MedicCoin",
          "Bitcoin Green",
          "Deviant Coin",
          "Abjcoin",
          "Carebit",
          "Zealium",
          "Proton",
          "Bitcoin Incognito",
          "HollyWoodCoin",
          "Swisscoin",
          "Xt3ch",
          "TheVig",
          "EmaratCoin",
          "Dekado",
          "Lynx",
          "Poseidon Quark",
          "BitcoinWSpectrum",
          "Muse",
          "Trivechain",
          "Dystem",
          "Giant",
          "Absolute Coin",
          "Vitae",
          "TPCash",
          "ARENON",
          "EUNO",
          "MMOCoin",
          "Ketan",
          "PAXEX",
          "ThunderStake",
          "Bettex coin",
          "TigerCash",
          "BitMoney",
          "Junson Ming Chan Coin",
          "Zenad",
          "HerbCoin",
          "Oduwa",
          "Galilel",
          "Crypto Sports",
          "Credit",
          "Nasdacoin",
          "Beetle Coin",
          "Titan Coin",
          "Award",
          "STREAMIT COIN",
          "Kcash",
          "Crown Coin",
          "XDNA",
          "Lobstex",
          "Cardano",
          "Bitshares",
          "Steem",
          "QTUM",
          "Nexus",
          "Infinity Economics",
          "WhiteCoin",
          "PotCoin",
          "Ontology",
          "Aurora Coin",
          "Emercoin",
          "Aion",
          "IOCoin",
          "Bitcoin Diamond",
          "Reddcoin",
          "BurstCoin",
          "Nxt",
          "NavCoin",
          "Decred",
          "Dash"
         ],
         "legendgroup": "Class=0",
         "marker": {
          "color": [
           0,
           0,
           0,
           0,
           0,
           0,
           0,
           0,
           0,
           0,
           0,
           0,
           0,
           0,
           0,
           0,
           0,
           0,
           0,
           0,
           0,
           0,
           0,
           0,
           0,
           0,
           0,
           0,
           0,
           0,
           0,
           0,
           0,
           0,
           0,
           0,
           0,
           0,
           0,
           0,
           0,
           0,
           0,
           0,
           0,
           0,
           0,
           0,
           0,
           0,
           0,
           0,
           0,
           0,
           0,
           0,
           0,
           0,
           0,
           0,
           0,
           0,
           0,
           0,
           0,
           0,
           0,
           0,
           0,
           0,
           0,
           0,
           0,
           0,
           0,
           0,
           0,
           0,
           0,
           0,
           0,
           0,
           0,
           0,
           0,
           0,
           0,
           0,
           0,
           0,
           0,
           0,
           0,
           0,
           0,
           0,
           0,
           0,
           0,
           0,
           0,
           0,
           0,
           0,
           0,
           0,
           0,
           0,
           0,
           0,
           0,
           0,
           0,
           0,
           0,
           0,
           0,
           0,
           0,
           0,
           0,
           0,
           0,
           0,
           0,
           0,
           0,
           0,
           0,
           0,
           0,
           0,
           0,
           0,
           0,
           0,
           0,
           0,
           0,
           0,
           0,
           0,
           0,
           0,
           0,
           0,
           0,
           0,
           0,
           0,
           0,
           0,
           0,
           0,
           0,
           0,
           0,
           0,
           0,
           0,
           0,
           0,
           0,
           0,
           0,
           0,
           0,
           0,
           0,
           0,
           0,
           0,
           0,
           0,
           0,
           0,
           0,
           0,
           0,
           0,
           0,
           0,
           0,
           0,
           0,
           0,
           0,
           0,
           0,
           0,
           0,
           0,
           0,
           0,
           0,
           0,
           0,
           0,
           0,
           0,
           0,
           0,
           0,
           0,
           0,
           0,
           0,
           0,
           0,
           0,
           0,
           0,
           0,
           0,
           0,
           0,
           0,
           0,
           0,
           0,
           0,
           0,
           0,
           0,
           0,
           0,
           0,
           0,
           0,
           0,
           0,
           0,
           0,
           0,
           0,
           0,
           0,
           0,
           0,
           0,
           0,
           0,
           0,
           0,
           0,
           0,
           0,
           0,
           0,
           0,
           0,
           0,
           0,
           0,
           0,
           0,
           0,
           0,
           0,
           0,
           0,
           0,
           0,
           0,
           0,
           0,
           0,
           0,
           0,
           0,
           0,
           0
          ],
          "coloraxis": "coloraxis",
          "symbol": "circle"
         },
         "mode": "markers",
         "name": "Class=0",
         "scene": "scene",
         "showlegend": true,
         "type": "scatter3d",
         "x": [
          -0.45861931744486606,
          -0.34295081088767826,
          -0.3378992050169746,
          -0.33822128225916953,
          -0.42314990157317184,
          -0.4051031439611744,
          -0.4479963128582279,
          -0.35510712460363303,
          0.6020951925355268,
          -0.3845344358671133,
          -0.6466837926246968,
          -0.28505036515603105,
          -0.3760605396099412,
          -0.6828807678882572,
          -0.24495860177795503,
          -0.24938233521924763,
          -0.44907117792322176,
          -0.402063357627936,
          -0.41488256356815917,
          -0.25735168870797054,
          -0.4868585846888212,
          -0.32798858268534503,
          -0.4461224909089575,
          -0.5757307498992129,
          -0.372346049729067,
          -0.7081995624825609,
          -0.45460126553112673,
          -0.442467208627,
          -0.2989076616845679,
          -0.3036868186460401,
          -0.4720546481290598,
          -0.33778810103978596,
          -0.3804177183840897,
          -0.4098693373364117,
          -0.36095355880561875,
          -0.4005874326373753,
          -0.441558641099616,
          -0.371437232466702,
          0.15412475193845931,
          -0.31669378758910405,
          -0.44454954133528335,
          -0.47976730397698675,
          -0.46260438935941617,
          -0.4502867876620956,
          -0.4170871168730349,
          -0.3147264276859663,
          -0.4329398242748134,
          -0.4857972874403775,
          -0.43482034424292104,
          -0.42773954878269405,
          -0.48142550324849126,
          -0.23367934065765947,
          -0.9773213932797365,
          0.03960356352866806,
          -1.142692402641325,
          -0.42762641835031706,
          -0.43377346456660437,
          -0.5240881066122202,
          -0.4495017862534967,
          -0.3409627879405797,
          -0.39057347502872497,
          -0.4064062903859733,
          -0.6129167749576895,
          -0.3940442421577342,
          0.2798990234522103,
          -0.2722160542342169,
          -0.321914090444241,
          -0.06490137228185404,
          -0.33983769401286573,
          -0.11730185800849002,
          -0.07719250225672433,
          -0.4674276312785849,
          -0.4357183001129654,
          -0.473349793446649,
          -0.4039492883331591,
          -0.45189531087686036,
          1.2359495398193834,
          -0.3356072972443653,
          -0.4202286328233039,
          -0.7701544948194918,
          -0.43089183495394245,
          -0.35623553732616736,
          -0.5065670111638246,
          -0.27353276090826945,
          -0.4596467028352192,
          -0.6326293780633679,
          -0.4491133798583274,
          -0.4409580058406489,
          -0.44153032598203434,
          -0.3635933891492907,
          -0.510976951149042,
          -0.48310920813483615,
          -0.4595426247082463,
          -0.3330921756749291,
          -0.46993008302186307,
          -0.4328088185507251,
          -0.45621147585187505,
          -0.4618345887099999,
          -0.8535004899488609,
          0.0892678139414806,
          -0.646406238205928,
          -0.47995073009367245,
          -0.42590939502190794,
          -0.6658785639729669,
          -0.342281119377049,
          -0.6723120560260838,
          -0.7852006312307188,
          -0.31097514375115903,
          -0.47278702887122054,
          1.134530472695813,
          -0.5909003105037541,
          -0.7637954935954627,
          -0.465273663242141,
          -0.4168772556419159,
          -0.760674317875404,
          -0.4468543044055854,
          -0.333030365064917,
          -0.3703546265732401,
          -0.6340197634357919,
          -0.38366654694597163,
          -0.4367630839209263,
          -0.45888573453915044,
          -0.4785007985239454,
          0.5256792059697718,
          -0.4381350834135277,
          -0.5269408545897863,
          -0.461422318582055,
          -0.4486249668267213,
          -0.3517909273316681,
          -0.4642262678616414,
          -0.44783594188385767,
          -0.4337447305037701,
          -0.44040367709291633,
          -0.4127825028003659,
          -0.4612724401847628,
          -0.43218403096054514,
          -0.40888805319048505,
          -0.9055731967419952,
          -0.4951211382241065,
          -0.6606056340897893,
          -0.4474813526227458,
          -0.6713119319209518,
          -0.4389324519585014,
          -0.43276248558004654,
          -0.42553647521949134,
          -0.4090887494095182,
          0.34584345162311514,
          -0.5147537659208826,
          -0.34265364278748117,
          -0.673780268296979,
          -0.46577236195454974,
          1.0593496854011368,
          -0.3363722337836464,
          -0.47717902835758325,
          0.8987620263029673,
          -0.2790582187530142,
          -0.2965947340963162,
          -0.9964847935235751,
          -0.35598723740266097,
          -0.6481693288120016,
          0.2033873964689761,
          -0.2836093116620245,
          -0.7734200408822057,
          -0.9960596675317561,
          -0.4683173639486464,
          -0.39058185465158257,
          -0.7055194337458286,
          -0.4656072566294852,
          -0.47448230717952145,
          -0.6333273589198785,
          -0.43120838488727303,
          -0.3934912706870142,
          -0.4356787285822313,
          -0.48216665338750486,
          0.5440655633853997,
          -0.3453700312541705,
          -0.25306332663550724,
          -0.7822047986859986,
          -0.44923905134196945,
          -0.5838233225829965,
          -0.7208258788702879,
          -0.4592435883876931,
          -0.4589455675945208,
          0.44850393698631286,
          -0.4860246136319048,
          -0.2753023428930025,
          -0.5820686842669419,
          0.07446308761887628,
          -0.4504563487941982,
          -0.5876030248607124,
          -0.385714270617591,
          -0.3492939576582338,
          -0.45540909217091363,
          -0.6855330371711258,
          -0.45793614683649353,
          -0.32134849214971306,
          -0.33727259346487815,
          -0.48815472482059336,
          -0.9819936852969201,
          -0.4286243409607061,
          -0.25882165298434945,
          -0.4351652557290922,
          -0.4195294060664401,
          -0.4149101901804909,
          -0.18770989348415495,
          -0.6617833048605034,
          -0.44843401859204973,
          -0.5916071056285592,
          -0.6854440351516392,
          -0.8049245316757746,
          -1.6040854951999903,
          -0.41462701858837836,
          -0.10755110411713761,
          -0.47133030692317757,
          -0.39684448061450567,
          -0.4708711018933577,
          -0.3713710183786746,
          2.448208309679012,
          -0.603680184367406,
          -0.34898662059495006,
          1.0705667693177774,
          -0.7999202657949623,
          -0.5960235459339464,
          -0.6170655898945332,
          -0.4917864885409444,
          -0.5793499775164566,
          -0.44947944654114985,
          -0.457947289781099,
          -0.4519050835361586,
          -0.3840914654581721,
          -0.7115477674213224,
          -0.45800418939373555,
          -0.15297141893744537,
          -0.9648492661920963,
          -0.3101845847011007,
          -0.8797405198916408,
          0.3938808540879056,
          -0.7593998066446098,
          -0.5812753496250223,
          -0.40803399891795983,
          -0.570892970203458,
          -0.5623029415112786,
          0.7597475118031937,
          -0.440129745388343,
          -0.9500619628429098,
          -0.36650305434737407,
          -0.44055333463199936,
          -0.5698004860299795,
          -0.548987100384971,
          -0.28050472876107396,
          -1.039373564417643,
          -0.5990947835524187,
          0.870860158130763,
          -0.6213023928639908,
          -0.5099634024502199,
          -0.6695868322275896,
          -0.835248911153205,
          -0.13042939666385356,
          -0.425730939483595,
          -0.3504553343606557,
          -0.36398973662741785,
          -0.40742694788371553,
          -0.32437538275510647,
          -0.28224899945601073,
          -0.3932508678676656,
          -0.32186120374066013,
          0.11565292969007496,
          -0.4867871411390946,
          -1.0153040715326975,
          -0.25919423233611594,
          -0.5009546793904367,
          -0.41073774628450216
         ],
         "y": [
          0.5590449685455596,
          0.6982099652417578,
          0.9282435303181769,
          0.9013242701984324,
          0.5671531730900117,
          0.5417554920552234,
          0.6135034060754456,
          0.5467448317167766,
          0.7627956278862775,
          0.2058328110884836,
          2.008067066288452,
          0.543372504401749,
          0.8487755360729571,
          0.9128142999833555,
          0.9484731449260099,
          0.644386636212919,
          0.8226011938972277,
          0.050887587493665655,
          0.6279093029339103,
          0.953456269485934,
          0.6824469266758894,
          0.2089933059213085,
          0.6501047862857469,
          0.6752184998602491,
          0.6312891535965514,
          0.7568915952269378,
          0.7123798843366909,
          0.2344024185608604,
          1.2680752623638456,
          0.580898870911967,
          2.469328490024337,
          0.6079805340594499,
          0.20538136285788983,
          0.8340827670860615,
          1.343832421337366,
          0.8350751947298486,
          0.621256391432458,
          1.258764149036607,
          0.5215952354461432,
          1.2726637463368293,
          0.6164424813619379,
          0.9496089752081137,
          0.5506365083380438,
          0.07845583810905707,
          0.6340015764186604,
          1.0115039016633094,
          0.6413853873872777,
          0.5271289305001462,
          0.6739339505454769,
          0.8235794285448498,
          0.6920615536458673,
          0.53217554682468,
          1.088440115183243,
          0.7025117526298316,
          -0.763374279632304,
          0.710936584378658,
          0.6096073167118711,
          2.7263998575082407,
          0.555235134352327,
          1.2685408824729785,
          0.6842937129377765,
          0.559088870548298,
          2.050843890602868,
          0.8689022319606986,
          0.8938101154964314,
          0.674561263122923,
          0.6844383763556621,
          0.7207443481454787,
          0.7028326678293996,
          0.8494499207749198,
          0.7043036314542425,
          0.5875823423436556,
          0.6841478412533253,
          0.8543332462032264,
          0.5739490205599675,
          0.6725579362507752,
          0.8010536436673951,
          0.686484069559362,
          2.677911681654901,
          3.982223437191102,
          0.6624611175583796,
          0.6479438188428663,
          0.7863267674379872,
          0.6947007176038658,
          0.6736895351151483,
          1.7345490553602585,
          0.557539571939621,
          0.5889905012267037,
          0.5620014507468368,
          1.5977127636522783,
          2.8125761700905207,
          0.646569128255308,
          0.5657106260212342,
          0.686964800425255,
          0.6913960335748389,
          0.5608877418508929,
          0.5820200639164645,
          0.8398115088852461,
          1.0844510455383694,
          1.2841460002342588,
          2.023032831880528,
          0.6054349400438344,
          0.6896095158727759,
          2.028363024245878,
          1.534516607814878,
          4.502881897135191,
          3.985376614703177,
          1.271905242208621,
          0.6845082836743732,
          1.3045162254803904,
          2.594183485598324,
          3.977079849359568,
          0.5666548403421263,
          0.5969859266692524,
          3.8964492662376644,
          0.7239967566138455,
          0.7076268091963636,
          0.6177288295809128,
          -0.24549087160799873,
          0.5896565799090743,
          0.6080234128935967,
          0.7010697388494069,
          0.6583883235612166,
          0.8506688162772547,
          0.5778385060438653,
          2.4789367809015515,
          0.4323314226678444,
          0.5376619073719519,
          0.7400291943868859,
          0.668434488614828,
          0.5559712664886294,
          0.6355886748959019,
          0.9007895645570091,
          3.426741144458133,
          0.5593309208315242,
          0.8292244813211775,
          0.6987269096854983,
          1.6015515360096912,
          0.6121885548182663,
          2.0231139835954792,
          0.6288297374812186,
          2.0397163098103728,
          0.6553837053538799,
          0.5953834366872095,
          0.6040337135054813,
          0.5656757912953779,
          0.9040509523433993,
          0.6530899535410838,
          0.764852182102677,
          2.039464759862648,
          0.5548746038762048,
          0.8541786798239236,
          0.961704402065344,
          0.6984177324919242,
          0.43426764805006646,
          0.7485976395289832,
          0.7048914314456992,
          0.9393629902944999,
          1.268564610137863,
          2.052883281669219,
          0.5414762897701735,
          1.2259946602444607,
          1.82792694535417,
          1.005350244758261,
          0.6154404530183606,
          0.8306662174175725,
          2.0261313732936426,
          0.6005463989417307,
          0.5551058456750537,
          2.316923340635164,
          0.6502200872966983,
          0.09122253722807797,
          0.6059488632576022,
          0.511544871667691,
          0.5612249129130272,
          0.6856248105111831,
          0.7208290303410454,
          0.856689596438213,
          0.5617819847147045,
          0.7256876391048739,
          2.145222646317556,
          0.576938357922764,
          0.665440575943092,
          0.6691612066196517,
          0.5983299289736398,
          0.9629676842630897,
          1.0144910598025472,
          0.5385598757851702,
          0.5317469531814845,
          0.9749661511924026,
          0.5896642188715613,
          0.6483510816317823,
          0.944569951359406,
          1.7819762185047072,
          0.6221468172253103,
          1.5185874682464076,
          -0.4101207853680893,
          0.6801948773324378,
          0.22013040457032668,
          0.76935337372106,
          0.7024807722231998,
          0.5475395360409318,
          0.533842899996055,
          0.8426313268477762,
          2.914922471933562,
          2.067879940133214,
          0.6173388385303678,
          0.721663621597336,
          2.0299531514987255,
          0.9251986142535041,
          -1.1815235538389897,
          0.8650810216881586,
          0.6332903543584348,
          0.8302708746080317,
          1.3105319112553424,
          0.5651488715037827,
          1.1492713249491848,
          -0.47148166383258266,
          1.007262256572815,
          0.9359261339599367,
          2.460096502359627,
          0.6410045569083573,
          0.9958737299937765,
          0.7249433533856986,
          0.2904769161120296,
          0.9767439999344526,
          0.5970888607313747,
          0.8950790347897953,
          0.6503344253513965,
          0.9107101510836982,
          2.068670486670047,
          0.9755409761229683,
          0.4127588562839733,
          0.5335599200463822,
          0.9098313400727144,
          -1.6078010556830855,
          0.32734040291627675,
          -0.5317358460115157,
          0.6944167880391441,
          0.5316684596842707,
          0.777293398896569,
          1.0488433385897111,
          0.5088172192552917,
          0.5624817931135732,
          0.31284963780263075,
          1.339046173581405,
          0.6994492426414645,
          1.0165319986241539,
          2.5710789982425326,
          0.17040236636971476,
          1.2231367004945566,
          1.024988497535269,
          1.9971661464809465,
          4.2164913434571405,
          1.9916819100485645,
          1.7860795211776739,
          -0.013783870892132387,
          0.9233179792305928,
          0.5877150906065682,
          0.5322770678372187,
          1.97689574008221,
          0.566735367819905,
          0.7241147427337685,
          -1.078574801000113,
          0.6870392718999195,
          1.3090416860319944,
          0.4916975565926746,
          1.9991895057948499,
          6.7596290445020095,
          1.290139574240986,
          0.18590337509950391,
          0.6727080204103875
         ],
         "z": [
          -1.1301202897687601,
          -0.6579797567691125,
          -0.07326157271110699,
          -1.663034105238208,
          -1.113481778460537,
          -1.1963135449787916,
          -1.2135661267750955,
          -1.1889822017699265,
          0.12906626265411866,
          -1.394088491974815,
          -0.38130623255542906,
          -1.1806337016410164,
          -0.6096853732552064,
          -1.3090398820287572,
          -1.1510512192147688,
          -0.7525303438357448,
          -0.5942337268471567,
          -0.8000141496355848,
          -1.1304505590306622,
          -0.5874629904283889,
          -1.2897366337097862,
          0.07884317922429451,
          -1.241320486469629,
          -1.71456404070277,
          -1.2163764692337138,
          0.20552513833372144,
          -1.2590439726087856,
          0.06828636654378052,
          -1.9198165307788682,
          -1.1876331987879993,
          0.2231827118375252,
          -0.7171710162321994,
          -1.280868888771828,
          -0.4910523707764236,
          -1.9805101059491679,
          -0.44524117858625545,
          -1.1537888715905202,
          -1.8885349963352358,
          -1.0999134118545402,
          -1.9880349776992416,
          -1.2280718428714594,
          -0.5656857481593393,
          -1.1588602860288955,
          -0.7499477379176566,
          -1.2077129417563002,
          -0.0776394618702356,
          -1.2024471916903203,
          -1.1482936993916706,
          -1.1844064674543358,
          -0.467080371915601,
          -1.2759851438640295,
          -1.114822132301335,
          -4.211903731006228,
          -0.8057066521930114,
          -1.2609559931271597,
          -1.2381979485507295,
          -1.155357754939782,
          0.6382739745998771,
          -1.135548948226503,
          -1.9539139832934118,
          -1.1763895510435605,
          -1.0994295129743836,
          -0.32053663671542953,
          -1.6321329494597747,
          -0.4679874619359594,
          -0.7234376554144948,
          -0.6890877572733642,
          -1.2432942486980745,
          -0.7045470080368816,
          -0.4792243473370833,
          -1.8778624766001324,
          -1.169493702657459,
          -1.1893465129020642,
          -0.4374070169778438,
          -1.1261382147600751,
          -1.2017749450334985,
          -0.5712066145436707,
          -0.7281080743496219,
          1.3197714033840193,
          0.7643849106898121,
          -1.2696686074885932,
          -0.7008272070083369,
          -1.3601551767919022,
          -1.8407396119082908,
          -1.2313045540371372,
          -0.5644593595555926,
          -1.1908423883218198,
          -1.1543736327152434,
          -1.171482465910014,
          -1.190886905748789,
          0.6074410842493501,
          -1.2521999343350676,
          -1.1395773144929389,
          -0.6777479178700048,
          -1.221033944254732,
          -1.1708212439718384,
          -1.215987273424377,
          -0.530201775095966,
          0.4387794893729653,
          -2.0008081747313944,
          -0.30427308687586274,
          -1.151302078460668,
          -1.1287579525001799,
          -0.34672719302995053,
          -1.2335054151880256,
          -0.9505107009044816,
          0.6415704736062983,
          -1.9199802595045878,
          -1.2294621614153056,
          -2.0243214153548914,
          -0.1680945110462232,
          0.7112032380954726,
          -1.1696345513971047,
          -1.165501316471279,
          0.7854446508285681,
          -1.1919041251543603,
          -0.6759135782074559,
          -1.2797051318909727,
          -0.04264401526203557,
          -1.1383287904488764,
          -1.1290992453336879,
          -1.214449231419124,
          -1.1457049136752502,
          -0.4865564210437599,
          -1.1536182711031158,
          -0.11810197089615984,
          -0.6400253959327785,
          -1.0962648640140535,
          -0.7036921501933029,
          -1.203974320443056,
          -1.1684522887708932,
          -1.1058935389304274,
          -0.4563214913544526,
          -0.19079773059222413,
          -1.1552308281633827,
          -0.48792286636564286,
          -1.3388132049536414,
          -2.1876371853205754,
          -1.2203918117256212,
          -0.3133771818250141,
          -1.277488407563598,
          -0.3354013009026788,
          -1.182277610955476,
          -1.1235824655357065,
          -1.1430980926720153,
          -1.1315296819000322,
          -0.08518666133572814,
          -1.2657711404777028,
          -0.5266570840124494,
          -0.39944325582394336,
          -1.2278024229418212,
          -1.670821732038581,
          -0.06454554313671244,
          -1.1820856623693874,
          -1.7748192884705487,
          -1.867136817380494,
          -1.89542516318558,
          -1.5201101842268123,
          -1.8650828575873788,
          -0.2611682520029207,
          -1.091723119366922,
          -1.9129847063524446,
          0.8235352682936061,
          -1.4511369068061895,
          -1.2275773667139178,
          -0.4899640076523969,
          -0.2985114913351941,
          -1.0699271912122537,
          -1.1379626290571327,
          -0.8961242175933078,
          -1.235164831749859,
          -0.7334319029754922,
          -1.1369002186847734,
          -0.9710652669629356,
          -1.1601897492967015,
          -0.7469175631312924,
          -1.8771649557081138,
          -1.328943240855948,
          -1.1227351001962982,
          -1.3429241745232452,
          -1.8895342475306955,
          -1.2247242320130654,
          -1.3059872708901705,
          -1.7881386654616762,
          -1.210160134150491,
          -1.1171716445507858,
          -0.7243519893912727,
          -1.147972191371182,
          -1.1424920381451076,
          -0.689950413854042,
          -1.1874037412327731,
          -1.1918886093017091,
          -0.5306664420322195,
          -0.6338916059080061,
          -1.155392639759255,
          -1.2742961330173934,
          -1.7887400409097824,
          -1.2715446676299975,
          -1.9676315243301936,
          -0.4945634871493698,
          -1.7667391325568091,
          -1.1151316697611127,
          -1.1218970818954452,
          -0.5042985472315373,
          -1.638168361141955,
          -0.33757330910607525,
          -1.1692956164617283,
          -1.3753792937483886,
          -0.31952409459578446,
          -0.8723083451221673,
          -1.9301390206224804,
          -0.4809441843318866,
          -1.2131519971956675,
          -0.5935949759729807,
          -1.8250029589583203,
          -1.2173667760103197,
          -0.9373291460977242,
          -1.3127372535732047,
          -0.7328872709961812,
          -0.10535325176316866,
          -0.2945775918821208,
          -1.5160664956361878,
          -0.6847279273908061,
          -1.3731402470486962,
          -1.6522974052890194,
          -0.6966281253038531,
          -1.100313756955007,
          -0.556051902817892,
          -1.2964261138600837,
          -0.5072962747367661,
          -0.36258197587181756,
          -0.5539354011977342,
          -1.039399019196484,
          -1.3202741964700424,
          -0.0764869919566278,
          -3.2036868021427973,
          -0.06151555317166501,
          -0.7164703751738942,
          -1.4628935819719582,
          -1.1821523711722495,
          -1.4146761378516672,
          -0.6435697091734692,
          -1.1154530970543142,
          -1.1698960204390305,
          -1.9693445938884033,
          -2.0040038951052788,
          -1.1854117825047634,
          -0.6827030424970001,
          -2.066465899960583,
          0.5014475539949185,
          -2.3499848324975643,
          -0.7402912250033101,
          -1.7289966102081902,
          0.19187305083551903,
          1.8891541711643842,
          -0.6479520259196296,
          -0.4630559266178634,
          -0.0769804575094223,
          -1.0556211044105481,
          -1.2103729734069435,
          -2.563248254624551,
          -1.1649192370034176,
          -0.7909448796199473,
          -3.154040702296973,
          -1.266287185473391,
          -1.858610381870608,
          -1.110619908953024,
          0.590911020133574,
          1.7093788249553608,
          -1.9301189604741156,
          -1.1276599714113837,
          -1.220587522095355
         ]
        },
        {
         "customdata": [
          [
           "X13"
          ],
          [
           "Scrypt"
          ],
          [
           "Scrypt"
          ],
          [
           "DPoS"
          ],
          [
           "DPoS"
          ],
          [
           "CryptoNight"
          ],
          [
           "DPoS"
          ],
          [
           "Semux BFT consensus"
          ],
          [
           "SHA-256"
          ],
          [
           "DPoS"
          ],
          [
           "DPoS"
          ],
          [
           "DPoS"
          ],
          [
           "CryptoNight"
          ]
         ],
         "hoverlabel": {
          "namelength": 0
         },
         "hovertemplate": "<b>%{hovertext}</b><br><br>Class=%{marker.color}<br>PC 1=%{x}<br>PC 2=%{y}<br>PC 3=%{z}<br>Algorithm=%{customdata[0]}",
         "hovertext": [
          "EliteCoin",
          "MoonCoin",
          "gCn Coin",
          "Oxycoin",
          "Lamden Tau",
          "TurtleCoin",
          "ALAX",
          "Semux",
          "Zeph",
          "EOS",
          "Lisk",
          "ARK",
          "ByteCoin"
         ],
         "legendgroup": "Class=4",
         "marker": {
          "color": [
           4,
           4,
           4,
           4,
           4,
           4,
           4,
           4,
           4,
           4,
           4,
           4,
           4
          ],
          "coloraxis": "coloraxis",
          "symbol": "diamond"
         },
         "mode": "markers",
         "name": "Class=4",
         "scene": "scene",
         "showlegend": true,
         "type": "scatter3d",
         "x": [
          3.1135612899530054,
          3.3981548432304676,
          4.300093273023543,
          4.485091909221765,
          4.477454884002807,
          11.685206535899209,
          4.445613325783884,
          4.523460401292545,
          4.235504044039494,
          6.336685798920606,
          4.384359543717206,
          4.463755789444535,
          5.133191263488166
         ],
         "y": [
          1.0181196034738471,
          -1.344571842131123,
          -1.2440575920219559,
          2.9439595651274515,
          2.868882130308522,
          -3.7749884355686762,
          4.79782930295874,
          2.2475057311475584,
          1.4973392816483322,
          3.0260384970281717,
          4.7906382796138764,
          2.895616894504647,
          -2.209969817585938
         ],
         "z": [
          -1.7887841568168155,
          0.7447835807755699,
          0.6544154554471322,
          -0.16880697987375853,
          -0.26400794890493967,
          2.901604227657518,
          0.8923081303218436,
          -1.0830489233673093,
          -0.19248808325250014,
          -0.4683765921473822,
          0.7734264167943125,
          -0.2582972571528161,
          1.783747345817976
         ]
        },
        {
         "customdata": [
          [
           "Scrypt"
          ],
          [
           "Scrypt"
          ],
          [
           "Multiple"
          ],
          [
           "SHA-256"
          ],
          [
           "Scrypt"
          ],
          [
           "Scrypt"
          ],
          [
           "Groestl"
          ],
          [
           "Scrypt"
          ],
          [
           "Scrypt"
          ],
          [
           "Scrypt"
          ],
          [
           "X11"
          ],
          [
           "SHA-256"
          ],
          [
           "Scrypt"
          ],
          [
           "Scrypt"
          ],
          [
           "Scrypt"
          ],
          [
           "Scrypt"
          ],
          [
           "Scrypt"
          ],
          [
           "Scrypt"
          ],
          [
           "Scrypt"
          ],
          [
           "Scrypt"
          ],
          [
           "Scrypt"
          ],
          [
           "SHA-256"
          ],
          [
           "Scrypt"
          ],
          [
           "Scrypt"
          ],
          [
           "Scrypt"
          ],
          [
           "HybridScryptHash256"
          ],
          [
           "Scrypt"
          ],
          [
           "Scrypt"
          ],
          [
           "Scrypt"
          ],
          [
           "Scrypt"
          ],
          [
           "Scrypt"
          ],
          [
           "Scrypt"
          ],
          [
           "SHA-256"
          ],
          [
           "SHA-256"
          ],
          [
           "SHA-256"
          ],
          [
           "SHA-256"
          ],
          [
           "X11"
          ],
          [
           "Scrypt"
          ],
          [
           "SHA-256"
          ],
          [
           "Scrypt"
          ],
          [
           "Scrypt"
          ],
          [
           "Scrypt"
          ],
          [
           "Scrypt"
          ],
          [
           "Multiple"
          ],
          [
           "Scrypt"
          ],
          [
           "Stanford Folding"
          ],
          [
           "Scrypt"
          ],
          [
           "Multiple"
          ],
          [
           "QuBit"
          ],
          [
           "NeoScrypt"
          ],
          [
           "Blake"
          ],
          [
           "Scrypt"
          ],
          [
           "Scrypt"
          ],
          [
           "M7 POW"
          ],
          [
           "Scrypt"
          ],
          [
           "SHA-256"
          ],
          [
           "Scrypt"
          ],
          [
           "Scrypt"
          ],
          [
           "X11"
          ],
          [
           "Lyra2RE"
          ],
          [
           "SHA-256"
          ],
          [
           "X11"
          ],
          [
           "Scrypt"
          ],
          [
           "Scrypt"
          ],
          [
           "Scrypt"
          ],
          [
           "X11"
          ],
          [
           "SHA-256"
          ],
          [
           "Scrypt"
          ],
          [
           "Scrypt"
          ],
          [
           "Scrypt"
          ],
          [
           "1GB AES Pattern Search"
          ],
          [
           "SHA-256"
          ],
          [
           "X11"
          ],
          [
           "Dagger"
          ],
          [
           "Scrypt"
          ],
          [
           "Scrypt"
          ],
          [
           "X11"
          ],
          [
           "Scrypt"
          ],
          [
           "X11"
          ],
          [
           "CryptoNight"
          ],
          [
           "SHA-256"
          ],
          [
           "Multiple"
          ],
          [
           "Scrypt"
          ],
          [
           "SHA-256"
          ],
          [
           "Scrypt"
          ],
          [
           "Ethash"
          ],
          [
           "Equihash"
          ],
          [
           "Scrypt"
          ],
          [
           "X11"
          ],
          [
           "X11"
          ],
          [
           "CryptoNight"
          ],
          [
           "Scrypt"
          ],
          [
           "CryptoNight"
          ],
          [
           "Lyra2RE"
          ],
          [
           "X11"
          ],
          [
           "CryptoNight-V7"
          ],
          [
           "Scrypt"
          ],
          [
           "Scrypt"
          ],
          [
           "X11"
          ],
          [
           "Equihash"
          ],
          [
           "Scrypt"
          ],
          [
           "Lyra2RE"
          ],
          [
           "Dagger-Hashimoto"
          ],
          [
           "Scrypt"
          ],
          [
           "NIST5"
          ],
          [
           "Scrypt"
          ],
          [
           "Scrypt"
          ],
          [
           "SHA-256"
          ],
          [
           "Scrypt"
          ],
          [
           "CryptoNight-V7"
          ],
          [
           "Argon2d"
          ],
          [
           "Cloverhash"
          ],
          [
           "CryptoNight"
          ],
          [
           "X11"
          ],
          [
           "Scrypt"
          ],
          [
           "Scrypt"
          ],
          [
           "X11"
          ],
          [
           "X11"
          ],
          [
           "Ethash"
          ],
          [
           "CryptoNight"
          ],
          [
           "Time Travel"
          ],
          [
           "X11"
          ],
          [
           "Scrypt"
          ],
          [
           "Scrypt"
          ],
          [
           "Scrypt"
          ],
          [
           "Scrypt"
          ],
          [
           "Scrypt"
          ],
          [
           "Scrypt"
          ],
          [
           "CryptoNight"
          ],
          [
           "Equihash"
          ],
          [
           "X11"
          ],
          [
           "NeoScrypt"
          ],
          [
           "Dagger"
          ],
          [
           "Scrypt"
          ],
          [
           "X11"
          ],
          [
           "NeoScrypt"
          ],
          [
           "Ethash"
          ],
          [
           "NeoScrypt"
          ],
          [
           "Multiple"
          ],
          [
           "CryptoNight"
          ],
          [
           "SHA-256"
          ],
          [
           "CryptoNight"
          ],
          [
           "Ethash"
          ],
          [
           "X11"
          ],
          [
           "CryptoNight-V7"
          ],
          [
           "Scrypt"
          ],
          [
           "BLAKE256"
          ],
          [
           "X11"
          ],
          [
           "NeoScrypt"
          ],
          [
           "NeoScrypt"
          ],
          [
           "Scrypt"
          ],
          [
           "X11"
          ],
          [
           "SHA-256"
          ],
          [
           "C11"
          ],
          [
           "Ethash"
          ],
          [
           "SkunkHash"
          ],
          [
           "Scrypt"
          ],
          [
           "Lyra2REv2"
          ],
          [
           "Proof-of-BibleHash"
          ],
          [
           "Scrypt"
          ],
          [
           "Scrypt"
          ],
          [
           "X11"
          ],
          [
           "CryptoNight"
          ],
          [
           "Scrypt"
          ],
          [
           "IMesh"
          ],
          [
           "Equihash"
          ],
          [
           "Lyra2Z"
          ],
          [
           "X11"
          ],
          [
           "CryptoNight"
          ],
          [
           "NIST5"
          ],
          [
           "Tribus"
          ],
          [
           "Lyra2Z"
          ],
          [
           "CryptoNight"
          ],
          [
           "CryptoNight Heavy"
          ],
          [
           "CryptoNight"
          ],
          [
           "Jump Consistent Hash"
          ],
          [
           "CryptoNight"
          ],
          [
           "X16R"
          ],
          [
           "HMQ1725"
          ],
          [
           "X11"
          ],
          [
           "Scrypt"
          ],
          [
           "Cryptonight-GPU"
          ],
          [
           "XEVAN"
          ],
          [
           "X11"
          ],
          [
           "X16R"
          ],
          [
           "Equihash"
          ],
          [
           "Lyra2Z"
          ],
          [
           "SHA3-256"
          ],
          [
           "CryptoNight"
          ],
          [
           "Blake"
          ],
          [
           "Blake"
          ],
          [
           "Equihash"
          ],
          [
           "Exosis"
          ],
          [
           "Equihash"
          ],
          [
           "Lyra2REv2"
          ],
          [
           "QuBit"
          ],
          [
           "Equihash+Scrypt"
          ],
          [
           "SHA-256"
          ],
          [
           "X13"
          ],
          [
           "CryptoNight"
          ],
          [
           "Equihash"
          ],
          [
           "SHA-256"
          ],
          [
           "Cryptonight Haven"
          ],
          [
           "Ethash"
          ],
          [
           "SHA-256"
          ],
          [
           "Equihash"
          ],
          [
           "NeoScrypt"
          ],
          [
           "Ethash"
          ],
          [
           "CryptoNight"
          ],
          [
           "Scrypt"
          ],
          [
           "Scrypt"
          ],
          [
           "Scrypt"
          ],
          [
           "Multiple"
          ],
          [
           "Scrypt"
          ],
          [
           "SHA-256"
          ],
          [
           "Scrypt"
          ],
          [
           "SHA-256"
          ],
          [
           "Keccak"
          ],
          [
           "Lyra2Z"
          ],
          [
           "CryptoNight-V7"
          ],
          [
           "SHA-256"
          ],
          [
           "Quark"
          ],
          [
           "SHA-256"
          ],
          [
           "Scrypt"
          ],
          [
           "X11GOST"
          ],
          [
           "Equihash"
          ],
          [
           "Groestl"
          ],
          [
           "Multiple"
          ],
          [
           "Blake2b"
          ],
          [
           "Equihash"
          ],
          [
           "Ethash"
          ],
          [
           "CryptoNight-V7"
          ],
          [
           "Lyra2REv2"
          ],
          [
           "Blake2b"
          ],
          [
           "Ethash"
          ],
          [
           "Equihash"
          ]
         ],
         "hoverlabel": {
          "namelength": 0
         },
         "hovertemplate": "<b>%{hovertext}</b><br><br>Class=%{marker.color}<br>PC 1=%{x}<br>PC 2=%{y}<br>PC 3=%{z}<br>Algorithm=%{customdata[0]}",
         "hovertext": [
          "ProsperCoin",
          "Argentum",
          "MyriadCoin",
          "ZetaCoin",
          "SexCoin",
          "Quatloo",
          "Riecoin",
          "Digitalcoin ",
          "Catcoin",
          "CannaCoin",
          "CryptCoin",
          "DevCoin",
          "EarthCoin",
          "E-Gulden",
          "Emerald",
          "FlutterCoin",
          "Franko",
          "GrandCoin",
          "GlobalCoin",
          "GoldCoin",
          "Infinite Coin",
          "IXcoin",
          "KrugerCoin",
          "LuckyCoin",
          "Litebar ",
          "MediterraneanCoin",
          "MinCoin",
          "NobleCoin",
          "NyanCoin",
          "RonPaulCoin",
          "StableCoin",
          "SmartCoin",
          "TigerCoin",
          "TerraCoin",
          "UnbreakableCoin",
          "Unobtanium",
          "UroCoin",
          "WorldCoin",
          "JouleCoin",
          "MonaCoin",
          "PesetaCoin",
          "Wild Beast Coin",
          "Flo",
          "JoinCoin",
          "ArtByte",
          "Folding Coin",
          "SolarCoin",
          "Unitus",
          "CypherPunkCoin",
          "UFO Coin",
          "BlakeCoin",
          "OmniCron",
          "GreenCoin",
          "Cryptonite",
          "MasterCoin",
          "SoonCoin",
          "1Credit",
          "Crypto Escudo",
          "MarsCoin ",
          "Crypto",
          "Anarchists Prime",
          "BowsCoin",
          "Song Coin",
          "SmileyCoin",
          "BitZeny",
          "MindCoin",
          "I0coin",
          "Bata",
          "Pakcoin",
          "Revolution VR",
          "HOdlcoin",
          "CarpeDiemCoin",
          "Adzcoin",
          "SoilCoin",
          "YoCoin",
          "Francs",
          "BolivarCoin",
          "Omni",
          "PizzaCoin",
          "Karbo",
          "ZayedCoin",
          "Circuits of Value",
          "DopeCoin",
          "DollarCoin",
          "Shilling",
          "Elementrem",
          "ZClassic",
          "KiloCoin",
          "ArtexCoin",
          "Kurrent",
          "Cannabis Industry Coin",
          "OsmiumCoin",
          "Bikercoins",
          "HexxCoin",
          "PacCoin",
          "Citadel",
          "FirstCoin",
          "BeaverCoin",
          "VaultCoin",
          "Zero",
          "Canada eCoin",
          "Zoin",
          "DubaiCoin",
          "EB3coin",
          "Coinonat",
          "BenjiRolls",
          "ParallelCoin",
          "ILCoin",
          "EquiTrader",
          "Quantum Resistant Ledger",
          "Dynamic",
          "ChanCoin",
          "Dinastycoin",
          "DigitalPrice",
          "Unify",
          "SocialCoin",
          "ArcticCoin",
          "DAS",
          "Reality Clash",
          "LeviarCoin",
          "Bitcore",
          "Onix",
          "Sojourn Coin",
          "NewYorkCoin",
          "FrazCoin",
          "Kronecoin",
          "AdCoin",
          "Linx",
          "Sumokoin",
          "BitcoinZ",
          "Elements",
          "VIVO Coin",
          "Pirl",
          "eBoost",
          "Pura",
          "Innova",
          "Ellaism",
          "GoByte",
          "SHIELD",
          "UltraNote",
          "GlobalToken",
          "BitCoal",
          "DaxxCoin",
          "AC3",
          "Lethean",
          "PopularCoin",
          "Photon",
          "Sucre",
          "SparksPay",
          "GunCoin",
          "IrishCoin",
          "Pioneer Coin",
          "UnitedBitcoin",
          "Interzone",
          "1717 Masonic Commemorative Token",
          "MUNcoin",
          "ShareChain",
          "KREDS",
          "BiblePay",
          "BitFlip",
          "LottoCoin",
          "Crypto Improvement Fund",
          "BitTube",
          "Poseidon",
          "Aidos Kuneen",
          "Bitrolium",
          "Alpenschillling",
          "FuturoCoin",
          "Monero Classic",
          "Jumpcoin",
          "KEYCO",
          "GINcoin",
          "PlatinCoin",
          "Loki",
          "Newton Coin",
          "MassGrid",
          "PluraCoin",
          "Motion",
          "PlusOneCoin",
          "Axe",
          "HexCoin",
          "Ryo",
          "Urals Coin",
          "Azart",
          "Xchange",
          "CrypticCoin",
          "Actinium",
          "Fiii",
          "FREDEnergy",
          "Universal Molecule",
          "Lithium",
          "PirateCash",
          "Exosis",
          "Bithereum",
          "Scribe Network",
          "SLICE",
          "Vollar",
          "BLAST",
          "Bitcoin Rhodium",
          "Beldex",
          "Beam",
          "Project Pai",
          "BLOC.MONEY",
          "Callisto Network",
          "Bitcoin",
          "Komodo",
          "FeatherCoin",
          "Expanse",
          "DigitalNote ",
          "Gamecredits",
          "MegaCoin",
          "Litecoin",
          "DigiByte",
          "Gulden",
          "Bitcoin Cash",
          "ViaCoin",
          "SysCoin",
          "SmartCash",
          "ZCoin",
          "Webchain",
          "Bitcoin SV",
          "QuarkCoin",
          "Namecoin",
          "Einsteinium",
          "SibCoin",
          "Bitcoin Gold",
          "Groestlcoin",
          "Verge",
          "Siacoin",
          "Horizen",
          "Ethereum",
          "Monero",
          "Vertcoin",
          "Nano",
          "Ethereum Classic",
          "ZCash"
         ],
         "legendgroup": "Class=1",
         "marker": {
          "color": [
           1,
           1,
           1,
           1,
           1,
           1,
           1,
           1,
           1,
           1,
           1,
           1,
           1,
           1,
           1,
           1,
           1,
           1,
           1,
           1,
           1,
           1,
           1,
           1,
           1,
           1,
           1,
           1,
           1,
           1,
           1,
           1,
           1,
           1,
           1,
           1,
           1,
           1,
           1,
           1,
           1,
           1,
           1,
           1,
           1,
           1,
           1,
           1,
           1,
           1,
           1,
           1,
           1,
           1,
           1,
           1,
           1,
           1,
           1,
           1,
           1,
           1,
           1,
           1,
           1,
           1,
           1,
           1,
           1,
           1,
           1,
           1,
           1,
           1,
           1,
           1,
           1,
           1,
           1,
           1,
           1,
           1,
           1,
           1,
           1,
           1,
           1,
           1,
           1,
           1,
           1,
           1,
           1,
           1,
           1,
           1,
           1,
           1,
           1,
           1,
           1,
           1,
           1,
           1,
           1,
           1,
           1,
           1,
           1,
           1,
           1,
           1,
           1,
           1,
           1,
           1,
           1,
           1,
           1,
           1,
           1,
           1,
           1,
           1,
           1,
           1,
           1,
           1,
           1,
           1,
           1,
           1,
           1,
           1,
           1,
           1,
           1,
           1,
           1,
           1,
           1,
           1,
           1,
           1,
           1,
           1,
           1,
           1,
           1,
           1,
           1,
           1,
           1,
           1,
           1,
           1,
           1,
           1,
           1,
           1,
           1,
           1,
           1,
           1,
           1,
           1,
           1,
           1,
           1,
           1,
           1,
           1,
           1,
           1,
           1,
           1,
           1,
           1,
           1,
           1,
           1,
           1,
           1,
           1,
           1,
           1,
           1,
           1,
           1,
           1,
           1,
           1,
           1,
           1,
           1,
           1,
           1,
           1,
           1,
           1,
           1,
           1,
           1,
           1,
           1,
           1,
           1,
           1,
           1,
           1,
           1,
           1,
           1,
           1,
           1,
           1,
           1,
           1,
           1,
           1,
           1,
           1,
           1,
           1,
           1,
           1,
           1,
           1,
           1,
           1,
           1,
           1,
           1,
           1,
           1,
           1
          ],
          "coloraxis": "coloraxis",
          "symbol": "square"
         },
         "mode": "markers",
         "name": "Class=1",
         "scene": "scene",
         "showlegend": true,
         "type": "scatter3d",
         "x": [
          -0.16744780243410617,
          -0.08240044815373544,
          -0.06628035597981968,
          0.24536628062644994,
          -0.09648968101434523,
          -0.21725854048395052,
          -0.11777031892747747,
          -0.04857264835393568,
          -0.21804057697411705,
          -0.1631785563984045,
          -0.17229939475453793,
          0.4334761855366482,
          0.18602026875839056,
          -0.19844756834316288,
          0.06100761870256506,
          0.07158591313781129,
          -0.07379246109606931,
          -0.21283593108838425,
          -0.09644563370935487,
          -0.20488161625500087,
          2.225734447781931,
          -0.0695385152442582,
          -0.050930251975584186,
          -0.20858058110716404,
          -0.16569753651958222,
          -0.3762932958957762,
          -0.120267805508267,
          0.005522319387283826,
          -0.17877605607834177,
          -0.17980153899762996,
          -0.2005922950610995,
          -0.14728551331328366,
          -0.07552891088251153,
          -0.07417927222884915,
          -0.0758429072325316,
          0.4239410350120934,
          -0.23172797252144559,
          -0.19521380768178379,
          0.04594904853591913,
          -0.22998838825346654,
          -0.16449736917467603,
          -0.12431835145073222,
          -0.08031726600454353,
          -0.12923425487348775,
          -0.1989466456459972,
          -0.05993882387928662,
          0.7737171432900557,
          -0.18024247895928164,
          -0.18054651340442454,
          -0.09427842904351576,
          -0.2765404379122059,
          -0.20002738615634602,
          -0.021123105371057556,
          0.19169221270817932,
          -0.26053046967949883,
          -0.07115924717409045,
          0.672183867537368,
          -0.14736300996719787,
          -0.18379157904848256,
          -0.020668836559777286,
          -0.07961018097731869,
          -0.20957472937910168,
          -0.17507070186002494,
          0.7748082924671548,
          -0.20424751840645397,
          -0.2214997388178235,
          0.26762283268799547,
          -0.172840379443098,
          -0.2057145543503944,
          -0.28686555701163624,
          0.14049440456171372,
          0.4686285140294306,
          -0.19575244115676158,
          -0.08591441423137516,
          -0.18504571465717737,
          -0.19021637767999486,
          -0.20811566334606507,
          -0.29937587127568094,
          -0.20006184977621833,
          0.49943341620500487,
          -0.09104667793501148,
          -0.15400795330543235,
          -0.19003452517205932,
          -0.08523330475081055,
          -0.20877433143247273,
          -0.05691840811417291,
          -0.3057494553253884,
          -0.08116052892860323,
          -0.15195596422110774,
          -0.18591895175075807,
          0.44544197210634146,
          -0.18342458456789426,
          0.46276149464166744,
          0.014671924014748481,
          0.7577473842712734,
          -0.4281985574872607,
          -0.15649596808383023,
          -0.18829936291766514,
          -0.18884469079433422,
          -0.09399053651465093,
          -0.059041995478889456,
          -0.019497225992000017,
          -0.4853384838170532,
          -0.15061497691582543,
          -0.03521142672263062,
          -0.17949116676220814,
          -0.1998872100431934,
          0.051008195375452814,
          -0.15722113770695814,
          -0.3869632423023075,
          0.4354470307386313,
          -0.7375812341639331,
          0.47437325409230136,
          -0.17117891574321364,
          -0.20263434689186832,
          -0.1702799632327873,
          -0.16029211704621527,
          -0.21093099898153148,
          -0.0629484506657429,
          0.47389990770284474,
          -0.6059575484504721,
          -0.17903203445577182,
          -0.0916596522548013,
          2.9047009622863333,
          -0.21905755261930712,
          -0.20651363158912509,
          -0.19160492368756954,
          -0.21160995213738293,
          0.4834083295504798,
          0.4115993440777282,
          -0.14597962092560476,
          -0.22012908697923111,
          -0.0536885591840084,
          -0.22708470232498973,
          -0.20906323739486113,
          -0.20232952474296523,
          -0.07026844381878017,
          -0.21553744478152023,
          -0.14651839100525996,
          1.6270589523618677,
          -0.10503409484651374,
          0.46058847830266336,
          0.026783811087248737,
          -0.20275262344963993,
          -0.41785492135519864,
          -0.06639229446380537,
          1.079658776162644,
          -0.2304136837967153,
          -0.19972674419386932,
          -0.1728622449984057,
          -0.17182116165817332,
          -0.19715470785136144,
          -0.08536071757959339,
          -0.05150712351885242,
          -0.33175884392714844,
          0.24634750107300482,
          0.05357017141530934,
          -0.24652405309302425,
          -0.5489565721392999,
          -0.18820352804416365,
          0.23205926713731775,
          -0.2014591226034845,
          0.4920674727428952,
          -0.17258673071958525,
          -0.3119179172817952,
          -0.3551849834523242,
          -0.09586041526995019,
          -0.21443736000087454,
          0.5147090298795388,
          -0.012753309018100276,
          0.4028913598487049,
          -0.10619888634173992,
          0.3927627860180473,
          -0.04175320313263732,
          2.8489133778385907,
          -0.07574911176238612,
          0.531929185368822,
          -0.5277271914820016,
          -0.17151053796020865,
          -0.2190521956440138,
          -0.17459122855410583,
          -0.31078611326466127,
          -0.7224807083565766,
          -0.2279725581483221,
          -0.529602005745795,
          -0.18156101203890157,
          -0.1224234547647299,
          -1.2860226181160441,
          0.7699902110726469,
          -0.3365017475608168,
          -0.32410893312936806,
          -0.5634706652437567,
          -0.31054083952759226,
          -0.3175150640226003,
          -0.21931437550268207,
          -0.1941088039083669,
          0.5023345817947832,
          0.23352269999817654,
          -0.12354834527022965,
          0.5086862028704504,
          -0.3530250151384075,
          -0.03292023062547209,
          -0.6288004316802166,
          0.003151970046112521,
          -0.04710494043282449,
          -1.5908031764853425,
          -0.1439713594279716,
          -0.08567083446889664,
          0.6719328699939112,
          -0.22400128255659707,
          -0.1579533086889687,
          -0.10757025308226617,
          0.24395039235338808,
          -0.169441354997975,
          0.026430266629119934,
          -0.016902297304846565,
          0.14833455014392266,
          -0.483351110146991,
          -0.12297142235940269,
          -0.40176456677901684,
          0.0024100430829119943,
          -0.12727586621163123,
          -0.08876700078408871,
          -0.1050495193247556,
          0.13712688106941556,
          -0.31865752772671335,
          -0.034223878034142195,
          0.3556691954969719,
          2.9397876222633177,
          -0.2950267973226952,
          0.1805683457507163,
          -0.38674421262448017,
          -0.17417067583262097,
          0.38022424326644944,
          -0.055414867857641575,
          -0.3026256354426668
         ],
         "y": [
          -1.0525670535269704,
          -1.0824995339377403,
          -1.7337070162037096,
          -0.927799822363831,
          -1.1157891397406068,
          -1.0830028174430901,
          -1.5057825161447593,
          -1.0368176106131386,
          -1.1067560104968928,
          -1.0094116196694476,
          -1.0107874290668042,
          -0.9542124821501822,
          -1.143677407928718,
          -1.1116442422233324,
          -1.0675222080671196,
          -1.1488416027514448,
          -1.09534175301963,
          -1.0857995383957775,
          -1.070062474818535,
          -1.130355480038011,
          -1.1424706623646779,
          -0.9290289828589071,
          -1.1238366878750279,
          -1.0971064379004574,
          -1.0551578321966901,
          -3.2934067692412454,
          -1.0795199285531698,
          -1.1045594843065618,
          -1.0604855168509872,
          -1.0423737472970331,
          -1.1418958541009137,
          -1.121450712839824,
          -0.919408982393842,
          -1.0110788891836278,
          -1.0133635388509348,
          -1.171962619744792,
          -0.9474185590987162,
          -1.078537461814992,
          -0.9473392449254743,
          -1.1205726860569591,
          -1.0720649762812895,
          -1.1382701615132207,
          -1.0757583009362488,
          -1.734842401894107,
          -1.0850752233819292,
          -1.3928897107206508,
          -1.2326758870756227,
          -1.7566286305796366,
          -1.2551925161743998,
          -1.5798733482620757,
          -2.703572346614271,
          -1.0728984226658655,
          -1.0643103231867568,
          -2.244270093705752,
          0.7940524255707125,
          -0.9144484836024761,
          -1.1731973130015263,
          -1.0984962235636029,
          -1.0207556332682688,
          -2.0798822417614287,
          -0.9504487234349125,
          -1.0501315793792771,
          -1.0879207875756887,
          -1.0811830761288268,
          -1.0962717599058422,
          -0.990326688367453,
          -1.0637359391922132,
          -1.089985319510163,
          -1.1287000704820773,
          0.7469699693181113,
          -1.6662122730594189,
          -0.9582573811524363,
          -1.0278959039063948,
          -0.7447270518705957,
          -1.1210052063353875,
          -1.0895190188293027,
          -1.0182691766188305,
          0.8198775127266079,
          -1.001738142188977,
          -1.9647985075371812,
          -0.9691322312176213,
          -1.8047291667156256,
          -1.1422353668948801,
          -0.9769809119539713,
          -1.1326625392037795,
          -2.079046085779078,
          -2.4129130531116436,
          -1.1269494155332356,
          -0.9876210688252337,
          -0.9671941212500721,
          -1.9665289156812988,
          -1.0374003905329814,
          -2.0097809855057993,
          -2.2062728112613392,
          -1.1302519220444698,
          -1.8291690504744433,
          0.37145472909374816,
          -1.113765514047005,
          -1.0445550826666226,
          -2.387227909771852,
          -1.1231247618821278,
          -1.993752359741571,
          -1.8377262412921747,
          -1.112624526314088,
          -1.0416419134910302,
          -1.0127670325004692,
          -1.0220076804977392,
          -1.112177442230206,
          -1.0809875041847465,
          -1.7717627693897195,
          -2.675437258491605,
          -4.240757297372654,
          -2.021341092419717,
          -0.9432788174978931,
          -1.0586947221860106,
          -1.0645436146508453,
          -1.0252773910569357,
          -1.0410578829132544,
          -2.0700023331890662,
          -2.0126669054127473,
          -2.8635857886109664,
          -1.0252876131324107,
          -1.1278700988457047,
          -1.8136550722885973,
          -1.058340479896193,
          -1.1339596913119567,
          -1.0701835041185945,
          -1.0979727043948042,
          -1.989931623183903,
          -2.8905914378652993,
          -0.9824435735334947,
          -1.5724412323788457,
          -0.7211280518103644,
          0.8566347255625927,
          -1.015919978604766,
          -1.5800246863014977,
          -2.0632220125329246,
          -1.6029039596742034,
          -1.7424546361917583,
          -2.1265626692222845,
          -0.9170257174052513,
          -1.976673376158955,
          -2.0346765242825824,
          -1.0354189199604398,
          -1.8170169583294755,
          -1.1013233147933812,
          -1.5778600144913397,
          -1.0483982871822812,
          -1.5921980879972384,
          -1.5978486219256436,
          -1.1005640255271125,
          -0.9982176200987442,
          -0.9554585110704293,
          -2.0666345073270955,
          -0.10683174691854909,
          -1.6850760730522945,
          -1.0957780907145174,
          -1.4600751016311353,
          -3.2686407608649493,
          -1.1011103331469887,
          -1.1721912914906727,
          -1.0373897293731347,
          -2.0080601194636287,
          -1.0778379820893444,
          -3.183188411944294,
          -2.3879141032820654,
          -1.3432455829717214,
          -1.0243474211044767,
          -1.999107273817245,
          -0.9903427012090886,
          -1.8274643165216133,
          -1.4139640270530012,
          -0.06230399701347486,
          -2.149378348459331,
          -2.137689943180787,
          -0.5880637959010041,
          -2.028970316475286,
          -1.0274386282980648,
          -1.4415336520349022,
          -1.0090892788705979,
          -1.066505548000958,
          -2.3982065454316706,
          -1.4313349290899524,
          -0.9803881827457833,
          -1.0534279281654735,
          -2.453056232988207,
          -1.3965246286113564,
          -4.039816183082104,
          -2.2212794790709554,
          -2.7027104954692818,
          -2.6443496918776384,
          -0.46546534204850204,
          -3.1049285206701196,
          -2.360290005722874,
          -1.3912042576906547,
          -1.3202633883909471,
          -3.2176255466576578,
          -1.28591975791991,
          -0.4020175918006261,
          -1.9854489092201237,
          -2.3874456804523096,
          -1.0223501452460224,
          -1.4058024863548064,
          -2.066853196862366,
          -0.9607338942162201,
          -4.094704720031183,
          -1.57216585190333,
          -2.099355151379562,
          -1.9696902697651977,
          -1.0932964846971884,
          -1.0482298867243502,
          -1.0487784201460677,
          -1.7820462716310412,
          -1.061821318325999,
          -1.0079739215666277,
          -1.058452613044994,
          -1.0519672613047433,
          -2.3677308652938525,
          -1.3963763102893756,
          -1.781746395634443,
          -1.0362509751830047,
          -0.8775463257229456,
          -1.032030306163953,
          -1.1042135110616214,
          -3.527819920971387,
          -2.4501902631190395,
          -1.5207025878533664,
          -1.7594546707632603,
          -4.234622238142906,
          -2.4061286622120637,
          -2.0495530085563107,
          -1.8060718237649327,
          -1.3990191072387625,
          -1.9629499603186698,
          -2.065447094351906,
          -2.3941449538519164
         ],
         "z": [
          0.7756029466634606,
          0.6511633200411497,
          1.2501738841821088,
          1.080045530943041,
          0.6590021939568322,
          0.6606382871103412,
          0.48001249382718,
          0.6782590084318374,
          0.6698411887847914,
          0.6770060494067662,
          0.6159712125497429,
          1.139482785737393,
          0.6441607776450784,
          0.6565603315764943,
          0.6291302146735284,
          -0.43018352223845147,
          0.6408100354042654,
          0.6887526087670386,
          0.7000255292145454,
          0.70640008069726,
          0.5334279462472119,
          0.9663077599880738,
          0.6492459827082024,
          0.6072550968802379,
          0.6867746387943318,
          0.6554583111394757,
          0.6188957636799961,
          0.6535556394673049,
          0.6643355615487914,
          0.7130355428664272,
          0.5928496941297314,
          0.6688362387559204,
          1.1092970511121782,
          1.1053455273038721,
          1.0502356237624264,
          3.445908274146456,
          0.5588090748346958,
          0.6694362633791414,
          1.1074903734939077,
          0.7038436432717353,
          0.669159278753757,
          0.7142268715401743,
          0.6451713133980229,
          1.1871624762592976,
          0.7140284302737665,
          0.20099956500105665,
          0.6993438898643036,
          1.2541295083676367,
          1.158823226975367,
          1.0289445931361734,
          1.382061617959639,
          0.6726226030700106,
          0.5796829058666547,
          1.524413998266393,
          1.7714867123612172,
          1.120584180969862,
          0.730034796013291,
          0.6890645749781813,
          0.6147997433195524,
          2.2890096889394935,
          1.0542866586042017,
          0.6621021229758673,
          0.7118852372305742,
          0.6086521344188457,
          0.7221459350963906,
          0.5711136021511767,
          2.545662716201394,
          0.6785982665816244,
          0.6717806529166115,
          1.750491847740548,
          2.5679157839363147,
          1.0558557584963468,
          0.585925104074823,
          1.251692685615068,
          0.6256239605108834,
          0.7016720370422125,
          0.6740362769431838,
          1.7299353286374077,
          0.627676297906752,
          1.788846697262495,
          1.2092040856848834,
          1.1946289472452116,
          0.7338702692818911,
          1.1468408394195826,
          0.6370663160598983,
          1.5755287333730628,
          1.2888329926498714,
          0.7054732836162383,
          0.520921846699838,
          0.6384605688299532,
          1.8226338188502689,
          0.7100211122156308,
          1.8093214213989826,
          2.2648973342643397,
          0.5378237594494278,
          2.1629672248671343,
          1.1691086398768253,
          0.7046152290379366,
          0.6022350937495925,
          1.2605837921608931,
          0.6409232247105798,
          2.2889258977052687,
          0.3880273005951305,
          0.6872650013775028,
          -0.002570664292011307,
          0.7370798550127153,
          0.6530490667838852,
          1.1892640715014244,
          0.6274536100460175,
          2.1887516444337964,
          1.8648870097664998,
          0.9576575791417813,
          1.818249119249483,
          0.6202433921180839,
          0.6229621396512003,
          0.7326357413627581,
          0.6536964569208592,
          0.642681418321549,
          1.5784691090488017,
          1.8718534624319716,
          1.3275809986580065,
          0.6576059734476065,
          0.6145716689112242,
          1.1815116696844354,
          0.6783962460982831,
          0.5790092116375575,
          0.59575479087701,
          0.6045930629257265,
          1.7383452887641586,
          1.7675190514274879,
          0.5620293201259383,
          0.9767791056042943,
          1.2076676389524728,
          1.8061780543159407,
          0.5805089293232301,
          1.0725554245044748,
          1.5610376799524373,
          0.903869817374608,
          1.2055833671236968,
          1.8960025559447105,
          1.1262336468321053,
          1.8164866395399117,
          1.5610503965690066,
          0.5368718503373092,
          2.1526076726080237,
          0.7223451178270058,
          0.571444211488356,
          0.5275442667043684,
          1.00002473448596,
          0.9992632746402211,
          0.6407197792721824,
          0.6551733367148439,
          1.0744165286430258,
          0.03756571989486592,
          0.462007026324016,
          1.4066020636610015,
          0.6407967849532729,
          0.19445828493818423,
          13.826572835564814,
          0.7183304579003899,
          0.6706525562029455,
          0.5616902897841249,
          1.7719757115247414,
          0.685060288082832,
          2.7622849614794536,
          1.2927495709698904,
          1.8084748124235617,
          0.6184515838594751,
          1.857274505181784,
          -0.015729352863511646,
          0.6931612182290194,
          1.6898680508681327,
          2.8503426157007468,
          0.8093993349679818,
          1.8440801726047322,
          1.8186600302757678,
          1.8557169119089736,
          0.30829705244173944,
          0.5147535963506543,
          0.5556939375419245,
          0.7113785563706048,
          -0.18994760484272957,
          -0.16348415694721946,
          0.5812710462943838,
          0.3589499237576942,
          1.258299350225512,
          1.8255097512196627,
          1.9527076327213702,
          2.0467651596992673,
          1.3520395873323563,
          1.4395493465854545,
          0.13789682302734105,
          0.6781782001213201,
          1.2437406356696026,
          0.13751759446465212,
          1.1648929570224158,
          1.3424545586476893,
          1.4113541214819696,
          -0.04490317259327634,
          1.8639649918187677,
          1.200363922842779,
          1.1268239325900442,
          1.914962029737828,
          1.58263102398302,
          1.081637763637779,
          0.48332919966770743,
          0.9582904007685684,
          1.624799703218834,
          1.8325331707638979,
          0.6521096032079038,
          0.6828916352443029,
          0.6720848997232456,
          1.2260265892384994,
          0.6718638079745338,
          1.6719447895054198,
          0.6766262647965985,
          2.2398207067027642,
          0.671800597349164,
          1.7558710862372557,
          2.189251097558521,
          1.4365562092209676,
          0.3821471149790054,
          1.0915303710347248,
          0.6559203812934207,
          1.2876451766357853,
          1.2408392855620993,
          0.44320166263168365,
          1.1744794447565656,
          3.6475750939362213,
          1.2444684156305474,
          1.5511436937726426,
          2.094035699394459,
          0.0862984105204271,
          1.4673981612418325,
          1.5691240196007854,
          1.2857244829964036
         ]
        },
        {
         "customdata": [
          [
           "SHA-256 + Hive"
          ],
          [
           "ECC 256K1"
          ],
          [
           "VeChainThor Authority"
          ],
          [
           "Proof-of-Authority"
          ]
         ],
         "hoverlabel": {
          "namelength": 0
         },
         "hovertemplate": "<b>%{hovertext}</b><br><br>Class=%{marker.color}<br>PC 1=%{x}<br>PC 2=%{y}<br>PC 3=%{z}<br>Algorithm=%{customdata[0]}",
         "hovertext": [
          "LitecoinCash",
          "Acute Angle Cloud",
          "VeChain",
          "Poa Network"
         ],
         "legendgroup": "Class=5",
         "marker": {
          "color": [
           5,
           5,
           5,
           5
          ],
          "coloraxis": "coloraxis",
          "symbol": "x"
         },
         "mode": "markers",
         "name": "Class=5",
         "scene": "scene",
         "showlegend": true,
         "type": "scatter3d",
         "x": [
          -0.09602912853460141,
          0.3411714888372793,
          5.954877233782488,
          -0.2601013388860764
         ],
         "y": [
          6.751554542836563,
          11.098661726462515,
          7.837495883057983,
          8.562342065774251
         ],
         "z": [
          -5.333234604749418,
          -6.260648275113881,
          -5.190783643716448,
          -7.625012835620198
         ]
        },
        {
         "customdata": [
          [
           "TRC10"
          ]
         ],
         "hoverlabel": {
          "namelength": 0
         },
         "hovertemplate": "<b>%{hovertext}</b><br><br>Class=%{marker.color}<br>PC 1=%{x}<br>PC 2=%{y}<br>PC 3=%{z}<br>Algorithm=%{customdata[0]}",
         "hovertext": [
          "BitTorrent"
         ],
         "legendgroup": "Class=2",
         "marker": {
          "color": [
           2
          ],
          "coloraxis": "coloraxis",
          "symbol": "cross"
         },
         "mode": "markers",
         "name": "Class=2",
         "scene": "scene",
         "showlegend": true,
         "type": "scatter3d",
         "x": [
          44.181076568958865
         ],
         "y": [
          0.7911948208812308
         ],
         "z": [
          -1.9410407269402137
         ]
        },
        {
         "customdata": [
          [
           "Leased POS"
          ]
         ],
         "hoverlabel": {
          "namelength": 0
         },
         "hovertemplate": "<b>%{hovertext}</b><br><br>Class=%{marker.color}<br>PC 1=%{x}<br>PC 2=%{y}<br>PC 3=%{z}<br>Algorithm=%{customdata[0]}",
         "hovertext": [
          "Waves"
         ],
         "legendgroup": "Class=3",
         "marker": {
          "color": [
           3
          ],
          "coloraxis": "coloraxis",
          "symbol": "circle"
         },
         "mode": "markers",
         "name": "Class=3",
         "scene": "scene",
         "showlegend": true,
         "type": "scatter3d",
         "x": [
          -0.9540254222624468
         ],
         "y": [
          26.190040400302127
         ],
         "z": [
          31.868066147454588
         ]
        }
       ],
       "layout": {
        "coloraxis": {
         "colorbar": {
          "title": {
           "text": "Class"
          }
         },
         "colorscale": [
          [
           0,
           "#0d0887"
          ],
          [
           0.1111111111111111,
           "#46039f"
          ],
          [
           0.2222222222222222,
           "#7201a8"
          ],
          [
           0.3333333333333333,
           "#9c179e"
          ],
          [
           0.4444444444444444,
           "#bd3786"
          ],
          [
           0.5555555555555556,
           "#d8576b"
          ],
          [
           0.6666666666666666,
           "#ed7953"
          ],
          [
           0.7777777777777778,
           "#fb9f3a"
          ],
          [
           0.8888888888888888,
           "#fdca26"
          ],
          [
           1,
           "#f0f921"
          ]
         ]
        },
        "legend": {
         "tracegroupgap": 0,
         "x": 0,
         "y": 1
        },
        "margin": {
         "t": 60
        },
        "scene": {
         "domain": {
          "x": [
           0,
           1
          ],
          "y": [
           0,
           1
          ]
         },
         "xaxis": {
          "title": {
           "text": "PC 1"
          }
         },
         "yaxis": {
          "title": {
           "text": "PC 2"
          }
         },
         "zaxis": {
          "title": {
           "text": "PC 3"
          }
         }
        },
        "template": {
         "data": {
          "bar": [
           {
            "error_x": {
             "color": "#2a3f5f"
            },
            "error_y": {
             "color": "#2a3f5f"
            },
            "marker": {
             "line": {
              "color": "#E5ECF6",
              "width": 0.5
             }
            },
            "type": "bar"
           }
          ],
          "barpolar": [
           {
            "marker": {
             "line": {
              "color": "#E5ECF6",
              "width": 0.5
             }
            },
            "type": "barpolar"
           }
          ],
          "carpet": [
           {
            "aaxis": {
             "endlinecolor": "#2a3f5f",
             "gridcolor": "white",
             "linecolor": "white",
             "minorgridcolor": "white",
             "startlinecolor": "#2a3f5f"
            },
            "baxis": {
             "endlinecolor": "#2a3f5f",
             "gridcolor": "white",
             "linecolor": "white",
             "minorgridcolor": "white",
             "startlinecolor": "#2a3f5f"
            },
            "type": "carpet"
           }
          ],
          "choropleth": [
           {
            "colorbar": {
             "outlinewidth": 0,
             "ticks": ""
            },
            "type": "choropleth"
           }
          ],
          "contour": [
           {
            "colorbar": {
             "outlinewidth": 0,
             "ticks": ""
            },
            "colorscale": [
             [
              0,
              "#0d0887"
             ],
             [
              0.1111111111111111,
              "#46039f"
             ],
             [
              0.2222222222222222,
              "#7201a8"
             ],
             [
              0.3333333333333333,
              "#9c179e"
             ],
             [
              0.4444444444444444,
              "#bd3786"
             ],
             [
              0.5555555555555556,
              "#d8576b"
             ],
             [
              0.6666666666666666,
              "#ed7953"
             ],
             [
              0.7777777777777778,
              "#fb9f3a"
             ],
             [
              0.8888888888888888,
              "#fdca26"
             ],
             [
              1,
              "#f0f921"
             ]
            ],
            "type": "contour"
           }
          ],
          "contourcarpet": [
           {
            "colorbar": {
             "outlinewidth": 0,
             "ticks": ""
            },
            "type": "contourcarpet"
           }
          ],
          "heatmap": [
           {
            "colorbar": {
             "outlinewidth": 0,
             "ticks": ""
            },
            "colorscale": [
             [
              0,
              "#0d0887"
             ],
             [
              0.1111111111111111,
              "#46039f"
             ],
             [
              0.2222222222222222,
              "#7201a8"
             ],
             [
              0.3333333333333333,
              "#9c179e"
             ],
             [
              0.4444444444444444,
              "#bd3786"
             ],
             [
              0.5555555555555556,
              "#d8576b"
             ],
             [
              0.6666666666666666,
              "#ed7953"
             ],
             [
              0.7777777777777778,
              "#fb9f3a"
             ],
             [
              0.8888888888888888,
              "#fdca26"
             ],
             [
              1,
              "#f0f921"
             ]
            ],
            "type": "heatmap"
           }
          ],
          "heatmapgl": [
           {
            "colorbar": {
             "outlinewidth": 0,
             "ticks": ""
            },
            "colorscale": [
             [
              0,
              "#0d0887"
             ],
             [
              0.1111111111111111,
              "#46039f"
             ],
             [
              0.2222222222222222,
              "#7201a8"
             ],
             [
              0.3333333333333333,
              "#9c179e"
             ],
             [
              0.4444444444444444,
              "#bd3786"
             ],
             [
              0.5555555555555556,
              "#d8576b"
             ],
             [
              0.6666666666666666,
              "#ed7953"
             ],
             [
              0.7777777777777778,
              "#fb9f3a"
             ],
             [
              0.8888888888888888,
              "#fdca26"
             ],
             [
              1,
              "#f0f921"
             ]
            ],
            "type": "heatmapgl"
           }
          ],
          "histogram": [
           {
            "marker": {
             "colorbar": {
              "outlinewidth": 0,
              "ticks": ""
             }
            },
            "type": "histogram"
           }
          ],
          "histogram2d": [
           {
            "colorbar": {
             "outlinewidth": 0,
             "ticks": ""
            },
            "colorscale": [
             [
              0,
              "#0d0887"
             ],
             [
              0.1111111111111111,
              "#46039f"
             ],
             [
              0.2222222222222222,
              "#7201a8"
             ],
             [
              0.3333333333333333,
              "#9c179e"
             ],
             [
              0.4444444444444444,
              "#bd3786"
             ],
             [
              0.5555555555555556,
              "#d8576b"
             ],
             [
              0.6666666666666666,
              "#ed7953"
             ],
             [
              0.7777777777777778,
              "#fb9f3a"
             ],
             [
              0.8888888888888888,
              "#fdca26"
             ],
             [
              1,
              "#f0f921"
             ]
            ],
            "type": "histogram2d"
           }
          ],
          "histogram2dcontour": [
           {
            "colorbar": {
             "outlinewidth": 0,
             "ticks": ""
            },
            "colorscale": [
             [
              0,
              "#0d0887"
             ],
             [
              0.1111111111111111,
              "#46039f"
             ],
             [
              0.2222222222222222,
              "#7201a8"
             ],
             [
              0.3333333333333333,
              "#9c179e"
             ],
             [
              0.4444444444444444,
              "#bd3786"
             ],
             [
              0.5555555555555556,
              "#d8576b"
             ],
             [
              0.6666666666666666,
              "#ed7953"
             ],
             [
              0.7777777777777778,
              "#fb9f3a"
             ],
             [
              0.8888888888888888,
              "#fdca26"
             ],
             [
              1,
              "#f0f921"
             ]
            ],
            "type": "histogram2dcontour"
           }
          ],
          "mesh3d": [
           {
            "colorbar": {
             "outlinewidth": 0,
             "ticks": ""
            },
            "type": "mesh3d"
           }
          ],
          "parcoords": [
           {
            "line": {
             "colorbar": {
              "outlinewidth": 0,
              "ticks": ""
             }
            },
            "type": "parcoords"
           }
          ],
          "pie": [
           {
            "automargin": true,
            "type": "pie"
           }
          ],
          "scatter": [
           {
            "marker": {
             "colorbar": {
              "outlinewidth": 0,
              "ticks": ""
             }
            },
            "type": "scatter"
           }
          ],
          "scatter3d": [
           {
            "line": {
             "colorbar": {
              "outlinewidth": 0,
              "ticks": ""
             }
            },
            "marker": {
             "colorbar": {
              "outlinewidth": 0,
              "ticks": ""
             }
            },
            "type": "scatter3d"
           }
          ],
          "scattercarpet": [
           {
            "marker": {
             "colorbar": {
              "outlinewidth": 0,
              "ticks": ""
             }
            },
            "type": "scattercarpet"
           }
          ],
          "scattergeo": [
           {
            "marker": {
             "colorbar": {
              "outlinewidth": 0,
              "ticks": ""
             }
            },
            "type": "scattergeo"
           }
          ],
          "scattergl": [
           {
            "marker": {
             "colorbar": {
              "outlinewidth": 0,
              "ticks": ""
             }
            },
            "type": "scattergl"
           }
          ],
          "scattermapbox": [
           {
            "marker": {
             "colorbar": {
              "outlinewidth": 0,
              "ticks": ""
             }
            },
            "type": "scattermapbox"
           }
          ],
          "scatterpolar": [
           {
            "marker": {
             "colorbar": {
              "outlinewidth": 0,
              "ticks": ""
             }
            },
            "type": "scatterpolar"
           }
          ],
          "scatterpolargl": [
           {
            "marker": {
             "colorbar": {
              "outlinewidth": 0,
              "ticks": ""
             }
            },
            "type": "scatterpolargl"
           }
          ],
          "scatterternary": [
           {
            "marker": {
             "colorbar": {
              "outlinewidth": 0,
              "ticks": ""
             }
            },
            "type": "scatterternary"
           }
          ],
          "surface": [
           {
            "colorbar": {
             "outlinewidth": 0,
             "ticks": ""
            },
            "colorscale": [
             [
              0,
              "#0d0887"
             ],
             [
              0.1111111111111111,
              "#46039f"
             ],
             [
              0.2222222222222222,
              "#7201a8"
             ],
             [
              0.3333333333333333,
              "#9c179e"
             ],
             [
              0.4444444444444444,
              "#bd3786"
             ],
             [
              0.5555555555555556,
              "#d8576b"
             ],
             [
              0.6666666666666666,
              "#ed7953"
             ],
             [
              0.7777777777777778,
              "#fb9f3a"
             ],
             [
              0.8888888888888888,
              "#fdca26"
             ],
             [
              1,
              "#f0f921"
             ]
            ],
            "type": "surface"
           }
          ],
          "table": [
           {
            "cells": {
             "fill": {
              "color": "#EBF0F8"
             },
             "line": {
              "color": "white"
             }
            },
            "header": {
             "fill": {
              "color": "#C8D4E3"
             },
             "line": {
              "color": "white"
             }
            },
            "type": "table"
           }
          ]
         },
         "layout": {
          "annotationdefaults": {
           "arrowcolor": "#2a3f5f",
           "arrowhead": 0,
           "arrowwidth": 1
          },
          "coloraxis": {
           "colorbar": {
            "outlinewidth": 0,
            "ticks": ""
           }
          },
          "colorscale": {
           "diverging": [
            [
             0,
             "#8e0152"
            ],
            [
             0.1,
             "#c51b7d"
            ],
            [
             0.2,
             "#de77ae"
            ],
            [
             0.3,
             "#f1b6da"
            ],
            [
             0.4,
             "#fde0ef"
            ],
            [
             0.5,
             "#f7f7f7"
            ],
            [
             0.6,
             "#e6f5d0"
            ],
            [
             0.7,
             "#b8e186"
            ],
            [
             0.8,
             "#7fbc41"
            ],
            [
             0.9,
             "#4d9221"
            ],
            [
             1,
             "#276419"
            ]
           ],
           "sequential": [
            [
             0,
             "#0d0887"
            ],
            [
             0.1111111111111111,
             "#46039f"
            ],
            [
             0.2222222222222222,
             "#7201a8"
            ],
            [
             0.3333333333333333,
             "#9c179e"
            ],
            [
             0.4444444444444444,
             "#bd3786"
            ],
            [
             0.5555555555555556,
             "#d8576b"
            ],
            [
             0.6666666666666666,
             "#ed7953"
            ],
            [
             0.7777777777777778,
             "#fb9f3a"
            ],
            [
             0.8888888888888888,
             "#fdca26"
            ],
            [
             1,
             "#f0f921"
            ]
           ],
           "sequentialminus": [
            [
             0,
             "#0d0887"
            ],
            [
             0.1111111111111111,
             "#46039f"
            ],
            [
             0.2222222222222222,
             "#7201a8"
            ],
            [
             0.3333333333333333,
             "#9c179e"
            ],
            [
             0.4444444444444444,
             "#bd3786"
            ],
            [
             0.5555555555555556,
             "#d8576b"
            ],
            [
             0.6666666666666666,
             "#ed7953"
            ],
            [
             0.7777777777777778,
             "#fb9f3a"
            ],
            [
             0.8888888888888888,
             "#fdca26"
            ],
            [
             1,
             "#f0f921"
            ]
           ]
          },
          "colorway": [
           "#636efa",
           "#EF553B",
           "#00cc96",
           "#ab63fa",
           "#FFA15A",
           "#19d3f3",
           "#FF6692",
           "#B6E880",
           "#FF97FF",
           "#FECB52"
          ],
          "font": {
           "color": "#2a3f5f"
          },
          "geo": {
           "bgcolor": "white",
           "lakecolor": "white",
           "landcolor": "#E5ECF6",
           "showlakes": true,
           "showland": true,
           "subunitcolor": "white"
          },
          "hoverlabel": {
           "align": "left"
          },
          "hovermode": "closest",
          "mapbox": {
           "style": "light"
          },
          "paper_bgcolor": "white",
          "plot_bgcolor": "#E5ECF6",
          "polar": {
           "angularaxis": {
            "gridcolor": "white",
            "linecolor": "white",
            "ticks": ""
           },
           "bgcolor": "#E5ECF6",
           "radialaxis": {
            "gridcolor": "white",
            "linecolor": "white",
            "ticks": ""
           }
          },
          "scene": {
           "xaxis": {
            "backgroundcolor": "#E5ECF6",
            "gridcolor": "white",
            "gridwidth": 2,
            "linecolor": "white",
            "showbackground": true,
            "ticks": "",
            "zerolinecolor": "white"
           },
           "yaxis": {
            "backgroundcolor": "#E5ECF6",
            "gridcolor": "white",
            "gridwidth": 2,
            "linecolor": "white",
            "showbackground": true,
            "ticks": "",
            "zerolinecolor": "white"
           },
           "zaxis": {
            "backgroundcolor": "#E5ECF6",
            "gridcolor": "white",
            "gridwidth": 2,
            "linecolor": "white",
            "showbackground": true,
            "ticks": "",
            "zerolinecolor": "white"
           }
          },
          "shapedefaults": {
           "line": {
            "color": "#2a3f5f"
           }
          },
          "ternary": {
           "aaxis": {
            "gridcolor": "white",
            "linecolor": "white",
            "ticks": ""
           },
           "baxis": {
            "gridcolor": "white",
            "linecolor": "white",
            "ticks": ""
           },
           "bgcolor": "#E5ECF6",
           "caxis": {
            "gridcolor": "white",
            "linecolor": "white",
            "ticks": ""
           }
          },
          "title": {
           "x": 0.05
          },
          "xaxis": {
           "automargin": true,
           "gridcolor": "white",
           "linecolor": "white",
           "ticks": "",
           "title": {
            "standoff": 15
           },
           "zerolinecolor": "white",
           "zerolinewidth": 2
          },
          "yaxis": {
           "automargin": true,
           "gridcolor": "white",
           "linecolor": "white",
           "ticks": "",
           "title": {
            "standoff": 15
           },
           "zerolinecolor": "white",
           "zerolinewidth": 2
          }
         }
        }
       }
      }
     },
     "metadata": {},
     "output_type": "display_data"
    }
   ],
   "source": [
    "# Creating a 3D-Scatter with the PCA data and the clusters\n",
    "fig = px.scatter_3d(\n",
    "    clustered_df,\n",
    "    x=\"PC 1\",\n",
    "    y=\"PC 2\",\n",
    "    z=\"PC 3\",\n",
    "    hover_name='CoinName',\n",
    "    hover_data= ['Algorithm'],\n",
    "    color=\"Class\",\n",
    "    symbol=\"Class\",\n",
    ")\n",
    "fig.update_layout(legend=dict(x=0, y=1))\n",
    "fig.show()\n"
   ]
  },
  {
   "cell_type": "markdown",
   "metadata": {},
   "source": [
    "#### Table of Tradable Cryptocurrencies"
   ]
  },
  {
   "cell_type": "code",
   "execution_count": 76,
   "metadata": {},
   "outputs": [
    {
     "data": {
      "application/vnd.holoviews_exec.v0+json": "",
      "text/html": "<div id='1348' style='display: table; margin: 0 auto;'>\n\n\n\n\n\n  <div class=\"bk-root\" id=\"a8a76bc0-e734-43ad-94fe-9d4feaee9af7\" data-root-id=\"1348\"></div>\n</div>\n<script type=\"application/javascript\">(function(root) {\n  function embed_document(root) {\n    \n  var docs_json = {\"8aec8d0c-2e73-4598-bd1c-007c6abbd0ac\":{\"roots\":{\"references\":[{\"attributes\":{\"columns\":[{\"id\":\"1320\",\"type\":\"TableColumn\"},{\"id\":\"1325\",\"type\":\"TableColumn\"},{\"id\":\"1330\",\"type\":\"TableColumn\"},{\"id\":\"1335\",\"type\":\"TableColumn\"},{\"id\":\"1340\",\"type\":\"TableColumn\"},{\"id\":\"1345\",\"type\":\"TableColumn\"}],\"height\":300,\"reorderable\":false,\"source\":{\"id\":\"1316\",\"type\":\"ColumnDataSource\"},\"view\":{\"id\":\"1349\",\"type\":\"CDSView\"},\"width\":700},\"id\":\"1348\",\"type\":\"DataTable\"},{\"attributes\":{\"callback\":null,\"data\":{\"Algorithm\":[\"Scrypt\",\"X13\",\"SHA-256\",\"SHA-256\",\"Scrypt\",\"X15\",\"Scrypt\",\"Scrypt\",\"Multiple\",\"Scrypt\",\"SHA-256\",\"Scrypt\",\"Scrypt\",\"Scrypt\",\"Groestl\",\"Scrypt\",\"Scrypt\",\"Scrypt\",\"Scrypt\",\"Scrypt\",\"X11\",\"Scrypt\",\"Groestl\",\"SHA-256\",\"Scrypt\",\"Scrypt\",\"Scrypt\",\"PoS\",\"Scrypt\",\"Scrypt\",\"Scrypt\",\"Scrypt\",\"Scrypt\",\"Scrypt\",\"X11\",\"Scrypt\",\"SHA-256\",\"Scrypt\",\"Scrypt\",\"Scrypt\",\"SHA3\",\"HybridScryptHash256\",\"Scrypt\",\"Scrypt\",\"SHA-256\",\"Scrypt\",\"Scrypt\",\"Scrypt\",\"NeoScrypt\",\"Scrypt\",\"Scrypt\",\"Scrypt\",\"Scrypt\",\"X11\",\"X11\",\"Multiple\",\"SHA-256\",\"X11\",\"SHA-256\",\"SHA-256\",\"SHA-256\",\"X11\",\"Scrypt\",\"Scrypt\",\"Scrypt\",\"Scrypt\",\"X11\",\"Multiple\",\"SHA-256\",\"X13\",\"Scrypt\",\"Counterparty\",\"Scrypt\",\"SHA-256\",\"Groestl\",\"Scrypt\",\"Scrypt\",\"X13\",\"Scrypt\",\"Scrypt\",\"Scrypt\",\"Scrypt\",\"X13\",\"Multiple\",\"Scrypt\",\"Scrypt\",\"X13\",\"Stanford Folding\",\"Scrypt\",\"X11\",\"X11\",\"Multiple\",\"QuBit\",\"NeoScrypt\",\"Scrypt\",\"NeoScrypt\",\"Blake\",\"Scrypt\",\"Scrypt\",\"SHA-256\",\"Scrypt\",\"Scrypt\",\"X11\",\"Scrypt\",\"M7 POW\",\"Scrypt\",\"Scrypt\",\"SHA-256\",\"Scrypt\",\"X11\",\"Scrypt\",\"Scrypt\",\"X11\",\"Lyra2RE\",\"SHA-256\",\"QUAIT\",\"X11\",\"SHA-256\",\"X11\",\"X11\",\"Scrypt\",\"Scrypt\",\"Scrypt\",\"Scrypt\",\"Scrypt\",\"Scrypt\",\"X13\",\"X11\",\"Scrypt\",\"PoS\",\"X15\",\"X11\",\"SHA-256\",\"Scrypt\",\"Scrypt\",\"X11\",\"SHA-256\",\"Scrypt\",\"1GB AES Pattern Search\",\"SHA-256\",\"X11\",\"SHA-256\",\"Scrypt\",\"SHA-256\",\"NIST5\",\"Scrypt\",\"X11\",\"Scrypt\",\"X11\",\"Scrypt\",\"Dagger\",\"Scrypt\",\"X11\",\"Scrypt\",\"SHA-256\",\"Scrypt\",\"PoS\",\"Scrypt\",\"X11\",\"X11\",\"SHA-256\",\"SHA-256\",\"NIST5\",\"X11\",\"Scrypt\",\"POS 3.0\",\"Scrypt\",\"Scrypt\",\"Scrypt\",\"X13\",\"X11\",\"X11\",\"X11\",\"Scrypt\",\"CryptoNight\",\"SHA-256\",\"SHA-256\",\"X11\",\"Scrypt\",\"Multiple\",\"Scrypt\",\"Scrypt\",\"Scrypt\",\"SHA-256\",\"Scrypt\",\"Scrypt\",\"SHA-256D\",\"PoS\",\"Scrypt\",\"X11\",\"PoS\",\"X13\",\"X14\",\"PoS\",\"SHA-256D\",\"Ethash\",\"Equihash\",\"X11\",\"Scrypt\",\"X11\",\"X13\",\"X11\",\"PoS\",\"Scrypt\",\"Scrypt\",\"X11\",\"PoS\",\"X11\",\"SHA-256\",\"Scrypt\",\"X11\",\"Scrypt\",\"Scrypt\",\"X11\",\"CryptoNight\",\"Scrypt\",\"Scrypt\",\"Scrypt\",\"Scrypt\",\"QuBit\",\"Scrypt\",\"CryptoNight\",\"Lyra2RE\",\"Scrypt\",\"SHA-256\",\"X11\",\"Scrypt\",\"X11\",\"Scrypt\",\"CryptoNight-V7\",\"Scrypt\",\"Scrypt\",\"Scrypt\",\"X13\",\"X11\",\"Equihash\",\"Scrypt\",\"Scrypt\",\"Lyra2RE\",\"Scrypt\",\"Dagger-Hashimoto\",\"X11\",\"Blake2S\",\"X11\",\"Scrypt\",\"PoS\",\"X11\",\"NIST5\",\"PoS\",\"X11\",\"Scrypt\",\"Scrypt\",\"Scrypt\",\"SHA-256\",\"X11\",\"Scrypt\",\"Scrypt\",\"Scrypt\",\"SHA-256\",\"PoS\",\"Scrypt\",\"X15\",\"SHA-256\",\"Scrypt\",\"X11\",\"CryptoNight-V7\",\"536\",\"Argon2d\",\"Cloverhash\",\"CryptoNight\",\"NIST5\",\"X11\",\"NIST5\",\"Skein\",\"Scrypt\",\"X13\",\"Scrypt\",\"X11\",\"PoS\",\"X11\",\"Scrypt\",\"Ethash\",\"CryptoNight\",\"X13\",\"Time Travel\",\"Scrypt\",\"SkunkHash v2 Raptor\",\"X11\",\"Skein\",\"X11\",\"Scrypt\",\"Scrypt\",\"PoS\",\"DPoS\",\"Scrypt\",\"Scrypt\",\"Scrypt\",\"Scrypt\",\"Scrypt\",\"Scrypt\",\"Scrypt\",\"CryptoNight\",\"SHA-512\",\"X11\",\"Equihash\",\"NeoScrypt\",\"X11\",\"Scrypt\",\"NeoScrypt\",\"Lyra2REv2\",\"Scrypt\",\"SHA-256\",\"NIST5\",\"PHI1612\",\"Dagger\",\"Scrypt\",\"Quark\",\"Scrypt\",\"POS 2.0\",\"Scrypt\",\"X11\",\"NeoScrypt\",\"Ethash\",\"NeoScrypt\",\"X11\",\"DPoS\",\"NIST5\",\"Multiple\",\"Scrypt\",\"CryptoNight\",\"SHA-256\",\"CryptoNight\",\"Ethash\",\"NIST5\",\"Quark\",\"X11\",\"CryptoNight-V7\",\"Scrypt\",\"Scrypt\",\"Scrypt\",\"BLAKE256\",\"X11\",\"NeoScrypt\",\"Quark\",\"NeoScrypt\",\"Scrypt\",\"Scrypt\",\"Scrypt\",\"X11\",\"X11\",\"SHA-256\",\"C11\",\"POS 3.0\",\"Ethash\",\"CryptoNight\",\"SkunkHash\",\"Scrypt\",\"Scrypt\",\"Lyra2REv2\",\"X13\",\"Proof-of-BibleHash\",\"SHA-256 + Hive\",\"Scrypt\",\"DPoS\",\"Scrypt\",\"X11\",\"C11\",\"X11\",\"XEVAN\",\"Scrypt\",\"CryptoNight\",\"Scrypt\",\"IMesh\",\"NIST5\",\"Scrypt\",\"Scrypt\",\"Equihash\",\"Scrypt\",\"Lyra2Z\",\"Green Protocol\",\"PoS\",\"Scrypt\",\"Semux BFT consensus\",\"X11\",\"Quark\",\"PoS\",\"CryptoNight\",\"X16R\",\"NIST5\",\"XEVAN\",\"Tribus\",\"Scrypt\",\"Lyra2Z\",\"CryptoNight\",\"CryptoNight Heavy\",\"CryptoNight\",\"Scrypt\",\"Scrypt\",\"Jump Consistent Hash\",\"SHA-256D\",\"CryptoNight\",\"Scrypt\",\"X15\",\"Scrypt\",\"Quark\",\"SHA-256\",\"DPoS\",\"X16R\",\"HMQ1725\",\"X11\",\"X16R\",\"Quark\",\"Quark\",\"Lyra2REv2\",\"Quark\",\"Scrypt\",\"Scrypt\",\"Cryptonight-GPU\",\"XEVAN\",\"X11\",\"X11\",\"Scrypt\",\"PoS\",\"X11\",\"X11\",\"Scrypt\",\"X16R\",\"Equihash\",\"XEVAN\",\"SHA-256\",\"Lyra2Z\",\"XEVAN\",\"SHA3-256\",\"X11\",\"CryptoNight\",\"Quark\",\"Quark\",\"Blake\",\"Blake\",\"Equihash\",\"Exosis\",\"Scrypt\",\"Quark\",\"Equihash\",\"Quark\",\"Scrypt\",\"Lyra2REv2\",\"QuBit\",\"Equihash+Scrypt\",\"Scrypt\",\"XEVAN\",\"SHA-256D\",\"X11\",\"SHA-256\",\"X13\",\"CryptoNight\",\"Quark\",\"TRC10\",\"Equihash\",\"SHA-256\",\"SHA-512\",\"ECC 256K1\",\"Cryptonight Haven\",\"Ethash\",\"Multiple\",\"SHA-256\",\"HEX\",\"Quark\",\"SHA-256\",\"DPoS\",\"Ouroboros\",\"SHA-512\",\"PoS\",\"Leased POS\",\"VeChainThor Authority\",\"POS 3.0\",\"Equihash\",\"DPoS\",\"NeoScrypt\",\"Proof-of-Authority\",\"DPoS\",\"SHA3\",\"SHA-256\",\"Ethash\",\"Scrypt\",\"CryptoNight\",\"Scrypt\",\"Scrypt\",\"Scrypt\",\"Scrypt\",\"VBFT\",\"Multiple\",\"Scrypt\",\"Scrypt\",\"SHA-256\",\"Equihash210,9\",\"SHA-256\",\"Scrypt\",\"SHA-256\",\"X11\",\"Keccak\",\"Lyra2Z\",\"CryptoNight\",\"CryptoNight-V7\",\"SHA-256\",\"Quark\",\"X13\",\"SHA-256\",\"Scrypt\",\"Scrypt\",\"X11GOST\",\"Equihash\",\"Groestl\",\"Multiple\",\"Shabal256\",\"Blake2b\",\"Equihash\",\"PoS\",\"Ethash\",\"X13\",\"BLAKE256\",\"CryptoNight-V7\",\"Lyra2REv2\",\"Blake2b\",\"Ethash\",\"X11\",\"Equihash\"],\"Class\":{\"__ndarray__\":\"AAAAAAQAAAAAAAAAAAAAAAEAAAAAAAAAAQAAAAAAAAABAAAABAAAAAEAAAABAAAAAQAAAAAAAAABAAAAAQAAAAAAAAABAAAAAAAAAAEAAAABAAAAAAAAAAAAAAABAAAAAQAAAAEAAAABAAAAAAAAAAEAAAABAAAAAQAAAAEAAAABAAAAAAAAAAAAAAABAAAAAQAAAAEAAAABAAAAAQAAAAAAAAABAAAAAAAAAAEAAAAAAAAAAAAAAAEAAAABAAAAAAAAAAAAAAABAAAAAQAAAAEAAAAAAAAAAAAAAAAAAAABAAAAAAAAAAEAAAABAAAAAQAAAAEAAAAAAAAAAAAAAAAAAAABAAAAAAAAAAAAAAABAAAAAAAAAAAAAAAAAAAAAQAAAAAAAAAAAAAAAAAAAAEAAAAAAAAAAQAAAAAAAAABAAAAAAAAAAAAAAABAAAAAQAAAAAAAAAAAAAAAQAAAAEAAAAAAAAAAAAAAAEAAAABAAAAAQAAAAAAAAAAAAAAAQAAAAEAAAAAAAAAAAAAAAAAAAAAAAAAAAAAAAEAAAABAAAAAAAAAAEAAAABAAAAAQAAAAAAAAABAAAAAAAAAAEAAAABAAAAAQAAAAAAAAABAAAAAAAAAAAAAAAAAAAAAAAAAAEAAAABAAAAAQAAAAAAAAAAAAAAAAAAAAAAAAAAAAAAAAAAAAAAAAABAAAAAQAAAAEAAAABAAAAAAAAAAAAAAABAAAAAQAAAAAAAAAAAAAAAAAAAAAAAAABAAAAAAAAAAAAAAAAAAAAAAAAAAEAAAAAAAAAAQAAAAEAAAAAAAAAAAAAAAAAAAAAAAAAAAAAAAEAAAABAAAAAAAAAAAAAAAAAAAAAAAAAAAAAAABAAAAAAAAAAAAAAAAAAAAAAAAAAAAAAABAAAAAAAAAAAAAAAAAAAAAQAAAAAAAAABAAAAAAAAAAAAAAABAAAAAAAAAAEAAAAAAAAAAQAAAAAAAAABAAAAAAAAAAAAAAAAAAAAAAAAAAAAAAAAAAAAAAAAAAAAAAAAAAAAAQAAAAEAAAAAAAAAAQAAAAEAAAAAAAAAAAAAAAAAAAAAAAAAAAAAAAEAAAAAAAAAAAAAAAAAAAAAAAAAAAAAAAAAAAAAAAAAAAAAAAEAAAAAAAAAAAAAAAAAAAAAAAAAAAAAAAEAAAABAAAAAQAAAAAAAAAAAAAAAAAAAAAAAAABAAAAAAAAAAEAAAAAAAAAAQAAAAEAAAAAAAAAAQAAAAEAAAAAAAAAAQAAAAEAAAAAAAAAAQAAAAAAAAAAAAAAAAAAAAEAAAAAAAAAAAAAAAEAAAAAAAAAAAAAAAAAAAAAAAAAAAAAAAAAAAAAAAAAAQAAAAEAAAAAAAAAAQAAAAAAAAAAAAAAAAAAAAAAAAABAAAAAAAAAAEAAAAAAAAAAQAAAAEAAAABAAAAAAAAAAEAAAAAAAAAAAAAAAEAAAAAAAAAAQAAAAEAAAAAAAAAAQAAAAAAAAABAAAAAQAAAAAAAAABAAAABAAAAAAAAAABAAAAAAAAAAAAAAAAAAAAAQAAAAAAAAAEAAAAAQAAAAEAAAABAAAAAQAAAAEAAAAAAAAAAAAAAAEAAAAAAAAAAAAAAAEAAAAAAAAAAQAAAAAAAAABAAAAAAAAAAAAAAAAAAAAAAAAAAAAAAABAAAAAAAAAAAAAAABAAAAAAAAAAAAAAABAAAAAQAAAAEAAAABAAAAAAAAAAQAAAAAAAAAAQAAAAAAAAABAAAAAQAAAAEAAAABAAAAAAAAAAAAAAABAAAAAQAAAAAAAAAAAAAAAQAAAAEAAAABAAAAAQAAAAAAAAABAAAAAQAAAAAAAAAAAAAAAAAAAAEAAAABAAAAAQAAAAAAAAABAAAABAAAAAEAAAAAAAAAAQAAAAEAAAAAAAAAAQAAAAUAAAABAAAABAAAAAEAAAABAAAAAAAAAAAAAAAAAAAAAAAAAAEAAAABAAAAAQAAAAAAAAAAAAAAAAAAAAEAAAAAAAAAAQAAAAAAAAAAAAAAAAAAAAQAAAABAAAAAAAAAAAAAAABAAAAAAAAAAEAAAAAAAAAAQAAAAAAAAABAAAAAQAAAAEAAAABAAAAAAAAAAAAAAABAAAAAAAAAAEAAAAAAAAAAAAAAAAAAAAAAAAAAAAAAAAAAAABAAAAAQAAAAEAAAAAAAAAAAAAAAAAAAAAAAAAAAAAAAEAAAAAAAAAAQAAAAEAAAAAAAAAAAAAAAAAAAAAAAAAAAAAAAEAAAAAAAAAAQAAAAEAAAAAAAAAAAAAAAEAAAAAAAAAAQAAAAAAAAABAAAAAAAAAAAAAAABAAAAAQAAAAEAAAABAAAAAAAAAAAAAAABAAAAAAAAAAAAAAABAAAAAQAAAAEAAAAAAAAAAAAAAAAAAAAAAAAAAQAAAAEAAAABAAAAAAAAAAIAAAABAAAAAQAAAAAAAAAFAAAAAQAAAAEAAAAAAAAABAAAAAAAAAAAAAAAAQAAAAQAAAAAAAAAAAAAAAAAAAADAAAABQAAAAAAAAABAAAABAAAAAEAAAAFAAAABAAAAAAAAAAAAAAAAQAAAAAAAAABAAAAAAAAAAEAAAABAAAAAQAAAAAAAAABAAAAAAAAAAEAAAAAAAAAAAAAAAEAAAABAAAAAQAAAAAAAAABAAAAAQAAAAQAAAABAAAAAQAAAAEAAAAAAAAAAQAAAAEAAAAAAAAAAQAAAAEAAAABAAAAAQAAAAAAAAABAAAAAQAAAAAAAAABAAAAAAAAAAAAAAABAAAAAQAAAAEAAAABAAAAAAAAAAEAAAA=\",\"dtype\":\"int32\",\"shape\":[527]},\"CoinName\":[\"42 Coin\",\"EliteCoin\",\"BitcoinDark\",\"PayCoin\",\"ProsperCoin\",\"KoboCoin\",\"Argentum\",\"BlueCoin\",\"MyriadCoin\",\"MoonCoin\",\"ZetaCoin\",\"SexCoin\",\"Quatloo\",\"EnergyCoin\",\"Riecoin\",\"Digitalcoin \",\"BitBar\",\"Catcoin\",\"CryptoBullion\",\"CannaCoin\",\"CryptCoin\",\"CasinoCoin\",\"Diamond\",\"DevCoin\",\"EarthCoin\",\"E-Gulden\",\"Emerald\",\"Exclusive Coin\",\"FlutterCoin\",\"Franko\",\"GrandCoin\",\"GlobalCoin\",\"GoldCoin\",\"HoboNickels\",\"HyperStake\",\"Infinite Coin\",\"IXcoin\",\"KrugerCoin\",\"LuckyCoin\",\"Litebar \",\"MaxCoin\",\"MediterraneanCoin\",\"MintCoin\",\"MinCoin\",\"MazaCoin\",\"Nautilus Coin\",\"NobleCoin\",\"NyanCoin\",\"Orbitcoin\",\"PhoenixCoin\",\"RonPaulCoin\",\"StableCoin\",\"SmartCoin\",\"SuperCoin\",\"SyncCoin\",\"TeslaCoin\",\"TigerCoin\",\"TorCoin\",\"TerraCoin\",\"UnbreakableCoin\",\"Unobtanium\",\"UroCoin\",\"UnitaryStatus Dollar\",\"UltraCoin\",\"VeriCoin\",\"WorldCoin\",\"X11 Coin\",\"Crypti\",\"JouleCoin\",\"StealthCoin\",\"ZCC Coin\",\"StorjCoin\",\"MonaCoin\",\"Neutron\",\"FairCoin\",\"RubyCoin\",\"PesetaCoin\",\"Kore\",\"Wild Beast Coin\",\"Dnotes\",\"Flo\",\"8BIT Coin\",\"Sativa Coin\",\"JoinCoin\",\"ArtByte\",\"LiteDoge\",\"Triangles Coin\",\"Folding Coin\",\"SolarCoin\",\"TruckCoin\",\"Ucoin\",\"Unitus\",\"CypherPunkCoin\",\"UFO Coin\",\"OrangeCoin\",\"FriendshipCoin\",\"BlakeCoin\",\"OmniCron\",\"BitstarCoin\",\"NeosCoin\",\"HyperCoin\",\"Vtorrent\",\"PinkCoin\",\"GreenCoin\",\"Cryptonite\",\"BitcoinPlus\",\"MasterCoin\",\"SoonCoin\",\"1Credit\",\"IslaCoin\",\"Crypto Escudo\",\"AudioCoin\",\"MarsCoin \",\"Crypto\",\"Anarchists Prime\",\"Droidz\",\"BowsCoin\",\"IncaKoin\",\"Squall Coin\",\"Piggy Coin\",\"Genstake\",\"Song Coin\",\"SmileyCoin\",\"BitZeny\",\"Diggits\",\"XiaoMiCoin\",\"Paycon\",\"CapriCoin\",\" ClubCoin\",\"Radium\",\"EverGreenCoin\",\"MindCoin\",\"I0coin\",\"Bata\",\"Pakcoin\",\"Creditbit \",\"OKCash\",\"Revolution VR\",\"HOdlcoin\",\"EDRCoin\",\"Hitcoin\",\"DubaiCoin\",\"HiCoin\",\"CarpeDiemCoin\",\"PWR Coin\",\"BillaryCoin\",\"Influxcoin\",\"GPU Coin\",\"Adzcoin\",\"Gapcoin\",\"SoilCoin\",\"YoCoin\",\"EuropeCoin\",\"ZeitCoin\",\"SwingCoin\",\"SafeExchangeCoin\",\"Nebuchadnezzar\",\"Francs\",\"BolivarCoin\",\"Ratecoin\",\"Revenu\",\"Clockcoin\",\"VIP Tokens\",\"BitSend\",\"Omni\",\"Let it Ride\",\"PutinCoin\",\"iBankCoin\",\"Frankywillcoin\",\"MudraCoin\",\"PizzaCoin\",\"Lutetium Coin\",\"GoldBlocks\",\"CarterCoin\",\"Karbo\",\"BitTokens\",\"ZayedCoin\",\"MustangCoin\",\"ZoneCoin\",\"Circuits of Value\",\"RootCoin\",\"DopeCoin\",\"BitCurrency\",\"DollarCoin\",\"Swiscoin\",\"Shilling\",\"BuzzCoin\",\"Opair\",\"PesoBit\",\"Halloween Coin\",\"CoffeeCoin\",\"RoyalCoin\",\"GanjaCoin V2\",\"TeamUP\",\"LanaCoin\",\"Elementrem\",\"ZClassic\",\"InsaneCoin\",\"KiloCoin\",\"ArtexCoin\",\"EmberCoin\",\"XenixCoin\",\"FreeCoin\",\"PLNCoin\",\"AquariusCoin\",\"Kurrent\",\"Creatio\",\"Eternity\",\"Eurocoin\",\"BitcoinFast\",\"Stakenet\",\"BitConnect Coin\",\"MoneyCoin\",\"Enigma\",\"Cannabis Industry Coin\",\"Russiacoin\",\"PandaCoin\",\"GameUnits\",\"GAKHcoin\",\"LiteCreed\",\"OsmiumCoin\",\"Bikercoins\",\"HexxCoin\",\"Klingon Empire Darsek\",\"Internet of People\",\"KushCoin\",\"Printerium\",\"PacCoin\",\"Impeach\",\"Citadel\",\"Zilbercoin\",\"FirstCoin\",\"BeaverCoin\",\"FindCoin\",\"VaultCoin\",\"Zero\",\"OpenChat\",\"Canada eCoin\",\"Zoin\",\"RenosCoin\",\"DubaiCoin\",\"VirtacoinPlus\",\"TajCoin\",\"Impact\",\"EB3coin\",\"Atmos\",\"HappyCoin\",\"Coinonat\",\"MacronCoin\",\"Condensate\",\"Independent Money System\",\"ArgusCoin\",\"LomoCoin\",\"ProCurrency\",\"GoldReserve\",\"BenjiRolls\",\"ParallelCoin\",\"GrowthCoin\",\"ILCoin\",\"Phreak\",\"Degas Coin\",\"HTML5 Coin\",\"Ultimate Secure Cash\",\"EquiTrader\",\"Insane Coin\",\"Quantum Resistant Ledger\",\"Espers\",\"Dynamic\",\"ChanCoin\",\"Dinastycoin\",\"Denarius\",\"DigitalPrice\",\"Virta Unique Coin\",\"Bitcoin Planet\",\"Unify\",\"BritCoin\",\"SocialCoin\",\"ArcticCoin\",\"Particl\",\"DAS\",\"Linda\",\"Reality Clash\",\"LeviarCoin\",\"DeepOnion\",\"Bitcore\",\"gCn Coin\",\"Signatum\",\"Onix\",\"Cream\",\"Monoeci\",\"Draftcoin\",\"Sojourn Coin\",\"Stakecoin\",\"Oxycoin\",\"NewYorkCoin\",\"FrazCoin\",\"Kronecoin\",\"AdCoin\",\"Linx\",\"CoinonatX\",\"Ethereum Dark\",\"Sumokoin\",\"Obsidian\",\"Regalcoin\",\"BitcoinZ\",\"TrezarCoin\",\"Elements\",\"TerraNovaCoin\",\"VIVO Coin\",\"Rupee\",\"WomenCoin\",\"Theresa May Coin\",\"NamoCoin\",\"LUXCoin\",\"Pirl\",\"Xios\",\"Bitcloud 2.0\",\"eBoost\",\"KekCoin\",\"BlackholeCoin\",\"Pura\",\"Innova\",\"Ellaism\",\"GoByte\",\"Magnet\",\"Lamden Tau\",\"Electra\",\"SHIELD\",\"Cash & Back Coin\",\"UltraNote\",\"GlobalToken\",\"BitCoal\",\"DaxxCoin\",\"Bulwark\",\"Kalkulus\",\"AC3\",\"Lethean\",\"GermanCoin\",\"LiteCoin Ultra\",\"PopularCoin\",\"Photon\",\"Sucre\",\"SparksPay\",\"Digiwage\",\"GunCoin\",\"IrishCoin\",\"Trollcoin\",\"Litecoin Plus\",\"Monkey Project\",\"Pioneer Coin\",\"UnitedBitcoin\",\"Interzone\",\"TokenPay\",\"1717 Masonic Commemorative Token\",\"TurtleCoin\",\"MUNcoin\",\"Unified Society USDEX\",\"ShareChain\",\"KREDS\",\"Tokyo Coin\",\"BiblePay\",\"LitecoinCash\",\"BitFlip\",\"ALAX\",\"LottoCoin\",\"Crypto Improvement Fund\",\"Stipend\",\"Pushi\",\"Ellerium\",\"Velox\",\"BitTube\",\"Poseidon\",\"Aidos Kuneen\",\"Bitspace\",\"Briacoin\",\"Ignition\",\"Bitrolium\",\"MedicCoin\",\"Alpenschillling\",\"Bitcoin Green\",\"Deviant Coin\",\"Abjcoin\",\"Semux\",\"FuturoCoin\",\"Carebit\",\"Zealium\",\"Monero Classic\",\"Proton\",\"Jumpcoin\",\"Bitcoin Incognito\",\"KEYCO\",\"HollyWoodCoin\",\"GINcoin\",\"PlatinCoin\",\"Loki\",\"Newton Coin\",\"Swisscoin\",\"Xt3ch\",\"MassGrid\",\"TheVig\",\"PluraCoin\",\"EmaratCoin\",\"Dekado\",\"Lynx\",\"Poseidon Quark\",\"BitcoinWSpectrum\",\"Muse\",\"Motion\",\"PlusOneCoin\",\"Axe\",\"Trivechain\",\"Dystem\",\"Giant\",\"Absolute Coin\",\"Vitae\",\"HexCoin\",\"TPCash\",\"Ryo\",\"Urals Coin\",\"ARENON\",\"EUNO\",\"MMOCoin\",\"Ketan\",\"PAXEX\",\"Azart\",\"ThunderStake\",\"Xchange\",\"CrypticCoin\",\"Bettex coin\",\"TigerCash\",\"Actinium\",\"BitMoney\",\"Fiii\",\"Junson Ming Chan Coin\",\"FREDEnergy\",\"Zenad\",\"HerbCoin\",\"Universal Molecule\",\"Lithium\",\"PirateCash\",\"Exosis\",\"Oduwa\",\"Galilel\",\"Bithereum\",\"Crypto Sports\",\"Credit\",\"Scribe Network\",\"SLICE\",\"Vollar\",\"Nasdacoin\",\"Beetle Coin\",\"Titan Coin\",\"Award\",\"BLAST\",\"Bitcoin Rhodium\",\"Beldex\",\"STREAMIT COIN\",\"BitTorrent\",\"Beam\",\"Project Pai\",\"Kcash\",\"Acute Angle Cloud\",\"BLOC.MONEY\",\"Callisto Network\",\"Crown Coin\",\"Zeph\",\"XDNA\",\"Lobstex\",\"Bitcoin\",\"EOS\",\"Cardano\",\"Bitshares\",\"Steem\",\"Waves\",\"VeChain\",\"QTUM\",\"Komodo\",\"Lisk\",\"FeatherCoin\",\"Poa Network\",\"ARK\",\"Nexus\",\"Infinity Economics\",\"Expanse\",\"WhiteCoin\",\"DigitalNote \",\"PotCoin\",\"Gamecredits\",\"MegaCoin\",\"Litecoin\",\"Ontology\",\"DigiByte\",\"Aurora Coin\",\"Gulden\",\"Emercoin\",\"Aion\",\"Bitcoin Cash\",\"ViaCoin\",\"SysCoin\",\"IOCoin\",\"SmartCash\",\"ZCoin\",\"ByteCoin\",\"Webchain\",\"Bitcoin SV\",\"QuarkCoin\",\"Bitcoin Diamond\",\"Namecoin\",\"Einsteinium\",\"Reddcoin\",\"SibCoin\",\"Bitcoin Gold\",\"Groestlcoin\",\"Verge\",\"BurstCoin\",\"Siacoin\",\"Horizen\",\"Nxt\",\"Ethereum\",\"NavCoin\",\"Decred\",\"Monero\",\"Vertcoin\",\"Nano\",\"Ethereum Classic\",\"Dash\",\"ZCash\"],\"ProofType\":[\"PoW/PoS\",\"PoW/PoS\",\"PoW/PoS\",\"PoS\",\"PoW\",\"PoW/PoS\",\"PoW\",\"PoW/PoS\",\"PoW\",\"PoW\",\"PoW\",\"PoW\",\"PoW\",\"PoW/PoS\",\"PoW\",\"PoW\",\"PoW/PoS\",\"PoW\",\"PoW/PoS\",\"PoW\",\"PoW\",\"PoC\",\"PoW/PoS\",\"PoW\",\"PoW\",\"PoW\",\"PoW\",\"PoS\",\"PoS/PoW/PoT\",\"PoW\",\"PoW\",\"PoW\",\"PoW\",\"PoW/PoS\",\"PoS\",\"PoW\",\"PoW\",\"PoW\",\"PoW\",\"PoW\",\"PoW/PoS\",\"PoW\",\"PoS\",\"PoW\",\"PoW/PoS\",\"PoS\",\"PoW\",\"PoW\",\"PoW/PoS\",\"PoW/PoS\",\"PoW\",\"PoW\",\"PoW\",\"PoS\",\"PoW/PoS\",\"PoS\",\"PoW\",\"PoW/PoS\",\"PoW\",\"PoW\",\"PoW\",\"PoW\",\"PoW/PoS\",\"PoW/PoS\",\"PoST\",\"PoW\",\"PoW/PoS\",\"PoS\",\"PoW\",\"PoW/PoS\",\"PoW/PoS\",\"PoS\",\"PoW\",\"PoW/PoS\",\"PoW/PoS\",\"PoS\",\"PoW\",\"PoW/PoS\",\"PoW\",\"PoS\",\"PoW\",\"PoW/PoS\",\"PoW/PoS\",\"PoW\",\"PoW\",\"PoW/PoS\",\"PoW/PoS\",\"PoW\",\"PoW\",\"PoW/PoS\",\"PoS\",\"PoW\",\"PoW\",\"PoW\",\"PoW/PoS\",\"PoW/PoS\",\"PoW\",\"PoW\",\"PoW/PoS\",\"PoS\",\"PoW/PoS\",\"PoW/PoS\",\"PoW/PoS\",\"PoW\",\"PoW\",\"PoS\",\"PoW\",\"PoW\",\"PoW\",\"PoW/PoS\",\"PoW\",\"PoW/PoS\",\"PoW\",\"PoW\",\"PoW\",\"PoW/PoS\",\"PoW\",\"PoW/PoS\",\"PoS/PoW\",\"PoW/PoS\",\"PoW/PoS\",\"PoW\",\"PoW\",\"PoW\",\"PoS\",\"PoW/PoS\",\"PoW/PoS\",\"PoW/PoS\",\"PoW/PoS\",\"PoS\",\"PoW/PoS\",\"PoW\",\"PoW\",\"PoW\",\"PoW\",\"Proof of Trust\",\"PoW/PoS\",\"PoW\",\"PoW\",\"PoW/PoS\",\"PoW/PoS\",\"PoW/PoS\",\"PoS\",\"PoW\",\"PoW/PoS\",\"PoW/PoS\",\"PoW/PoS\",\"PoS\",\"PoW\",\"PoW/PoS\",\"PoW\",\"PoW\",\"PoW/PoS\",\"PoS\",\"PoW/PoS\",\"PoC\",\"PoS\",\"PoW\",\"PoW\",\"PoW/PoS\",\"PoW/PoS\",\"PoW/PoS\",\"PoW/PoS\",\"PoW/PoS\",\"PoW\",\"PoS\",\"PoW/PoS\",\"PoW/PoS\",\"PoW/PoS\",\"PoS\",\"PoW\",\"PoS\",\"PoW/PoS\",\"PoW/PoS\",\"PoW\",\"PoW/PoS\",\"PoW\",\"PoW/PoS\",\"PoW/PoS\",\"PoW\",\"PoW/PoS\",\"PoW\",\"PoS\",\"PoW\",\"PoW/PoW\",\"PoW\",\"PoW/PoS\",\"PoS\",\"PoW/PoS\",\"PoW/PoS\",\"PoS\",\"PoS\",\"PoW/PoS\",\"PoS\",\"PoW/PoS\",\"PoW\",\"PoW\",\"PoW/PoS\",\"PoW\",\"PoW\",\"PoW/PoS\",\"PoW/PoS\",\"PoS\",\"PoW/PoS\",\"PoW/PoS\",\"PoW\",\"PoS\",\"PoW/PoS\",\"PoW/PoS\",\"PoW/PoS\",\"TPoS\",\"PoW/PoS\",\"PoW/PoS\",\"PoW/PoS\",\"PoW\",\"PoW/PoS\",\"PoS\",\"PoW/PoS\",\"PoW/PoS\",\"PoW/PoS\",\"PoW\",\"PoW\",\"PoW\",\"PoW/PoS\",\"PoW/PoS\",\"PoW/PoS\",\"PoW/PoS\",\"PoW\",\"PoW/PoS\",\"PoW\",\"PoS\",\"PoW/PoS \",\"PoW\",\"PoS\",\"PoW\",\"PoW\",\"PoW/PoS\",\"PoW\",\"PoW\",\"PoS\",\"PoW\",\"PoW/PoS\",\"PoW/PoS\",\"PoW/PoS\",\"PoW\",\"PoS\",\"PoW/PoS\",\"PoW\",\"PoS\",\"PoW/PoS\",\"PoW/PoS\",\"PoW/PoS\",\"PoW/PoS\",\"PoS\",\"PoW/PoS\",\"PoW\",\"PoW\",\"PoS\",\"PoW\",\"PoS\",\"PoW/PoS\",\"PoW/PoS\",\"PoS\",\"PoW\",\"PoW/PoS\",\"PoW\",\"PoW/PoS\",\"PoW\",\"PoW\",\"PoW\",\"PoW/PoS\",\"PoW\",\"PoW/PoS\",\"PoW/PoS\",\"PoW\",\"PoW/PoS\",\"PoW\",\"PoW\",\"PoS\",\"PoW\",\"PoW/PoS\",\"PoW\",\"PoW\",\"PoW/PoS\",\"PoW\",\"PoW\",\"PoS\",\"PoW\",\"PoW/PoS\",\"PoW/PoS\",\"PoS\",\"PoW\",\"PoS\",\"DPoS\",\"PoW\",\"PoW\",\"PoW\",\"PoW\",\"PoW\",\"PoW/PoS\",\"PoW/PoS\",\"PoW\",\"PoS\",\"PoW/PoS\",\"PoW\",\"PoW/PoS\",\"PoW\",\"PoW/PoS\",\"PoW\",\"PoS\",\"PoW/PoS\",\"PoW/PoS\",\"PoW/PoS\",\"PoW/PoS\",\"PoW\",\"PoW/PoS\",\"PoW/PoS\",\"PoW\",\"PoS\",\"PoW/PoS\",\"PoW\",\"PoW\",\"PoW\",\"PoW\",\"PoW/PoS\",\"DPoS\",\"PoW/PoS\",\"PoW\",\"PoW/PoS\",\"PoW\",\"PoW\",\"PoW\",\"PoW\",\"PoS\",\"PoS\",\"PoW\",\"PoW\",\"PoW/PoS\",\"PoW/PoS\",\"PoW\",\"PoW\",\"PoW\",\"PoW\",\"PoS\",\"PoW\",\"PoW\",\"PoW/PoS\",\"PoW/PoS\",\"PoS\",\"PoW\",\"PoW\",\"PoW\",\"PoS\",\"PoS\",\"PoW\",\"PoW\",\"PoW/PoS\",\"PoW\",\"PoW\",\"PoS\",\"POBh\",\"PoW + Hive\",\"PoW\",\"DPoS\",\"PoW\",\"PoW\",\"PoW/PoS\",\"PoW/PoS\",\"PoW/PoS\",\"PoS\",\"PoW\",\"PoW\",\"PoW\",\"PoW/PoS\",\"PoW/PoS\",\"PoW/PoS\",\"PoW\",\"PoS\",\"PoW\",\"PoS\",\"PoS\",\"PoW/PoS\",\"DPoS\",\"PoW\",\"PoW/PoS\",\"PoS\",\"PoW\",\"PoS\",\"PoW\",\"PoS/PoW\",\"PoW\",\"PoS\",\"PoW\",\"PoW\",\"PoW\",\"PoW\",\"PoW/PoS\",\"PoS\",\"PoW\",\"PoW/PoS\",\"PoW\",\"PoW/PoS\",\"PoS\",\"HPoW\",\"PoS\",\"PoS\",\"PoS\",\"PoW\",\"PoW\",\"PoW\",\"PoW/PoS\",\"PoS\",\"PoW/PoS\",\"PoW/PoS\",\"PoS\",\"PoW\",\"PoW/PoS\",\"PoW\",\"PoW\",\"PoS\",\"PoW/PoS\",\"PoS\",\"PoS\",\"PoS\",\"PoW\",\"PoW/PoS\",\"PoW\",\"PoW\",\"PoS\",\"PoS\",\"PoW\",\"Pos\",\"DPoC\",\"PoS\",\"PoW\",\"POS / MN\",\"PoW/PoS\",\"PoW\",\"PoW\",\"PoS\",\"PoW\",\"PoW/PoS\",\"PoW/PoS\",\"PoW\",\"PoS\",\"PoW/PoS\",\"PoW\",\"PoW\",\"PoW\",\"PoW/PoS\",\"PoW/PoS\",\"PoW/PoS\",\"PoW/PoS\",\"PoW\",\"PoW\",\"PoW\",\"PoS\",\"DPoS\",\"PoW\",\"PoW\",\"Zero-Knowledge Proof\",\"DPOS\",\"PoW\",\"PoW\",\"PoS\",\"DPoS\",\"PoW/PoS\",\"PoS\",\"PoW\",\"DPoS\",\"PoS\",\"PoS\",\"PoW\",\"LPoS\",\"Proof of Authority\",\"PoS\",\"dPoW/PoW\",\"DPoS\",\"PoW\",\"PoA\",\"DPoS\",\"PoW/nPoS\",\"PoS\",\"PoW\",\"PoW/PoS\",\"PoW\",\"PoW/PoS\",\"PoW\",\"PoW\",\"PoW\",\"PoS\",\"PoW\",\"PoW/PoS\",\"PoW\",\"PoW/PoS\",\"PoW/PoS\",\"PoW\",\"PoW\",\"PoW\",\"PoW/PoS\",\"PoW\",\"PoW\",\"PoW\",\"PoW\",\"PoW\",\"PoW\",\"PoW/PoS\",\"PoW\",\"PoW\",\"PoW/PoS\",\"PoW\",\"PoW\",\"PoW\",\"PoW\",\"PoC\",\"PoW\",\"PoW\",\"PoS/LPoS\",\"PoW\",\"PoW/PoS\",\"PoW/PoS\",\"PoW\",\"PoW\",\"PoW\",\"PoW\",\"PoW/PoS\",\"PoW\"],\"TotalCoinSupply\":{\"__ndarray__\":\"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\",\"dtype\":\"float64\",\"shape\":[527]},\"TotalCoinsMined\":{\"__ndarray__\":\"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\",\"dtype\":\"float64\",\"shape\":[527]}},\"selected\":{\"id\":\"1317\",\"type\":\"Selection\"},\"selection_policy\":{\"id\":\"1351\",\"type\":\"UnionRenderers\"}},\"id\":\"1316\",\"type\":\"ColumnDataSource\"},{\"attributes\":{},\"id\":\"1317\",\"type\":\"Selection\"},{\"attributes\":{},\"id\":\"1318\",\"type\":\"StringFormatter\"},{\"attributes\":{\"source\":{\"id\":\"1316\",\"type\":\"ColumnDataSource\"}},\"id\":\"1349\",\"type\":\"CDSView\"},{\"attributes\":{},\"id\":\"1319\",\"type\":\"StringEditor\"},{\"attributes\":{\"editor\":{\"id\":\"1319\",\"type\":\"StringEditor\"},\"field\":\"CoinName\",\"formatter\":{\"id\":\"1318\",\"type\":\"StringFormatter\"},\"title\":\"CoinName\"},\"id\":\"1320\",\"type\":\"TableColumn\"},{\"attributes\":{\"format\":\"0,0.0[00000]\"},\"id\":\"1333\",\"type\":\"NumberFormatter\"},{\"attributes\":{},\"id\":\"1323\",\"type\":\"StringFormatter\"},{\"attributes\":{},\"id\":\"1324\",\"type\":\"StringEditor\"},{\"attributes\":{\"editor\":{\"id\":\"1324\",\"type\":\"StringEditor\"},\"field\":\"Algorithm\",\"formatter\":{\"id\":\"1323\",\"type\":\"StringFormatter\"},\"title\":\"Algorithm\"},\"id\":\"1325\",\"type\":\"TableColumn\"},{\"attributes\":{},\"id\":\"1328\",\"type\":\"StringFormatter\"},{\"attributes\":{\"editor\":{\"id\":\"1344\",\"type\":\"IntEditor\"},\"field\":\"Class\",\"formatter\":{\"id\":\"1343\",\"type\":\"NumberFormatter\"},\"title\":\"Class\"},\"id\":\"1345\",\"type\":\"TableColumn\"},{\"attributes\":{},\"id\":\"1329\",\"type\":\"StringEditor\"},{\"attributes\":{\"editor\":{\"id\":\"1329\",\"type\":\"StringEditor\"},\"field\":\"ProofType\",\"formatter\":{\"id\":\"1328\",\"type\":\"StringFormatter\"},\"title\":\"ProofType\"},\"id\":\"1330\",\"type\":\"TableColumn\"},{\"attributes\":{},\"id\":\"1334\",\"type\":\"NumberEditor\"},{\"attributes\":{\"editor\":{\"id\":\"1334\",\"type\":\"NumberEditor\"},\"field\":\"TotalCoinSupply\",\"formatter\":{\"id\":\"1333\",\"type\":\"NumberFormatter\"},\"title\":\"TotalCoinSupply\"},\"id\":\"1335\",\"type\":\"TableColumn\"},{\"attributes\":{\"editor\":{\"id\":\"1339\",\"type\":\"NumberEditor\"},\"field\":\"TotalCoinsMined\",\"formatter\":{\"id\":\"1338\",\"type\":\"NumberFormatter\"},\"title\":\"TotalCoinsMined\"},\"id\":\"1340\",\"type\":\"TableColumn\"},{\"attributes\":{},\"id\":\"1339\",\"type\":\"NumberEditor\"},{\"attributes\":{},\"id\":\"1344\",\"type\":\"IntEditor\"},{\"attributes\":{},\"id\":\"1343\",\"type\":\"NumberFormatter\"},{\"attributes\":{\"format\":\"0,0.0[00000]\"},\"id\":\"1338\",\"type\":\"NumberFormatter\"},{\"attributes\":{},\"id\":\"1351\",\"type\":\"UnionRenderers\"}],\"root_ids\":[\"1348\"]},\"title\":\"Bokeh Application\",\"version\":\"1.2.0\"}};\n  var render_items = [{\"docid\":\"8aec8d0c-2e73-4598-bd1c-007c6abbd0ac\",\"roots\":{\"1348\":\"a8a76bc0-e734-43ad-94fe-9d4feaee9af7\"}}];\n  root.Bokeh.embed.embed_items_notebook(docs_json, render_items);\n\n  }\n  if (root.Bokeh !== undefined) {\n    embed_document(root);\n  } else {\n    var attempts = 0;\n    var timer = setInterval(function(root) {\n      if (root.Bokeh !== undefined) {\n        embed_document(root);\n        clearInterval(timer);\n      }\n      attempts++;\n      if (attempts > 100) {\n        console.log(\"Bokeh: ERROR: Unable to run BokehJS code because BokehJS library is missing\");\n        clearInterval(timer);\n      }\n    }, 10, root)\n  }\n})(window);</script>",
      "text/plain": ":Table   [CoinName,Algorithm,ProofType,TotalCoinSupply,TotalCoinsMined,Class]"
     },
     "execution_count": 76,
     "metadata": {
      "application/vnd.holoviews_exec.v0+json": {
       "id": "1348"
      }
     },
     "output_type": "execute_result"
    }
   ],
   "source": [
    "# Table with tradable cryptos\n",
    "columns = ['CoinName', 'Algorithm', 'ProofType', 'TotalCoinSupply', 'TotalCoinsMined', 'Class']\n",
    "clustered_df.hvplot.table(columns)\n"
   ]
  },
  {
   "cell_type": "markdown",
   "metadata": {},
   "source": [
    "#### Scatter Plot with Tradable Cryptocurrencies"
   ]
  },
  {
   "cell_type": "code",
   "execution_count": 77,
   "metadata": {},
   "outputs": [],
   "source": [
    "# Scaling data to create the scatter plot\n",
    "clustered_df['TotalCoinsMined'] = clustered_df['TotalCoinsMined'].astype(float) / 1000000000\n",
    "clustered_df['TotalCoinSupply'] = clustered_df['TotalCoinSupply'].astype(float) / 1000000000\n"
   ]
  },
  {
   "cell_type": "code",
   "execution_count": 79,
   "metadata": {},
   "outputs": [
    {
     "data": {
      "application/vnd.holoviews_exec.v0+json": "",
      "text/html": "<div id='1491' style='display: table; margin: 0 auto;'>\n\n\n\n\n\n  <div class=\"bk-root\" id=\"54a941d6-873f-474e-b571-8c323eeabd0d\" data-root-id=\"1491\"></div>\n</div>\n<script type=\"application/javascript\">(function(root) {\n  function embed_document(root) {\n    \n  var docs_json = {\"a1213719-0f62-4946-b25b-7b4e0fd5f77f\":{\"roots\":{\"references\":[{\"attributes\":{\"align\":null,\"below\":[{\"id\":\"1500\",\"type\":\"LinearAxis\"}],\"center\":[{\"id\":\"1504\",\"type\":\"Grid\"},{\"id\":\"1509\",\"type\":\"Grid\"}],\"left\":[{\"id\":\"1505\",\"type\":\"LinearAxis\"}],\"margin\":null,\"min_border_bottom\":10,\"min_border_left\":10,\"min_border_right\":10,\"min_border_top\":10,\"plot_height\":300,\"plot_width\":700,\"renderers\":[{\"id\":\"1531\",\"type\":\"GlyphRenderer\"}],\"right\":[{\"id\":\"1534\",\"type\":\"ColorBar\"}],\"sizing_mode\":\"fixed\",\"title\":{\"id\":\"1492\",\"type\":\"Title\"},\"toolbar\":{\"id\":\"1515\",\"type\":\"Toolbar\"},\"x_range\":{\"id\":\"1488\",\"type\":\"Range1d\"},\"x_scale\":{\"id\":\"1496\",\"type\":\"LinearScale\"},\"y_range\":{\"id\":\"1489\",\"type\":\"Range1d\"},\"y_scale\":{\"id\":\"1498\",\"type\":\"LinearScale\"}},\"id\":\"1491\",\"subtype\":\"Figure\",\"type\":\"Plot\"},{\"attributes\":{\"active_drag\":\"auto\",\"active_inspect\":\"auto\",\"active_multi\":null,\"active_scroll\":\"auto\",\"active_tap\":\"auto\",\"tools\":[{\"id\":\"1490\",\"type\":\"HoverTool\"},{\"id\":\"1510\",\"type\":\"SaveTool\"},{\"id\":\"1511\",\"type\":\"PanTool\"},{\"id\":\"1512\",\"type\":\"WheelZoomTool\"},{\"id\":\"1513\",\"type\":\"BoxZoomTool\"},{\"id\":\"1514\",\"type\":\"ResetTool\"}]},\"id\":\"1515\",\"type\":\"Toolbar\"},{\"attributes\":{},\"id\":\"1545\",\"type\":\"BasicTickFormatter\"},{\"attributes\":{\"fill_color\":{\"field\":\"color\",\"transform\":{\"id\":\"1522\",\"type\":\"LinearColorMapper\"}},\"line_color\":{\"field\":\"color\",\"transform\":{\"id\":\"1522\",\"type\":\"LinearColorMapper\"}},\"size\":{\"units\":\"screen\",\"value\":5.477225575051661},\"x\":{\"field\":\"TotalCoinsMined\"},\"y\":{\"field\":\"TotalCoinSupply\"}},\"id\":\"1529\",\"type\":\"Scatter\"},{\"attributes\":{\"bottom_units\":\"screen\",\"fill_alpha\":{\"value\":0.5},\"fill_color\":{\"value\":\"lightgrey\"},\"left_units\":\"screen\",\"level\":\"overlay\",\"line_alpha\":{\"value\":1.0},\"line_color\":{\"value\":\"black\"},\"line_dash\":[4,4],\"line_width\":{\"value\":2},\"render_mode\":\"css\",\"right_units\":\"screen\",\"top_units\":\"screen\"},\"id\":\"1546\",\"type\":\"BoxAnnotation\"},{\"attributes\":{},\"id\":\"1496\",\"type\":\"LinearScale\"},{\"attributes\":{},\"id\":\"1501\",\"type\":\"BasicTicker\"},{\"attributes\":{\"callback\":null,\"renderers\":[{\"id\":\"1531\",\"type\":\"GlyphRenderer\"}],\"tags\":[\"hv_created\"],\"tooltips\":[[\"TotalCoinsMined\",\"@{TotalCoinsMined}\"],[\"TotalCoinSupply\",\"@{TotalCoinSupply}\"],[\"Class\",\"@{Class}\"],[\"CoinName\",\"@{CoinName}\"]]},\"id\":\"1490\",\"type\":\"HoverTool\"},{\"attributes\":{},\"id\":\"1510\",\"type\":\"SaveTool\"},{\"attributes\":{},\"id\":\"1511\",\"type\":\"PanTool\"},{\"attributes\":{\"fill_color\":{\"field\":\"color\",\"transform\":{\"id\":\"1522\",\"type\":\"LinearColorMapper\"}},\"line_color\":{\"field\":\"color\",\"transform\":{\"id\":\"1522\",\"type\":\"LinearColorMapper\"}},\"size\":{\"units\":\"screen\",\"value\":5.477225575051661},\"x\":{\"field\":\"TotalCoinsMined\"},\"y\":{\"field\":\"TotalCoinSupply\"}},\"id\":\"1526\",\"type\":\"Scatter\"},{\"attributes\":{\"callback\":null,\"end\":989.9886935627,\"reset_end\":989.9886935627,\"reset_start\":-5.9179775479677295,\"start\":-5.9179775479677295,\"tags\":[[[\"TotalCoinsMined\",\"TotalCoinsMined\",null]]]},\"id\":\"1488\",\"type\":\"Range1d\"},{\"attributes\":{},\"id\":\"1498\",\"type\":\"LinearScale\"},{\"attributes\":{},\"id\":\"1548\",\"type\":\"UnionRenderers\"},{\"attributes\":{},\"id\":\"1537\",\"type\":\"BasicTickFormatter\"},{\"attributes\":{},\"id\":\"1514\",\"type\":\"ResetTool\"},{\"attributes\":{},\"id\":\"1539\",\"type\":\"BasicTickFormatter\"},{\"attributes\":{\"fill_alpha\":{\"value\":0.2},\"fill_color\":{\"field\":\"color\",\"transform\":{\"id\":\"1522\",\"type\":\"LinearColorMapper\"}},\"line_alpha\":{\"value\":0.2},\"line_color\":{\"field\":\"color\",\"transform\":{\"id\":\"1522\",\"type\":\"LinearColorMapper\"}},\"size\":{\"units\":\"screen\",\"value\":5.477225575051661},\"x\":{\"field\":\"TotalCoinsMined\"},\"y\":{\"field\":\"TotalCoinSupply\"}},\"id\":\"1530\",\"type\":\"Scatter\"},{\"attributes\":{},\"id\":\"1512\",\"type\":\"WheelZoomTool\"},{\"attributes\":{\"high\":5.0,\"low\":0.0,\"palette\":[\"#fcfea4\",\"#fafda0\",\"#f9fc9d\",\"#f7fb99\",\"#f6fa95\",\"#f5f891\",\"#f4f78d\",\"#f3f689\",\"#f2f485\",\"#f2f381\",\"#f1f27d\",\"#f1f079\",\"#f1ee74\",\"#f1ed70\",\"#f1eb6c\",\"#f1e968\",\"#f1e864\",\"#f2e660\",\"#f2e45d\",\"#f3e259\",\"#f3e056\",\"#f3de52\",\"#f4dc4f\",\"#f4db4b\",\"#f5d948\",\"#f5d745\",\"#f6d542\",\"#f6d33f\",\"#f7d13c\",\"#f7cf3a\",\"#f8cd37\",\"#f8cb34\",\"#f8c931\",\"#f9c72f\",\"#f9c52c\",\"#f9c32a\",\"#fac128\",\"#fabf25\",\"#fabd23\",\"#fabb21\",\"#fbb91e\",\"#fbb71c\",\"#fbb51a\",\"#fbb318\",\"#fbb116\",\"#fbb014\",\"#fbae12\",\"#fbac10\",\"#fbaa0e\",\"#fba80d\",\"#fba60b\",\"#fba40a\",\"#fba208\",\"#fba007\",\"#fb9e07\",\"#fb9d06\",\"#fb9b06\",\"#fb9906\",\"#fa9706\",\"#fa9506\",\"#fa9306\",\"#fa9107\",\"#f99008\",\"#f98e08\",\"#f98c09\",\"#f88a0b\",\"#f8880c\",\"#f8870d\",\"#f7850e\",\"#f78310\",\"#f68111\",\"#f68012\",\"#f57e14\",\"#f57c15\",\"#f47a16\",\"#f37918\",\"#f37719\",\"#f2751a\",\"#f2741c\",\"#f1721d\",\"#f0701e\",\"#f06f1f\",\"#ef6d21\",\"#ee6c22\",\"#ed6a23\",\"#ed6825\",\"#ec6726\",\"#eb6527\",\"#ea6428\",\"#e9622a\",\"#e8612b\",\"#e75f2c\",\"#e65e2d\",\"#e65c2e\",\"#e55b30\",\"#e45a31\",\"#e35832\",\"#e25733\",\"#e05634\",\"#df5436\",\"#de5337\",\"#dd5238\",\"#dc5039\",\"#db4f3a\",\"#da4e3b\",\"#d94d3d\",\"#d74b3e\",\"#d64a3f\",\"#d54940\",\"#d44841\",\"#d24742\",\"#d14643\",\"#d04544\",\"#cf4446\",\"#cd4247\",\"#cc4148\",\"#cb4049\",\"#c93f4a\",\"#c83e4b\",\"#c73e4c\",\"#c53d4d\",\"#c43c4e\",\"#c23b4f\",\"#c13a50\",\"#bf3951\",\"#be3852\",\"#bd3753\",\"#bb3754\",\"#ba3655\",\"#b83556\",\"#b73456\",\"#b53357\",\"#b43358\",\"#b23259\",\"#b1315a\",\"#af315b\",\"#ae305b\",\"#ac2f5c\",\"#ab2e5d\",\"#a92e5e\",\"#a72d5f\",\"#a62c5f\",\"#a42c60\",\"#a32b61\",\"#a12b61\",\"#a02a62\",\"#9e2963\",\"#9c2963\",\"#9b2864\",\"#992864\",\"#982765\",\"#962666\",\"#952666\",\"#932567\",\"#912567\",\"#902468\",\"#8e2468\",\"#8d2369\",\"#8b2269\",\"#892269\",\"#88216a\",\"#86216a\",\"#85206a\",\"#83206b\",\"#811f6b\",\"#801f6b\",\"#7e1e6c\",\"#7d1d6c\",\"#7b1d6c\",\"#7a1c6d\",\"#781c6d\",\"#761b6d\",\"#751b6d\",\"#731a6d\",\"#72196d\",\"#70196e\",\"#6e186e\",\"#6d186e\",\"#6b176e\",\"#6a176e\",\"#68166e\",\"#66156e\",\"#65156e\",\"#63146e\",\"#62146e\",\"#60136e\",\"#5f126e\",\"#5d126e\",\"#5b116e\",\"#5a116d\",\"#58106d\",\"#570f6d\",\"#550f6d\",\"#530e6d\",\"#520e6c\",\"#500d6c\",\"#4f0d6c\",\"#4d0c6b\",\"#4b0c6b\",\"#4a0b6a\",\"#480b6a\",\"#460a69\",\"#450a69\",\"#430a68\",\"#410967\",\"#400966\",\"#3e0966\",\"#3c0965\",\"#3b0964\",\"#390962\",\"#370961\",\"#350960\",\"#34095f\",\"#32095d\",\"#300a5c\",\"#2e0a5a\",\"#2d0a58\",\"#2b0a56\",\"#290b54\",\"#270b52\",\"#260b50\",\"#240b4e\",\"#220b4c\",\"#200c4a\",\"#1f0c47\",\"#1d0c45\",\"#1c0c43\",\"#1a0b40\",\"#190b3e\",\"#170b3b\",\"#160b39\",\"#140b36\",\"#130a34\",\"#120a32\",\"#10092f\",\"#0f092d\",\"#0e082a\",\"#0d0828\",\"#0b0726\",\"#0a0723\",\"#090621\",\"#08061f\",\"#07051d\",\"#06041b\",\"#050418\",\"#040316\",\"#040314\",\"#030212\",\"#020210\",\"#02010e\",\"#01010b\",\"#010109\",\"#010007\",\"#000006\",\"#000004\",\"#000003\"]},\"id\":\"1522\",\"type\":\"LinearColorMapper\"},{\"attributes\":{\"overlay\":{\"id\":\"1546\",\"type\":\"BoxAnnotation\"}},\"id\":\"1513\",\"type\":\"BoxZoomTool\"},{\"attributes\":{\"fill_color\":{\"field\":\"color\",\"transform\":{\"id\":\"1522\",\"type\":\"LinearColorMapper\"}},\"line_color\":{\"field\":\"color\",\"transform\":{\"id\":\"1522\",\"type\":\"LinearColorMapper\"}},\"size\":{\"units\":\"screen\",\"value\":5.477225575051661},\"x\":{\"field\":\"TotalCoinsMined\"},\"y\":{\"field\":\"TotalCoinSupply\"}},\"id\":\"1528\",\"type\":\"Scatter\"},{\"attributes\":{\"dimension\":1,\"grid_line_color\":null,\"ticker\":{\"id\":\"1506\",\"type\":\"BasicTicker\"}},\"id\":\"1509\",\"type\":\"Grid\"},{\"attributes\":{},\"id\":\"1524\",\"type\":\"Selection\"},{\"attributes\":{\"fill_alpha\":{\"value\":0.1},\"fill_color\":{\"field\":\"color\",\"transform\":{\"id\":\"1522\",\"type\":\"LinearColorMapper\"}},\"line_alpha\":{\"value\":0.1},\"line_color\":{\"field\":\"color\",\"transform\":{\"id\":\"1522\",\"type\":\"LinearColorMapper\"}},\"size\":{\"units\":\"screen\",\"value\":5.477225575051661},\"x\":{\"field\":\"TotalCoinsMined\"},\"y\":{\"field\":\"TotalCoinSupply\"}},\"id\":\"1527\",\"type\":\"Scatter\"},{\"attributes\":{\"callback\":null,\"data\":{\"Class\":{\"__ndarray__\":\"AAAAAAQAAAAAAAAAAAAAAAEAAAAAAAAAAQAAAAAAAAABAAAABAAAAAEAAAABAAAAAQAAAAAAAAABAAAAAQAAAAAAAAABAAAAAAAAAAEAAAABAAAAAAAAAAAAAAABAAAAAQAAAAEAAAABAAAAAAAAAAEAAAABAAAAAQAAAAEAAAABAAAAAAAAAAAAAAABAAAAAQAAAAEAAAABAAAAAQAAAAAAAAABAAAAAAAAAAEAAAAAAAAAAAAAAAEAAAABAAAAAAAAAAAAAAABAAAAAQAAAAEAAAAAAAAAAAAAAAAAAAABAAAAAAAAAAEAAAABAAAAAQAAAAEAAAAAAAAAAAAAAAAAAAABAAAAAAAAAAAAAAABAAAAAAAAAAAAAAAAAAAAAQAAAAAAAAAAAAAAAAAAAAEAAAAAAAAAAQAAAAAAAAABAAAAAAAAAAAAAAABAAAAAQAAAAAAAAAAAAAAAQAAAAEAAAAAAAAAAAAAAAEAAAABAAAAAQAAAAAAAAAAAAAAAQAAAAEAAAAAAAAAAAAAAAAAAAAAAAAAAAAAAAEAAAABAAAAAAAAAAEAAAABAAAAAQAAAAAAAAABAAAAAAAAAAEAAAABAAAAAQAAAAAAAAABAAAAAAAAAAAAAAAAAAAAAAAAAAEAAAABAAAAAQAAAAAAAAAAAAAAAAAAAAAAAAAAAAAAAAAAAAAAAAABAAAAAQAAAAEAAAABAAAAAAAAAAAAAAABAAAAAQAAAAAAAAAAAAAAAAAAAAAAAAABAAAAAAAAAAAAAAAAAAAAAAAAAAEAAAAAAAAAAQAAAAEAAAAAAAAAAAAAAAAAAAAAAAAAAAAAAAEAAAABAAAAAAAAAAAAAAAAAAAAAAAAAAAAAAABAAAAAAAAAAAAAAAAAAAAAAAAAAAAAAABAAAAAAAAAAAAAAAAAAAAAQAAAAAAAAABAAAAAAAAAAAAAAABAAAAAAAAAAEAAAAAAAAAAQAAAAAAAAABAAAAAAAAAAAAAAAAAAAAAAAAAAAAAAAAAAAAAAAAAAAAAAAAAAAAAQAAAAEAAAAAAAAAAQAAAAEAAAAAAAAAAAAAAAAAAAAAAAAAAAAAAAEAAAAAAAAAAAAAAAAAAAAAAAAAAAAAAAAAAAAAAAAAAAAAAAEAAAAAAAAAAAAAAAAAAAAAAAAAAAAAAAEAAAABAAAAAQAAAAAAAAAAAAAAAAAAAAAAAAABAAAAAAAAAAEAAAAAAAAAAQAAAAEAAAAAAAAAAQAAAAEAAAAAAAAAAQAAAAEAAAAAAAAAAQAAAAAAAAAAAAAAAAAAAAEAAAAAAAAAAAAAAAEAAAAAAAAAAAAAAAAAAAAAAAAAAAAAAAAAAAAAAAAAAQAAAAEAAAAAAAAAAQAAAAAAAAAAAAAAAAAAAAAAAAABAAAAAAAAAAEAAAAAAAAAAQAAAAEAAAABAAAAAAAAAAEAAAAAAAAAAAAAAAEAAAAAAAAAAQAAAAEAAAAAAAAAAQAAAAAAAAABAAAAAQAAAAAAAAABAAAABAAAAAAAAAABAAAAAAAAAAAAAAAAAAAAAQAAAAAAAAAEAAAAAQAAAAEAAAABAAAAAQAAAAEAAAAAAAAAAAAAAAEAAAAAAAAAAAAAAAEAAAAAAAAAAQAAAAAAAAABAAAAAAAAAAAAAAAAAAAAAAAAAAAAAAABAAAAAAAAAAAAAAABAAAAAAAAAAAAAAABAAAAAQAAAAEAAAABAAAAAAAAAAQAAAAAAAAAAQAAAAAAAAABAAAAAQAAAAEAAAABAAAAAAAAAAAAAAABAAAAAQAAAAAAAAAAAAAAAQAAAAEAAAABAAAAAQAAAAAAAAABAAAAAQAAAAAAAAAAAAAAAAAAAAEAAAABAAAAAQAAAAAAAAABAAAABAAAAAEAAAAAAAAAAQAAAAEAAAAAAAAAAQAAAAUAAAABAAAABAAAAAEAAAABAAAAAAAAAAAAAAAAAAAAAAAAAAEAAAABAAAAAQAAAAAAAAAAAAAAAAAAAAEAAAAAAAAAAQAAAAAAAAAAAAAAAAAAAAQAAAABAAAAAAAAAAAAAAABAAAAAAAAAAEAAAAAAAAAAQAAAAAAAAABAAAAAQAAAAEAAAABAAAAAAAAAAAAAAABAAAAAAAAAAEAAAAAAAAAAAAAAAAAAAAAAAAAAAAAAAAAAAABAAAAAQAAAAEAAAAAAAAAAAAAAAAAAAAAAAAAAAAAAAEAAAAAAAAAAQAAAAEAAAAAAAAAAAAAAAAAAAAAAAAAAAAAAAEAAAAAAAAAAQAAAAEAAAAAAAAAAAAAAAEAAAAAAAAAAQAAAAAAAAABAAAAAAAAAAAAAAABAAAAAQAAAAEAAAABAAAAAAAAAAAAAAABAAAAAAAAAAAAAAABAAAAAQAAAAEAAAAAAAAAAAAAAAAAAAAAAAAAAQAAAAEAAAABAAAAAAAAAAIAAAABAAAAAQAAAAAAAAAFAAAAAQAAAAEAAAAAAAAABAAAAAAAAAAAAAAAAQAAAAQAAAAAAAAAAAAAAAAAAAADAAAABQAAAAAAAAABAAAABAAAAAEAAAAFAAAABAAAAAAAAAAAAAAAAQAAAAAAAAABAAAAAAAAAAEAAAABAAAAAQAAAAAAAAABAAAAAAAAAAEAAAAAAAAAAAAAAAEAAAABAAAAAQAAAAAAAAABAAAAAQAAAAQAAAABAAAAAQAAAAEAAAAAAAAAAQAAAAEAAAAAAAAAAQAAAAEAAAABAAAAAQAAAAAAAAABAAAAAQAAAAAAAAABAAAAAAAAAAAAAAABAAAAAQAAAAEAAAABAAAAAAAAAAEAAAA=\",\"dtype\":\"int32\",\"shape\":[527]},\"CoinName\":[\"42 Coin\",\"EliteCoin\",\"BitcoinDark\",\"PayCoin\",\"ProsperCoin\",\"KoboCoin\",\"Argentum\",\"BlueCoin\",\"MyriadCoin\",\"MoonCoin\",\"ZetaCoin\",\"SexCoin\",\"Quatloo\",\"EnergyCoin\",\"Riecoin\",\"Digitalcoin \",\"BitBar\",\"Catcoin\",\"CryptoBullion\",\"CannaCoin\",\"CryptCoin\",\"CasinoCoin\",\"Diamond\",\"DevCoin\",\"EarthCoin\",\"E-Gulden\",\"Emerald\",\"Exclusive Coin\",\"FlutterCoin\",\"Franko\",\"GrandCoin\",\"GlobalCoin\",\"GoldCoin\",\"HoboNickels\",\"HyperStake\",\"Infinite Coin\",\"IXcoin\",\"KrugerCoin\",\"LuckyCoin\",\"Litebar \",\"MaxCoin\",\"MediterraneanCoin\",\"MintCoin\",\"MinCoin\",\"MazaCoin\",\"Nautilus Coin\",\"NobleCoin\",\"NyanCoin\",\"Orbitcoin\",\"PhoenixCoin\",\"RonPaulCoin\",\"StableCoin\",\"SmartCoin\",\"SuperCoin\",\"SyncCoin\",\"TeslaCoin\",\"TigerCoin\",\"TorCoin\",\"TerraCoin\",\"UnbreakableCoin\",\"Unobtanium\",\"UroCoin\",\"UnitaryStatus Dollar\",\"UltraCoin\",\"VeriCoin\",\"WorldCoin\",\"X11 Coin\",\"Crypti\",\"JouleCoin\",\"StealthCoin\",\"ZCC Coin\",\"StorjCoin\",\"MonaCoin\",\"Neutron\",\"FairCoin\",\"RubyCoin\",\"PesetaCoin\",\"Kore\",\"Wild Beast Coin\",\"Dnotes\",\"Flo\",\"8BIT Coin\",\"Sativa Coin\",\"JoinCoin\",\"ArtByte\",\"LiteDoge\",\"Triangles Coin\",\"Folding Coin\",\"SolarCoin\",\"TruckCoin\",\"Ucoin\",\"Unitus\",\"CypherPunkCoin\",\"UFO Coin\",\"OrangeCoin\",\"FriendshipCoin\",\"BlakeCoin\",\"OmniCron\",\"BitstarCoin\",\"NeosCoin\",\"HyperCoin\",\"Vtorrent\",\"PinkCoin\",\"GreenCoin\",\"Cryptonite\",\"BitcoinPlus\",\"MasterCoin\",\"SoonCoin\",\"1Credit\",\"IslaCoin\",\"Crypto Escudo\",\"AudioCoin\",\"MarsCoin \",\"Crypto\",\"Anarchists Prime\",\"Droidz\",\"BowsCoin\",\"IncaKoin\",\"Squall Coin\",\"Piggy Coin\",\"Genstake\",\"Song Coin\",\"SmileyCoin\",\"BitZeny\",\"Diggits\",\"XiaoMiCoin\",\"Paycon\",\"CapriCoin\",\" ClubCoin\",\"Radium\",\"EverGreenCoin\",\"MindCoin\",\"I0coin\",\"Bata\",\"Pakcoin\",\"Creditbit \",\"OKCash\",\"Revolution VR\",\"HOdlcoin\",\"EDRCoin\",\"Hitcoin\",\"DubaiCoin\",\"HiCoin\",\"CarpeDiemCoin\",\"PWR Coin\",\"BillaryCoin\",\"Influxcoin\",\"GPU Coin\",\"Adzcoin\",\"Gapcoin\",\"SoilCoin\",\"YoCoin\",\"EuropeCoin\",\"ZeitCoin\",\"SwingCoin\",\"SafeExchangeCoin\",\"Nebuchadnezzar\",\"Francs\",\"BolivarCoin\",\"Ratecoin\",\"Revenu\",\"Clockcoin\",\"VIP Tokens\",\"BitSend\",\"Omni\",\"Let it Ride\",\"PutinCoin\",\"iBankCoin\",\"Frankywillcoin\",\"MudraCoin\",\"PizzaCoin\",\"Lutetium Coin\",\"GoldBlocks\",\"CarterCoin\",\"Karbo\",\"BitTokens\",\"ZayedCoin\",\"MustangCoin\",\"ZoneCoin\",\"Circuits of Value\",\"RootCoin\",\"DopeCoin\",\"BitCurrency\",\"DollarCoin\",\"Swiscoin\",\"Shilling\",\"BuzzCoin\",\"Opair\",\"PesoBit\",\"Halloween Coin\",\"CoffeeCoin\",\"RoyalCoin\",\"GanjaCoin V2\",\"TeamUP\",\"LanaCoin\",\"Elementrem\",\"ZClassic\",\"InsaneCoin\",\"KiloCoin\",\"ArtexCoin\",\"EmberCoin\",\"XenixCoin\",\"FreeCoin\",\"PLNCoin\",\"AquariusCoin\",\"Kurrent\",\"Creatio\",\"Eternity\",\"Eurocoin\",\"BitcoinFast\",\"Stakenet\",\"BitConnect Coin\",\"MoneyCoin\",\"Enigma\",\"Cannabis Industry Coin\",\"Russiacoin\",\"PandaCoin\",\"GameUnits\",\"GAKHcoin\",\"LiteCreed\",\"OsmiumCoin\",\"Bikercoins\",\"HexxCoin\",\"Klingon Empire Darsek\",\"Internet of People\",\"KushCoin\",\"Printerium\",\"PacCoin\",\"Impeach\",\"Citadel\",\"Zilbercoin\",\"FirstCoin\",\"BeaverCoin\",\"FindCoin\",\"VaultCoin\",\"Zero\",\"OpenChat\",\"Canada eCoin\",\"Zoin\",\"RenosCoin\",\"DubaiCoin\",\"VirtacoinPlus\",\"TajCoin\",\"Impact\",\"EB3coin\",\"Atmos\",\"HappyCoin\",\"Coinonat\",\"MacronCoin\",\"Condensate\",\"Independent Money System\",\"ArgusCoin\",\"LomoCoin\",\"ProCurrency\",\"GoldReserve\",\"BenjiRolls\",\"ParallelCoin\",\"GrowthCoin\",\"ILCoin\",\"Phreak\",\"Degas Coin\",\"HTML5 Coin\",\"Ultimate Secure Cash\",\"EquiTrader\",\"Insane Coin\",\"Quantum Resistant Ledger\",\"Espers\",\"Dynamic\",\"ChanCoin\",\"Dinastycoin\",\"Denarius\",\"DigitalPrice\",\"Virta Unique Coin\",\"Bitcoin Planet\",\"Unify\",\"BritCoin\",\"SocialCoin\",\"ArcticCoin\",\"Particl\",\"DAS\",\"Linda\",\"Reality Clash\",\"LeviarCoin\",\"DeepOnion\",\"Bitcore\",\"gCn Coin\",\"Signatum\",\"Onix\",\"Cream\",\"Monoeci\",\"Draftcoin\",\"Sojourn Coin\",\"Stakecoin\",\"Oxycoin\",\"NewYorkCoin\",\"FrazCoin\",\"Kronecoin\",\"AdCoin\",\"Linx\",\"CoinonatX\",\"Ethereum Dark\",\"Sumokoin\",\"Obsidian\",\"Regalcoin\",\"BitcoinZ\",\"TrezarCoin\",\"Elements\",\"TerraNovaCoin\",\"VIVO Coin\",\"Rupee\",\"WomenCoin\",\"Theresa May Coin\",\"NamoCoin\",\"LUXCoin\",\"Pirl\",\"Xios\",\"Bitcloud 2.0\",\"eBoost\",\"KekCoin\",\"BlackholeCoin\",\"Pura\",\"Innova\",\"Ellaism\",\"GoByte\",\"Magnet\",\"Lamden Tau\",\"Electra\",\"SHIELD\",\"Cash & Back Coin\",\"UltraNote\",\"GlobalToken\",\"BitCoal\",\"DaxxCoin\",\"Bulwark\",\"Kalkulus\",\"AC3\",\"Lethean\",\"GermanCoin\",\"LiteCoin Ultra\",\"PopularCoin\",\"Photon\",\"Sucre\",\"SparksPay\",\"Digiwage\",\"GunCoin\",\"IrishCoin\",\"Trollcoin\",\"Litecoin Plus\",\"Monkey Project\",\"Pioneer Coin\",\"UnitedBitcoin\",\"Interzone\",\"TokenPay\",\"1717 Masonic Commemorative Token\",\"TurtleCoin\",\"MUNcoin\",\"Unified Society USDEX\",\"ShareChain\",\"KREDS\",\"Tokyo Coin\",\"BiblePay\",\"LitecoinCash\",\"BitFlip\",\"ALAX\",\"LottoCoin\",\"Crypto Improvement Fund\",\"Stipend\",\"Pushi\",\"Ellerium\",\"Velox\",\"BitTube\",\"Poseidon\",\"Aidos Kuneen\",\"Bitspace\",\"Briacoin\",\"Ignition\",\"Bitrolium\",\"MedicCoin\",\"Alpenschillling\",\"Bitcoin Green\",\"Deviant Coin\",\"Abjcoin\",\"Semux\",\"FuturoCoin\",\"Carebit\",\"Zealium\",\"Monero Classic\",\"Proton\",\"Jumpcoin\",\"Bitcoin Incognito\",\"KEYCO\",\"HollyWoodCoin\",\"GINcoin\",\"PlatinCoin\",\"Loki\",\"Newton Coin\",\"Swisscoin\",\"Xt3ch\",\"MassGrid\",\"TheVig\",\"PluraCoin\",\"EmaratCoin\",\"Dekado\",\"Lynx\",\"Poseidon Quark\",\"BitcoinWSpectrum\",\"Muse\",\"Motion\",\"PlusOneCoin\",\"Axe\",\"Trivechain\",\"Dystem\",\"Giant\",\"Absolute Coin\",\"Vitae\",\"HexCoin\",\"TPCash\",\"Ryo\",\"Urals Coin\",\"ARENON\",\"EUNO\",\"MMOCoin\",\"Ketan\",\"PAXEX\",\"Azart\",\"ThunderStake\",\"Xchange\",\"CrypticCoin\",\"Bettex coin\",\"TigerCash\",\"Actinium\",\"BitMoney\",\"Fiii\",\"Junson Ming Chan Coin\",\"FREDEnergy\",\"Zenad\",\"HerbCoin\",\"Universal Molecule\",\"Lithium\",\"PirateCash\",\"Exosis\",\"Oduwa\",\"Galilel\",\"Bithereum\",\"Crypto Sports\",\"Credit\",\"Scribe Network\",\"SLICE\",\"Vollar\",\"Nasdacoin\",\"Beetle Coin\",\"Titan Coin\",\"Award\",\"BLAST\",\"Bitcoin Rhodium\",\"Beldex\",\"STREAMIT COIN\",\"BitTorrent\",\"Beam\",\"Project Pai\",\"Kcash\",\"Acute Angle Cloud\",\"BLOC.MONEY\",\"Callisto Network\",\"Crown Coin\",\"Zeph\",\"XDNA\",\"Lobstex\",\"Bitcoin\",\"EOS\",\"Cardano\",\"Bitshares\",\"Steem\",\"Waves\",\"VeChain\",\"QTUM\",\"Komodo\",\"Lisk\",\"FeatherCoin\",\"Poa Network\",\"ARK\",\"Nexus\",\"Infinity Economics\",\"Expanse\",\"WhiteCoin\",\"DigitalNote \",\"PotCoin\",\"Gamecredits\",\"MegaCoin\",\"Litecoin\",\"Ontology\",\"DigiByte\",\"Aurora Coin\",\"Gulden\",\"Emercoin\",\"Aion\",\"Bitcoin Cash\",\"ViaCoin\",\"SysCoin\",\"IOCoin\",\"SmartCash\",\"ZCoin\",\"ByteCoin\",\"Webchain\",\"Bitcoin SV\",\"QuarkCoin\",\"Bitcoin Diamond\",\"Namecoin\",\"Einsteinium\",\"Reddcoin\",\"SibCoin\",\"Bitcoin Gold\",\"Groestlcoin\",\"Verge\",\"BurstCoin\",\"Siacoin\",\"Horizen\",\"Nxt\",\"Ethereum\",\"NavCoin\",\"Decred\",\"Monero\",\"Vertcoin\",\"Nano\",\"Ethereum Classic\",\"Dash\",\"ZCash\"],\"TotalCoinSupply\":{\"__ndarray__\":\"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\",\"dtype\":\"float64\",\"shape\":[527]},\"TotalCoinsMined\":{\"__ndarray__\":\"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\",\"dtype\":\"float64\",\"shape\":[527]},\"color\":{\"__ndarray__\":\"AAAAAAQAAAAAAAAAAAAAAAEAAAAAAAAAAQAAAAAAAAABAAAABAAAAAEAAAABAAAAAQAAAAAAAAABAAAAAQAAAAAAAAABAAAAAAAAAAEAAAABAAAAAAAAAAAAAAABAAAAAQAAAAEAAAABAAAAAAAAAAEAAAABAAAAAQAAAAEAAAABAAAAAAAAAAAAAAABAAAAAQAAAAEAAAABAAAAAQAAAAAAAAABAAAAAAAAAAEAAAAAAAAAAAAAAAEAAAABAAAAAAAAAAAAAAABAAAAAQAAAAEAAAAAAAAAAAAAAAAAAAABAAAAAAAAAAEAAAABAAAAAQAAAAEAAAAAAAAAAAAAAAAAAAABAAAAAAAAAAAAAAABAAAAAAAAAAAAAAAAAAAAAQAAAAAAAAAAAAAAAAAAAAEAAAAAAAAAAQAAAAAAAAABAAAAAAAAAAAAAAABAAAAAQAAAAAAAAAAAAAAAQAAAAEAAAAAAAAAAAAAAAEAAAABAAAAAQAAAAAAAAAAAAAAAQAAAAEAAAAAAAAAAAAAAAAAAAAAAAAAAAAAAAEAAAABAAAAAAAAAAEAAAABAAAAAQAAAAAAAAABAAAAAAAAAAEAAAABAAAAAQAAAAAAAAABAAAAAAAAAAAAAAAAAAAAAAAAAAEAAAABAAAAAQAAAAAAAAAAAAAAAAAAAAAAAAAAAAAAAAAAAAAAAAABAAAAAQAAAAEAAAABAAAAAAAAAAAAAAABAAAAAQAAAAAAAAAAAAAAAAAAAAAAAAABAAAAAAAAAAAAAAAAAAAAAAAAAAEAAAAAAAAAAQAAAAEAAAAAAAAAAAAAAAAAAAAAAAAAAAAAAAEAAAABAAAAAAAAAAAAAAAAAAAAAAAAAAAAAAABAAAAAAAAAAAAAAAAAAAAAAAAAAAAAAABAAAAAAAAAAAAAAAAAAAAAQAAAAAAAAABAAAAAAAAAAAAAAABAAAAAAAAAAEAAAAAAAAAAQAAAAAAAAABAAAAAAAAAAAAAAAAAAAAAAAAAAAAAAAAAAAAAAAAAAAAAAAAAAAAAQAAAAEAAAAAAAAAAQAAAAEAAAAAAAAAAAAAAAAAAAAAAAAAAAAAAAEAAAAAAAAAAAAAAAAAAAAAAAAAAAAAAAAAAAAAAAAAAAAAAAEAAAAAAAAAAAAAAAAAAAAAAAAAAAAAAAEAAAABAAAAAQAAAAAAAAAAAAAAAAAAAAAAAAABAAAAAAAAAAEAAAAAAAAAAQAAAAEAAAAAAAAAAQAAAAEAAAAAAAAAAQAAAAEAAAAAAAAAAQAAAAAAAAAAAAAAAAAAAAEAAAAAAAAAAAAAAAEAAAAAAAAAAAAAAAAAAAAAAAAAAAAAAAAAAAAAAAAAAQAAAAEAAAAAAAAAAQAAAAAAAAAAAAAAAAAAAAAAAAABAAAAAAAAAAEAAAAAAAAAAQAAAAEAAAABAAAAAAAAAAEAAAAAAAAAAAAAAAEAAAAAAAAAAQAAAAEAAAAAAAAAAQAAAAAAAAABAAAAAQAAAAAAAAABAAAABAAAAAAAAAABAAAAAAAAAAAAAAAAAAAAAQAAAAAAAAAEAAAAAQAAAAEAAAABAAAAAQAAAAEAAAAAAAAAAAAAAAEAAAAAAAAAAAAAAAEAAAAAAAAAAQAAAAAAAAABAAAAAAAAAAAAAAAAAAAAAAAAAAAAAAABAAAAAAAAAAAAAAABAAAAAAAAAAAAAAABAAAAAQAAAAEAAAABAAAAAAAAAAQAAAAAAAAAAQAAAAAAAAABAAAAAQAAAAEAAAABAAAAAAAAAAAAAAABAAAAAQAAAAAAAAAAAAAAAQAAAAEAAAABAAAAAQAAAAAAAAABAAAAAQAAAAAAAAAAAAAAAAAAAAEAAAABAAAAAQAAAAAAAAABAAAABAAAAAEAAAAAAAAAAQAAAAEAAAAAAAAAAQAAAAUAAAABAAAABAAAAAEAAAABAAAAAAAAAAAAAAAAAAAAAAAAAAEAAAABAAAAAQAAAAAAAAAAAAAAAAAAAAEAAAAAAAAAAQAAAAAAAAAAAAAAAAAAAAQAAAABAAAAAAAAAAAAAAABAAAAAAAAAAEAAAAAAAAAAQAAAAAAAAABAAAAAQAAAAEAAAABAAAAAAAAAAAAAAABAAAAAAAAAAEAAAAAAAAAAAAAAAAAAAAAAAAAAAAAAAAAAAABAAAAAQAAAAEAAAAAAAAAAAAAAAAAAAAAAAAAAAAAAAEAAAAAAAAAAQAAAAEAAAAAAAAAAAAAAAAAAAAAAAAAAAAAAAEAAAAAAAAAAQAAAAEAAAAAAAAAAAAAAAEAAAAAAAAAAQAAAAAAAAABAAAAAAAAAAAAAAABAAAAAQAAAAEAAAABAAAAAAAAAAAAAAABAAAAAAAAAAAAAAABAAAAAQAAAAEAAAAAAAAAAAAAAAAAAAAAAAAAAQAAAAEAAAABAAAAAAAAAAIAAAABAAAAAQAAAAAAAAAFAAAAAQAAAAEAAAAAAAAABAAAAAAAAAAAAAAAAQAAAAQAAAAAAAAAAAAAAAAAAAADAAAABQAAAAAAAAABAAAABAAAAAEAAAAFAAAABAAAAAAAAAAAAAAAAQAAAAAAAAABAAAAAAAAAAEAAAABAAAAAQAAAAAAAAABAAAAAAAAAAEAAAAAAAAAAAAAAAEAAAABAAAAAQAAAAAAAAABAAAAAQAAAAQAAAABAAAAAQAAAAEAAAAAAAAAAQAAAAEAAAAAAAAAAQAAAAEAAAABAAAAAQAAAAAAAAABAAAAAQAAAAAAAAABAAAAAAAAAAAAAAABAAAAAQAAAAEAAAABAAAAAAAAAAEAAAA=\",\"dtype\":\"int32\",\"shape\":[527]}},\"selected\":{\"id\":\"1524\",\"type\":\"Selection\"},\"selection_policy\":{\"id\":\"1548\",\"type\":\"UnionRenderers\"}},\"id\":\"1523\",\"type\":\"ColumnDataSource\"},{\"attributes\":{\"callback\":null,\"end\":1000.0,\"reset_end\":1000.0,\"reset_start\":0.0,\"tags\":[[[\"TotalCoinSupply\",\"TotalCoinSupply\",null]]]},\"id\":\"1489\",\"type\":\"Range1d\"},{\"attributes\":{\"grid_line_color\":null,\"ticker\":{\"id\":\"1501\",\"type\":\"BasicTicker\"}},\"id\":\"1504\",\"type\":\"Grid\"},{\"attributes\":{\"axis_label\":\"TotalCoinsMined\",\"bounds\":\"auto\",\"formatter\":{\"id\":\"1537\",\"type\":\"BasicTickFormatter\"},\"major_label_orientation\":\"horizontal\",\"ticker\":{\"id\":\"1501\",\"type\":\"BasicTicker\"}},\"id\":\"1500\",\"type\":\"LinearAxis\"},{\"attributes\":{\"source\":{\"id\":\"1523\",\"type\":\"ColumnDataSource\"}},\"id\":\"1532\",\"type\":\"CDSView\"},{\"attributes\":{\"text\":\"\",\"text_color\":{\"value\":\"black\"},\"text_font_size\":{\"value\":\"12pt\"}},\"id\":\"1492\",\"type\":\"Title\"},{\"attributes\":{},\"id\":\"1533\",\"type\":\"BasicTicker\"},{\"attributes\":{},\"id\":\"1506\",\"type\":\"BasicTicker\"},{\"attributes\":{\"bar_line_color\":{\"value\":\"black\"},\"color_mapper\":{\"id\":\"1522\",\"type\":\"LinearColorMapper\"},\"formatter\":{\"id\":\"1545\",\"type\":\"BasicTickFormatter\"},\"label_standoff\":8,\"location\":[0,0],\"major_tick_line_color\":{\"value\":\"black\"},\"ticker\":{\"id\":\"1533\",\"type\":\"BasicTicker\"}},\"id\":\"1534\",\"type\":\"ColorBar\"},{\"attributes\":{\"axis_label\":\"TotalCoinSupply\",\"bounds\":\"auto\",\"formatter\":{\"id\":\"1539\",\"type\":\"BasicTickFormatter\"},\"major_label_orientation\":\"horizontal\",\"ticker\":{\"id\":\"1506\",\"type\":\"BasicTicker\"}},\"id\":\"1505\",\"type\":\"LinearAxis\"},{\"attributes\":{\"data_source\":{\"id\":\"1523\",\"type\":\"ColumnDataSource\"},\"glyph\":{\"id\":\"1526\",\"type\":\"Scatter\"},\"hover_glyph\":{\"id\":\"1529\",\"type\":\"Scatter\"},\"muted_glyph\":{\"id\":\"1530\",\"type\":\"Scatter\"},\"nonselection_glyph\":{\"id\":\"1527\",\"type\":\"Scatter\"},\"selection_glyph\":{\"id\":\"1528\",\"type\":\"Scatter\"},\"view\":{\"id\":\"1532\",\"type\":\"CDSView\"}},\"id\":\"1531\",\"type\":\"GlyphRenderer\"}],\"root_ids\":[\"1491\"]},\"title\":\"Bokeh Application\",\"version\":\"1.2.0\"}};\n  var render_items = [{\"docid\":\"a1213719-0f62-4946-b25b-7b4e0fd5f77f\",\"roots\":{\"1491\":\"54a941d6-873f-474e-b571-8c323eeabd0d\"}}];\n  root.Bokeh.embed.embed_items_notebook(docs_json, render_items);\n\n  }\n  if (root.Bokeh !== undefined) {\n    embed_document(root);\n  } else {\n    var attempts = 0;\n    var timer = setInterval(function(root) {\n      if (root.Bokeh !== undefined) {\n        embed_document(root);\n        clearInterval(timer);\n      }\n      attempts++;\n      if (attempts > 100) {\n        console.log(\"Bokeh: ERROR: Unable to run BokehJS code because BokehJS library is missing\");\n        clearInterval(timer);\n      }\n    }, 10, root)\n  }\n})(window);</script>",
      "text/plain": ":Scatter   [TotalCoinsMined]   (TotalCoinSupply,Class,CoinName)"
     },
     "execution_count": 79,
     "metadata": {
      "application/vnd.holoviews_exec.v0+json": {
       "id": "1491"
      }
     },
     "output_type": "execute_result"
    }
   ],
   "source": [
    "# Plot the scatter with x=\"TotalCoinsMined\" and y=\"TotalCoinSupply\"\n",
    "clustered_df.hvplot(\n",
    "    kind=\"scatter\", \n",
    "    x=\"TotalCoinsMined\", \n",
    "    y=\"TotalCoinSupply\", \n",
    "    c='Class', \n",
    "    colormap=\"Inferno_r\", \n",
    "    hover_cols=['CoinName']\n",
    ")\n"
   ]
  },
  {
   "cell_type": "code",
   "execution_count": null,
   "metadata": {},
   "outputs": [],
   "source": []
  }
 ],
 "metadata": {
  "file_extension": ".py",
  "kernelspec": {
   "display_name": "Python 3",
   "language": "python",
   "name": "python3"
  },
  "language_info": {
   "codemirror_mode": {
    "name": "ipython",
    "version": 3
   },
   "file_extension": ".py",
   "mimetype": "text/x-python",
   "name": "python",
   "nbconvert_exporter": "python",
   "pygments_lexer": "ipython3",
   "version": "3.7.3"
  },
  "mimetype": "text/x-python",
  "name": "python",
  "npconvert_exporter": "python",
  "pygments_lexer": "ipython3",
  "version": 3
 },
 "nbformat": 4,
 "nbformat_minor": 2
}